{
  "nbformat": 4,
  "nbformat_minor": 0,
  "metadata": {
    "kernelspec": {
      "language": "python",
      "display_name": "Python 3",
      "name": "python3"
    },
    "language_info": {
      "pygments_lexer": "ipython3",
      "nbconvert_exporter": "python",
      "version": "3.6.4",
      "file_extension": ".py",
      "codemirror_mode": {
        "name": "ipython",
        "version": 3
      },
      "name": "python",
      "mimetype": "text/x-python"
    },
    "colab": {
      "name": "mlp-heart-attack-analysis-beginner-friendly.ipynb",
      "provenance": [],
      "collapsed_sections": [
        "-7b9lO3GZ3d5",
        "2JJrLKGKZ3d7",
        "mIcJxNLDZ3eP",
        "S9TYG4b_Z3eS",
        "7c2Di6fwZ3eS",
        "bWm3wMcPZ3eT",
        "79eLdbEpZ3eU",
        "Sfp1ZjqvZ3eV",
        "hZ62WuBKZ3eW",
        "KwrMWtFNZ3eX",
        "RWJRr3WYZ3eY",
        "XORIQRdxZ3eY",
        "oRlzCZEXZ3eZ",
        "8NvqR9WdZ3ea"
      ],
      "include_colab_link": true
    }
  },
  "cells": [
    {
      "cell_type": "markdown",
      "metadata": {
        "id": "view-in-github",
        "colab_type": "text"
      },
      "source": [
        "<a href=\"https://colab.research.google.com/github/mariyagolchin/Heart-diseases-Prediction-using-MachineLearning/blob/main/mlp_heart_attack_analysis_beginner_friendly.ipynb\" target=\"_parent\"><img src=\"https://colab.research.google.com/assets/colab-badge.svg\" alt=\"Open In Colab\"/></a>"
      ]
    },
    {
      "cell_type": "code",
      "metadata": {
        "_cell_guid": "b1076dfc-b9ad-4769-8c92-a6c4dae69d19",
        "_uuid": "8f2839f25d086af736a60e9eeb907d3b93b6e0e5",
        "papermill": {
          "duration": 0.100019,
          "end_time": "2021-09-04T20:58:46.4454",
          "exception": false,
          "start_time": "2021-09-04T20:58:46.345381",
          "status": "completed"
        },
        "tags": [],
        "execution": {
          "iopub.status.busy": "2021-09-04T21:11:12.317904Z",
          "iopub.execute_input": "2021-09-04T21:11:12.318626Z",
          "iopub.status.idle": "2021-09-04T21:11:12.343684Z",
          "shell.execute_reply.started": "2021-09-04T21:11:12.3185Z",
          "shell.execute_reply": "2021-09-04T21:11:12.342679Z"
        },
        "trusted": true,
        "id": "DfDSXZ79Z3dE"
      },
      "source": [
        "# This Python 3 environment comes with many helpful analytics libraries installed\n",
        "# It is defined by the kaggle/python Docker image: https://github.com/kaggle/docker-python\n",
        "# For example, here's several helpful packages to load\n",
        "\n",
        "import numpy as np # linear algebra\n",
        "import pandas as pd # data processing, CSV file I/O (e.g. pd.read_csv)h\n",
        "\n",
        "# Input data files are available in the read-only \"../input/\" directory\n",
        "# For example, running this (by clicking run or pressing Shift+Enter) will list all files under the input directory\n",
        "\n",
        "import os\n",
        "for dirname, _, filenames in os.walk('/kaggle/input'):\n",
        "    for filename in filenames:\n",
        "        print(os.path.join(dirname, filename))\n",
        "\n",
        "# You can write up to 20GB to the current directory (/kaggle/working/) that gets preserved as output when you create a version using \"Save & Run All\" \n",
        "# You can also write temporary files to /kaggle/temp/, but they won't be saved outside of the current session"
      ],
      "execution_count": null,
      "outputs": []
    },
    {
      "cell_type": "code",
      "metadata": {
        "id": "6LoORP_gaD7F"
      },
      "source": [
        "from google.colab import drive\n",
        "drive.mount('/content/drive')"
      ],
      "execution_count": null,
      "outputs": []
    },
    {
      "cell_type": "markdown",
      "metadata": {
        "papermill": {
          "duration": 0.073763,
          "end_time": "2021-09-04T20:58:46.594738",
          "exception": false,
          "start_time": "2021-09-04T20:58:46.520975",
          "status": "completed"
        },
        "tags": [],
        "id": "e5Fn_vF0Z3dR"
      },
      "source": [
        "# Task 1 - Importing Libraries and Dataset"
      ]
    },
    {
      "cell_type": "code",
      "metadata": {
        "papermill": {
          "duration": 1.080797,
          "end_time": "2021-09-04T20:58:47.749289",
          "exception": false,
          "start_time": "2021-09-04T20:58:46.668492",
          "status": "completed"
        },
        "tags": [],
        "execution": {
          "iopub.status.busy": "2021-09-04T21:11:12.348234Z",
          "iopub.execute_input": "2021-09-04T21:11:12.34862Z",
          "iopub.status.idle": "2021-09-04T21:11:13.317105Z",
          "shell.execute_reply.started": "2021-09-04T21:11:12.34859Z",
          "shell.execute_reply": "2021-09-04T21:11:13.316173Z"
        },
        "trusted": true,
        "id": "nv5MMi43Z3dU"
      },
      "source": [
        "import numpy as np\n",
        "import pandas as pd\n",
        "import matplotlib.pyplot as plt\n",
        "%matplotlib inline\n",
        "%config Completer.use_jedi = False\n",
        "import seaborn as sns\n",
        "sns.set_style('whitegrid')\n",
        "plt.style.use('seaborn-deep')\n",
        "plt.style.use('fivethirtyeight')\n",
        "plt.rcParams['font.family'] = 'sans-serif'\n",
        "plt.rcParams['font.monospace'] = 'Ubunto Mono'\n",
        "plt.rcParams['font.size'] = 10\n",
        "plt.rcParams['axes.labelsize'] = 12\n",
        "plt.rcParams['axes.titlesize'] = 12\n",
        "plt.rcParams['xtick.labelsize'] = 8\n",
        "plt.rcParams['ytick.labelsize'] = 8\n",
        "plt.rcParams['legend.fontsize'] = 12\n",
        "plt.rcParams['figure.titlesize'] = 14\n",
        "plt.rcParams['figure.figsize'] = (16,10)\n",
        "import random\n",
        "random.seed(21)\n",
        "import warnings\n",
        "warnings.filterwarnings('ignore')\n",
        "pd.options.mode.chained_assignment = None\n",
        "pd.options.display.float_format = '{:.2f}'.format\n",
        "pd.set_option('display.max_columns', 200)\n",
        "pd.set_option('display.width', 400)"
      ],
      "execution_count": null,
      "outputs": []
    },
    {
      "cell_type": "code",
      "metadata": {
        "papermill": {
          "duration": 0.126619,
          "end_time": "2021-09-04T20:58:47.949541",
          "exception": false,
          "start_time": "2021-09-04T20:58:47.822922",
          "status": "completed"
        },
        "tags": [],
        "execution": {
          "iopub.status.busy": "2021-09-04T21:11:13.318676Z",
          "iopub.execute_input": "2021-09-04T21:11:13.319048Z",
          "iopub.status.idle": "2021-09-04T21:11:13.363629Z",
          "shell.execute_reply.started": "2021-09-04T21:11:13.31901Z",
          "shell.execute_reply": "2021-09-04T21:11:13.362797Z"
        },
        "trusted": true,
        "id": "nptKH6McZ3dW"
      },
      "source": [
        "df = pd.read_csv('/content/drive/MyDrive/KaggleData/HeartDiseasePrediction/heart.csv')\n",
        "df"
      ],
      "execution_count": null,
      "outputs": []
    },
    {
      "cell_type": "markdown",
      "metadata": {
        "papermill": {
          "duration": 0.078634,
          "end_time": "2021-09-04T20:58:48.115781",
          "exception": false,
          "start_time": "2021-09-04T20:58:48.037147",
          "status": "completed"
        },
        "tags": [],
        "id": "ITq3PX3PZ3dX"
      },
      "source": [
        "# Task 2 - Exploratory Data Analysis (EDA) "
      ]
    },
    {
      "cell_type": "code",
      "metadata": {
        "papermill": {
          "duration": 0.08356,
          "end_time": "2021-09-04T20:58:48.273582",
          "exception": false,
          "start_time": "2021-09-04T20:58:48.190022",
          "status": "completed"
        },
        "tags": [],
        "execution": {
          "iopub.status.busy": "2021-09-04T21:11:13.365031Z",
          "iopub.execute_input": "2021-09-04T21:11:13.365321Z",
          "iopub.status.idle": "2021-09-04T21:11:13.371858Z",
          "shell.execute_reply.started": "2021-09-04T21:11:13.365293Z",
          "shell.execute_reply": "2021-09-04T21:11:13.370873Z"
        },
        "trusted": true,
        "id": "mBoOjtmPZ3dX"
      },
      "source": [
        "df.shape"
      ],
      "execution_count": null,
      "outputs": []
    },
    {
      "cell_type": "markdown",
      "metadata": {
        "papermill": {
          "duration": 0.075061,
          "end_time": "2021-09-04T20:58:48.425139",
          "exception": false,
          "start_time": "2021-09-04T20:58:48.350078",
          "status": "completed"
        },
        "tags": [],
        "id": "DlO8Bl0qZ3dZ"
      },
      "source": [
        "Checking the number of unique values for each feature of dataset :"
      ]
    },
    {
      "cell_type": "code",
      "metadata": {
        "papermill": {
          "duration": 0.093382,
          "end_time": "2021-09-04T20:58:48.594099",
          "exception": false,
          "start_time": "2021-09-04T20:58:48.500717",
          "status": "completed"
        },
        "tags": [],
        "execution": {
          "iopub.status.busy": "2021-09-04T21:11:13.373258Z",
          "iopub.execute_input": "2021-09-04T21:11:13.373565Z",
          "iopub.status.idle": "2021-09-04T21:11:13.395238Z",
          "shell.execute_reply.started": "2021-09-04T21:11:13.373528Z",
          "shell.execute_reply": "2021-09-04T21:11:13.394422Z"
        },
        "trusted": true,
        "id": "mJmknUROZ3dc"
      },
      "source": [
        "df.nunique()"
      ],
      "execution_count": null,
      "outputs": []
    },
    {
      "cell_type": "markdown",
      "metadata": {
        "papermill": {
          "duration": 0.074376,
          "end_time": "2021-09-04T20:58:48.743763",
          "exception": false,
          "start_time": "2021-09-04T20:58:48.669387",
          "status": "completed"
        },
        "tags": [],
        "id": "xNtMEoOHZ3dd"
      },
      "source": [
        "If we carefully look from the above output, then we'll get to know that all features in this dataset are numerical features with some discrete valued features and some continuous valued features.\n",
        "\n",
        "Features with discrete values are age, sex, cp, fbs, restecg, exng, slp, caa, thall, output and rest are numerical features with values that can be assumed as continuous."
      ]
    },
    {
      "cell_type": "code",
      "metadata": {
        "papermill": {
          "duration": 0.095912,
          "end_time": "2021-09-04T20:58:48.914584",
          "exception": false,
          "start_time": "2021-09-04T20:58:48.818672",
          "status": "completed"
        },
        "tags": [],
        "execution": {
          "iopub.status.busy": "2021-09-04T21:11:13.396266Z",
          "iopub.execute_input": "2021-09-04T21:11:13.396522Z",
          "iopub.status.idle": "2021-09-04T21:11:13.416167Z",
          "shell.execute_reply.started": "2021-09-04T21:11:13.396497Z",
          "shell.execute_reply": "2021-09-04T21:11:13.4152Z"
        },
        "trusted": true,
        "id": "eYQm3aBPZ3de"
      },
      "source": [
        "df.info()"
      ],
      "execution_count": null,
      "outputs": []
    },
    {
      "cell_type": "code",
      "metadata": {
        "papermill": {
          "duration": 0.106868,
          "end_time": "2021-09-04T20:58:49.096629",
          "exception": false,
          "start_time": "2021-09-04T20:58:48.989761",
          "status": "completed"
        },
        "tags": [],
        "execution": {
          "iopub.status.busy": "2021-09-04T21:11:13.417461Z",
          "iopub.execute_input": "2021-09-04T21:11:13.417746Z",
          "iopub.status.idle": "2021-09-04T21:11:13.424947Z",
          "shell.execute_reply.started": "2021-09-04T21:11:13.41772Z",
          "shell.execute_reply": "2021-09-04T21:11:13.424116Z"
        },
        "trusted": true,
        "id": "PCrlaXeKZ3dg"
      },
      "source": [
        "## Checking the NULL values in the dataset\n",
        "df.isna().sum()"
      ],
      "execution_count": null,
      "outputs": []
    },
    {
      "cell_type": "code",
      "metadata": {
        "papermill": {
          "duration": 0.121984,
          "end_time": "2021-09-04T20:58:49.300055",
          "exception": false,
          "start_time": "2021-09-04T20:58:49.178071",
          "status": "completed"
        },
        "tags": [],
        "execution": {
          "iopub.status.busy": "2021-09-04T21:11:13.426073Z",
          "iopub.execute_input": "2021-09-04T21:11:13.426539Z",
          "iopub.status.idle": "2021-09-04T21:11:13.48346Z",
          "shell.execute_reply.started": "2021-09-04T21:11:13.4265Z",
          "shell.execute_reply": "2021-09-04T21:11:13.482483Z"
        },
        "trusted": true,
        "id": "cs_VbLsaZ3dh"
      },
      "source": [
        "## Statistics of the dataset\n",
        "df.describe()"
      ],
      "execution_count": null,
      "outputs": []
    },
    {
      "cell_type": "code",
      "metadata": {
        "papermill": {
          "duration": 0.782701,
          "end_time": "2021-09-04T20:58:50.159379",
          "exception": false,
          "start_time": "2021-09-04T20:58:49.376678",
          "status": "completed"
        },
        "tags": [],
        "execution": {
          "iopub.status.busy": "2021-09-04T21:11:13.486965Z",
          "iopub.execute_input": "2021-09-04T21:11:13.487385Z",
          "iopub.status.idle": "2021-09-04T21:11:14.300295Z",
          "shell.execute_reply.started": "2021-09-04T21:11:13.487343Z",
          "shell.execute_reply": "2021-09-04T21:11:14.297012Z"
        },
        "trusted": true,
        "id": "j5EpoPicZ3dj"
      },
      "source": [
        "## Correlation plot\n",
        "corr = df.corr()\n",
        "plt.figure(figsize=(10,10))\n",
        "mask = np.zeros_like(corr,dtype=np.bool)\n",
        "mask[np.triu_indices_from(mask)] = True\n",
        "sns.heatmap(corr,mask=mask,annot=True)\n",
        "plt.show()"
      ],
      "execution_count": null,
      "outputs": []
    },
    {
      "cell_type": "markdown",
      "metadata": {
        "papermill": {
          "duration": 0.078799,
          "end_time": "2021-09-04T20:58:50.316524",
          "exception": false,
          "start_time": "2021-09-04T20:58:50.237725",
          "status": "completed"
        },
        "tags": [],
        "id": "TekRBfeOZ3dk"
      },
      "source": [
        "From the above plot we can conclude that the output is moderately correlated with features like 'cp','thalachh','exng','oldpeak','slp','caa','thall'. Further in this kernel, we are going to analysis every feature with respect to output and other features."
      ]
    },
    {
      "cell_type": "code",
      "metadata": {
        "papermill": {
          "duration": 46.070891,
          "end_time": "2021-09-04T20:59:36.465175",
          "exception": false,
          "start_time": "2021-09-04T20:58:50.394284",
          "status": "completed"
        },
        "tags": [],
        "execution": {
          "iopub.status.busy": "2021-09-04T21:11:14.302177Z",
          "iopub.execute_input": "2021-09-04T21:11:14.30254Z",
          "iopub.status.idle": "2021-09-04T21:12:04.537354Z",
          "shell.execute_reply.started": "2021-09-04T21:11:14.302499Z",
          "shell.execute_reply": "2021-09-04T21:12:04.53621Z"
        },
        "trusted": true,
        "id": "jtNB-0PwZ3dl"
      },
      "source": [
        "## Pairplot\n",
        "sns.pairplot(df,diag_kind='kde',hue='target')"
      ],
      "execution_count": null,
      "outputs": []
    },
    {
      "cell_type": "markdown",
      "metadata": {
        "papermill": {
          "duration": 0.112073,
          "end_time": "2021-09-04T20:59:36.691046",
          "exception": false,
          "start_time": "2021-09-04T20:59:36.578973",
          "status": "completed"
        },
        "tags": [],
        "id": "XYdS4xlTZ3dl"
      },
      "source": [
        "From here onwards, we are going to perform both univariate and multivariate analysis on every feature of the dataset in order to have insights above the data."
      ]
    },
    {
      "cell_type": "code",
      "metadata": {
        "papermill": {
          "duration": 0.123245,
          "end_time": "2021-09-04T20:59:36.92863",
          "exception": false,
          "start_time": "2021-09-04T20:59:36.805385",
          "status": "completed"
        },
        "tags": [],
        "execution": {
          "iopub.status.busy": "2021-09-04T21:12:04.538546Z",
          "iopub.execute_input": "2021-09-04T21:12:04.538833Z",
          "iopub.status.idle": "2021-09-04T21:12:04.546134Z",
          "shell.execute_reply.started": "2021-09-04T21:12:04.538804Z",
          "shell.execute_reply": "2021-09-04T21:12:04.545259Z"
        },
        "trusted": true,
        "id": "dWBHWK-2Z3dm"
      },
      "source": [
        "df['target'].value_counts()"
      ],
      "execution_count": null,
      "outputs": []
    },
    {
      "cell_type": "markdown",
      "metadata": {
        "papermill": {
          "duration": 0.111543,
          "end_time": "2021-09-04T20:59:37.155328",
          "exception": false,
          "start_time": "2021-09-04T20:59:37.043785",
          "status": "completed"
        },
        "tags": [],
        "id": "mI7CI3KbZ3dm"
      },
      "source": [
        "There are 138 negative instances and 165 positive instances. Thus, this dataset is not imbalanced otherwise we have to make arrangements for handling the imbalanced dataset."
      ]
    },
    {
      "cell_type": "code",
      "metadata": {
        "papermill": {
          "duration": 0.168637,
          "end_time": "2021-09-04T20:59:37.435211",
          "exception": false,
          "start_time": "2021-09-04T20:59:37.266574",
          "status": "completed"
        },
        "tags": [],
        "execution": {
          "iopub.status.busy": "2021-09-04T21:12:04.547256Z",
          "iopub.execute_input": "2021-09-04T21:12:04.547564Z",
          "iopub.status.idle": "2021-09-04T21:12:04.557956Z",
          "shell.execute_reply.started": "2021-09-04T21:12:04.547537Z",
          "shell.execute_reply": "2021-09-04T21:12:04.557064Z"
        },
        "trusted": true,
        "id": "bjOhioc1Z3dn"
      },
      "source": [
        "## Functions for creating barplot and for adding labels on the respective bars\n",
        "def addlabels(x,y,df):\n",
        "    for i in range(len(x)):\n",
        "        plt.text(i,y[i]+5,str(np.round((y[i]/df.shape[0])*100,1)) + \"%\")\n",
        "def barplot(df,feature):\n",
        "    plt.figure(figsize=(8,4))\n",
        "    y = df[feature].value_counts().sort_index(ascending=True).values\n",
        "    x = list(df[feature].value_counts().sort_index(ascending=True).index)\n",
        "    addlabels(x,y,df)\n",
        "    sns.countplot(df[feature])"
      ],
      "execution_count": null,
      "outputs": []
    },
    {
      "cell_type": "markdown",
      "metadata": {
        "papermill": {
          "duration": 0.109746,
          "end_time": "2021-09-04T20:59:37.655443",
          "exception": false,
          "start_time": "2021-09-04T20:59:37.545697",
          "status": "completed"
        },
        "tags": [],
        "id": "oz8GWM2qZ3do"
      },
      "source": [
        "### Barplot of Feature \"Output\""
      ]
    },
    {
      "cell_type": "code",
      "metadata": {
        "papermill": {
          "duration": 0.273237,
          "end_time": "2021-09-04T20:59:38.038672",
          "exception": false,
          "start_time": "2021-09-04T20:59:37.765435",
          "status": "completed"
        },
        "tags": [],
        "execution": {
          "iopub.status.busy": "2021-09-04T21:12:04.559323Z",
          "iopub.execute_input": "2021-09-04T21:12:04.559615Z",
          "iopub.status.idle": "2021-09-04T21:12:04.732649Z",
          "shell.execute_reply.started": "2021-09-04T21:12:04.559588Z",
          "shell.execute_reply": "2021-09-04T21:12:04.731795Z"
        },
        "trusted": true,
        "id": "f2led-hTZ3do"
      },
      "source": [
        "barplot(df,'target')"
      ],
      "execution_count": null,
      "outputs": []
    },
    {
      "cell_type": "markdown",
      "metadata": {
        "papermill": {
          "duration": 0.115315,
          "end_time": "2021-09-04T20:59:38.266079",
          "exception": false,
          "start_time": "2021-09-04T20:59:38.150764",
          "status": "completed"
        },
        "tags": [],
        "id": "LCXZ7__iZ3dp"
      },
      "source": [
        "### Feature \"age\""
      ]
    },
    {
      "cell_type": "code",
      "metadata": {
        "papermill": {
          "duration": 0.122747,
          "end_time": "2021-09-04T20:59:38.50156",
          "exception": false,
          "start_time": "2021-09-04T20:59:38.378813",
          "status": "completed"
        },
        "tags": [],
        "execution": {
          "iopub.status.busy": "2021-09-04T21:12:04.73382Z",
          "iopub.execute_input": "2021-09-04T21:12:04.734113Z",
          "iopub.status.idle": "2021-09-04T21:12:04.740729Z",
          "shell.execute_reply.started": "2021-09-04T21:12:04.734063Z",
          "shell.execute_reply": "2021-09-04T21:12:04.739675Z"
        },
        "trusted": true,
        "id": "Zp9HhNasZ3dq"
      },
      "source": [
        "df['age']"
      ],
      "execution_count": null,
      "outputs": []
    },
    {
      "cell_type": "code",
      "metadata": {
        "papermill": {
          "duration": 0.273817,
          "end_time": "2021-09-04T20:59:38.886571",
          "exception": false,
          "start_time": "2021-09-04T20:59:38.612754",
          "status": "completed"
        },
        "tags": [],
        "execution": {
          "iopub.status.busy": "2021-09-04T21:12:04.741833Z",
          "iopub.execute_input": "2021-09-04T21:12:04.742079Z",
          "iopub.status.idle": "2021-09-04T21:12:04.918765Z",
          "shell.execute_reply.started": "2021-09-04T21:12:04.742055Z",
          "shell.execute_reply": "2021-09-04T21:12:04.918134Z"
        },
        "trusted": true,
        "id": "fx5i1JU4Z3dr"
      },
      "source": [
        "plt.figure(figsize=(10,6))\n",
        "sns.boxplot(x = \"target\",y = \"age\",data = df)"
      ],
      "execution_count": null,
      "outputs": []
    },
    {
      "cell_type": "markdown",
      "metadata": {
        "papermill": {
          "duration": 0.113687,
          "end_time": "2021-09-04T20:59:39.115938",
          "exception": false,
          "start_time": "2021-09-04T20:59:39.002251",
          "status": "completed"
        },
        "tags": [],
        "id": "7Ekf5aVDZ3dr"
      },
      "source": [
        "Since dataset is small and the outliers are very less in the feature \"age\" and not much extreme, so we need not to make changes."
      ]
    },
    {
      "cell_type": "code",
      "metadata": {
        "papermill": {
          "duration": 0.122879,
          "end_time": "2021-09-04T20:59:39.354082",
          "exception": false,
          "start_time": "2021-09-04T20:59:39.231203",
          "status": "completed"
        },
        "tags": [],
        "execution": {
          "iopub.status.busy": "2021-09-04T21:12:04.919671Z",
          "iopub.execute_input": "2021-09-04T21:12:04.920017Z",
          "iopub.status.idle": "2021-09-04T21:12:04.927125Z",
          "shell.execute_reply.started": "2021-09-04T21:12:04.919991Z",
          "shell.execute_reply": "2021-09-04T21:12:04.926141Z"
        },
        "trusted": true,
        "id": "zn6p1L0mZ3ds"
      },
      "source": [
        "## Total unique values with their frequencies\n",
        "df['age'].value_counts()"
      ],
      "execution_count": null,
      "outputs": []
    },
    {
      "cell_type": "code",
      "metadata": {
        "papermill": {
          "duration": 0.123126,
          "end_time": "2021-09-04T20:59:39.591518",
          "exception": false,
          "start_time": "2021-09-04T20:59:39.468392",
          "status": "completed"
        },
        "tags": [],
        "execution": {
          "iopub.status.busy": "2021-09-04T21:12:04.928147Z",
          "iopub.execute_input": "2021-09-04T21:12:04.928408Z",
          "iopub.status.idle": "2021-09-04T21:12:04.937203Z",
          "shell.execute_reply.started": "2021-09-04T21:12:04.928383Z",
          "shell.execute_reply": "2021-09-04T21:12:04.936333Z"
        },
        "trusted": true,
        "id": "USv_9RVuZ3ds"
      },
      "source": [
        "age = df['age'].value_counts().sort_index(ascending=True)"
      ],
      "execution_count": null,
      "outputs": []
    },
    {
      "cell_type": "code",
      "metadata": {
        "papermill": {
          "duration": 0.783946,
          "end_time": "2021-09-04T20:59:40.490645",
          "exception": false,
          "start_time": "2021-09-04T20:59:39.706699",
          "status": "completed"
        },
        "tags": [],
        "execution": {
          "iopub.status.busy": "2021-09-04T21:12:04.938338Z",
          "iopub.execute_input": "2021-09-04T21:12:04.938602Z",
          "iopub.status.idle": "2021-09-04T21:12:05.68955Z",
          "shell.execute_reply.started": "2021-09-04T21:12:04.938577Z",
          "shell.execute_reply": "2021-09-04T21:12:05.688583Z"
        },
        "trusted": true,
        "id": "8WP7lNNMZ3dt"
      },
      "source": [
        "sns.countplot(x = df['age'])"
      ],
      "execution_count": null,
      "outputs": []
    },
    {
      "cell_type": "markdown",
      "metadata": {
        "papermill": {
          "duration": 0.115961,
          "end_time": "2021-09-04T20:59:40.723916",
          "exception": false,
          "start_time": "2021-09-04T20:59:40.607955",
          "status": "completed"
        },
        "tags": [],
        "id": "4HgJGR74Z3dt"
      },
      "source": [
        "From the above plot, most of the persons in this dataset are having age in between 41 - 67 years."
      ]
    },
    {
      "cell_type": "code",
      "metadata": {
        "papermill": {
          "duration": 0.959946,
          "end_time": "2021-09-04T20:59:41.798333",
          "exception": false,
          "start_time": "2021-09-04T20:59:40.838387",
          "status": "completed"
        },
        "tags": [],
        "execution": {
          "iopub.status.busy": "2021-09-04T21:12:05.690585Z",
          "iopub.execute_input": "2021-09-04T21:12:05.690845Z",
          "iopub.status.idle": "2021-09-04T21:12:06.659011Z",
          "shell.execute_reply.started": "2021-09-04T21:12:05.690819Z",
          "shell.execute_reply": "2021-09-04T21:12:06.657916Z"
        },
        "trusted": true,
        "id": "BEdnUU95Z3du"
      },
      "source": [
        "## Countplot of the feature \"age\" with respect to output.\n",
        "sns.countplot(x = df['age'],hue=df['target'])"
      ],
      "execution_count": null,
      "outputs": []
    },
    {
      "cell_type": "markdown",
      "metadata": {
        "papermill": {
          "duration": 0.120184,
          "end_time": "2021-09-04T20:59:42.037292",
          "exception": false,
          "start_time": "2021-09-04T20:59:41.917108",
          "status": "completed"
        },
        "tags": [],
        "id": "44n-zFvzZ3du"
      },
      "source": [
        "Looks like persons having age 41,44,51,52,54 years, have more chances of heart attack than others."
      ]
    },
    {
      "cell_type": "code",
      "metadata": {
        "papermill": {
          "duration": 0.312927,
          "end_time": "2021-09-04T20:59:42.465743",
          "exception": false,
          "start_time": "2021-09-04T20:59:42.152816",
          "status": "completed"
        },
        "tags": [],
        "execution": {
          "iopub.status.busy": "2021-09-04T21:12:06.660388Z",
          "iopub.execute_input": "2021-09-04T21:12:06.660822Z",
          "iopub.status.idle": "2021-09-04T21:12:06.873708Z",
          "shell.execute_reply.started": "2021-09-04T21:12:06.660781Z",
          "shell.execute_reply": "2021-09-04T21:12:06.873096Z"
        },
        "trusted": true,
        "id": "W0C1Tr6WZ3dv"
      },
      "source": [
        "## Age distribution of can Heart attack\n",
        "plt.figure(figsize = (15,5))\n",
        "plt.plot(age)\n",
        "plt.xlabel(\"Age of the person\")\n",
        "plt.ylabel(\"Frequency count of ages\")\n",
        "plt.title(\"Age distribution of Heart attack dataset\")\n",
        "plt.show()"
      ],
      "execution_count": null,
      "outputs": []
    },
    {
      "cell_type": "code",
      "metadata": {
        "papermill": {
          "duration": 0.131726,
          "end_time": "2021-09-04T20:59:42.716544",
          "exception": false,
          "start_time": "2021-09-04T20:59:42.584818",
          "status": "completed"
        },
        "tags": [],
        "execution": {
          "iopub.status.busy": "2021-09-04T21:12:06.874905Z",
          "iopub.execute_input": "2021-09-04T21:12:06.875455Z",
          "iopub.status.idle": "2021-09-04T21:12:06.885374Z",
          "shell.execute_reply.started": "2021-09-04T21:12:06.875413Z",
          "shell.execute_reply": "2021-09-04T21:12:06.8844Z"
        },
        "trusted": true,
        "id": "zdZyDvlQZ3dv"
      },
      "source": [
        "age_0 = df[df['target'] == 0]['age'].value_counts().sort_index(ascending=True)\n",
        "age_1 = df[df['target'] == 1]['age'].value_counts().sort_index(ascending=True)"
      ],
      "execution_count": null,
      "outputs": []
    },
    {
      "cell_type": "code",
      "metadata": {
        "papermill": {
          "duration": 0.341645,
          "end_time": "2021-09-04T20:59:43.175424",
          "exception": false,
          "start_time": "2021-09-04T20:59:42.833779",
          "status": "completed"
        },
        "tags": [],
        "execution": {
          "iopub.status.busy": "2021-09-04T21:12:06.886618Z",
          "iopub.execute_input": "2021-09-04T21:12:06.886882Z",
          "iopub.status.idle": "2021-09-04T21:12:07.140818Z",
          "shell.execute_reply.started": "2021-09-04T21:12:06.886857Z",
          "shell.execute_reply": "2021-09-04T21:12:07.140118Z"
        },
        "trusted": true,
        "id": "WSVQLG2_Z3dv"
      },
      "source": [
        "plt.figure(figsize = (15,5))\n",
        "plt.plot(age_0,c='c',label=\"didn't get heart attack\")\n",
        "plt.plot(age_1,c='r',label='get heart attack')\n",
        "plt.xlabel(\"Age of the person\")\n",
        "plt.ylabel(\"Frequency count of ages\")\n",
        "plt.title(\"Age distribution of Heart attack dataset\")\n",
        "plt.legend()\n",
        "plt.show()"
      ],
      "execution_count": null,
      "outputs": []
    },
    {
      "cell_type": "markdown",
      "metadata": {
        "papermill": {
          "duration": 0.120602,
          "end_time": "2021-09-04T20:59:43.416063",
          "exception": false,
          "start_time": "2021-09-04T20:59:43.295461",
          "status": "completed"
        },
        "tags": [],
        "id": "08_voyLkZ3dw"
      },
      "source": [
        "### Feature \"Sex\""
      ]
    },
    {
      "cell_type": "code",
      "metadata": {
        "papermill": {
          "duration": 0.126023,
          "end_time": "2021-09-04T20:59:43.659731",
          "exception": false,
          "start_time": "2021-09-04T20:59:43.533708",
          "status": "completed"
        },
        "tags": [],
        "execution": {
          "iopub.status.busy": "2021-09-04T21:12:07.141864Z",
          "iopub.execute_input": "2021-09-04T21:12:07.142245Z",
          "iopub.status.idle": "2021-09-04T21:12:07.14934Z",
          "shell.execute_reply.started": "2021-09-04T21:12:07.142217Z",
          "shell.execute_reply": "2021-09-04T21:12:07.148465Z"
        },
        "trusted": true,
        "id": "cMKunep0Z3dw"
      },
      "source": [
        "df['sex']"
      ],
      "execution_count": null,
      "outputs": []
    },
    {
      "cell_type": "code",
      "metadata": {
        "papermill": {
          "duration": 0.130088,
          "end_time": "2021-09-04T20:59:43.908468",
          "exception": false,
          "start_time": "2021-09-04T20:59:43.77838",
          "status": "completed"
        },
        "tags": [],
        "execution": {
          "iopub.status.busy": "2021-09-04T21:12:07.155216Z",
          "iopub.execute_input": "2021-09-04T21:12:07.155503Z",
          "iopub.status.idle": "2021-09-04T21:12:07.164514Z",
          "shell.execute_reply.started": "2021-09-04T21:12:07.155477Z",
          "shell.execute_reply": "2021-09-04T21:12:07.163909Z"
        },
        "trusted": true,
        "id": "unSUP-drZ3dx"
      },
      "source": [
        "df['sex'].value_counts()"
      ],
      "execution_count": null,
      "outputs": []
    },
    {
      "cell_type": "code",
      "metadata": {
        "papermill": {
          "duration": 0.286197,
          "end_time": "2021-09-04T20:59:44.327503",
          "exception": false,
          "start_time": "2021-09-04T20:59:44.041306",
          "status": "completed"
        },
        "tags": [],
        "execution": {
          "iopub.status.busy": "2021-09-04T21:12:07.166641Z",
          "iopub.execute_input": "2021-09-04T21:12:07.166997Z",
          "iopub.status.idle": "2021-09-04T21:12:07.333593Z",
          "shell.execute_reply.started": "2021-09-04T21:12:07.16697Z",
          "shell.execute_reply": "2021-09-04T21:12:07.332974Z"
        },
        "trusted": true,
        "id": "g_cN9JfEZ3dx"
      },
      "source": [
        "barplot(df,'sex')"
      ],
      "execution_count": null,
      "outputs": []
    },
    {
      "cell_type": "markdown",
      "metadata": {
        "papermill": {
          "duration": 0.118232,
          "end_time": "2021-09-04T20:59:44.563622",
          "exception": false,
          "start_time": "2021-09-04T20:59:44.44539",
          "status": "completed"
        },
        "tags": [],
        "id": "L-yGRLSEZ3dx"
      },
      "source": [
        "Hence, this dataset contains more instances of one gender than other."
      ]
    },
    {
      "cell_type": "code",
      "metadata": {
        "papermill": {
          "duration": 0.514375,
          "end_time": "2021-09-04T20:59:45.196163",
          "exception": false,
          "start_time": "2021-09-04T20:59:44.681788",
          "status": "completed"
        },
        "tags": [],
        "execution": {
          "iopub.status.busy": "2021-09-04T21:12:07.334486Z",
          "iopub.execute_input": "2021-09-04T21:12:07.33487Z",
          "iopub.status.idle": "2021-09-04T21:12:08.090935Z",
          "shell.execute_reply.started": "2021-09-04T21:12:07.334842Z",
          "shell.execute_reply": "2021-09-04T21:12:08.090026Z"
        },
        "trusted": true,
        "id": "gKZ6yGmfZ3dy"
      },
      "source": [
        "sns.catplot(x='target',y='age',hue='sex',data=df,kind='bar')"
      ],
      "execution_count": null,
      "outputs": []
    },
    {
      "cell_type": "markdown",
      "metadata": {
        "papermill": {
          "duration": 0.11808,
          "end_time": "2021-09-04T20:59:45.432928",
          "exception": false,
          "start_time": "2021-09-04T20:59:45.314848",
          "status": "completed"
        },
        "tags": [],
        "id": "tKSxn3q1Z3dy"
      },
      "source": [
        "### Feature \"Cp\""
      ]
    },
    {
      "cell_type": "code",
      "metadata": {
        "papermill": {
          "duration": 0.129022,
          "end_time": "2021-09-04T20:59:45.680649",
          "exception": false,
          "start_time": "2021-09-04T20:59:45.551627",
          "status": "completed"
        },
        "tags": [],
        "execution": {
          "iopub.status.busy": "2021-09-04T21:12:08.092219Z",
          "iopub.execute_input": "2021-09-04T21:12:08.092489Z",
          "iopub.status.idle": "2021-09-04T21:12:08.099847Z",
          "shell.execute_reply.started": "2021-09-04T21:12:08.092463Z",
          "shell.execute_reply": "2021-09-04T21:12:08.098951Z"
        },
        "trusted": true,
        "id": "yFSTWLRVZ3dy"
      },
      "source": [
        "df['cp']"
      ],
      "execution_count": null,
      "outputs": []
    },
    {
      "cell_type": "code",
      "metadata": {
        "papermill": {
          "duration": 0.127629,
          "end_time": "2021-09-04T20:59:45.928037",
          "exception": false,
          "start_time": "2021-09-04T20:59:45.800408",
          "status": "completed"
        },
        "tags": [],
        "execution": {
          "iopub.status.busy": "2021-09-04T21:12:08.101278Z",
          "iopub.execute_input": "2021-09-04T21:12:08.101551Z",
          "iopub.status.idle": "2021-09-04T21:12:08.113544Z",
          "shell.execute_reply.started": "2021-09-04T21:12:08.101526Z",
          "shell.execute_reply": "2021-09-04T21:12:08.112781Z"
        },
        "trusted": true,
        "id": "m5XSIp8BZ3dz"
      },
      "source": [
        "df['cp'].value_counts()"
      ],
      "execution_count": null,
      "outputs": []
    },
    {
      "cell_type": "code",
      "metadata": {
        "papermill": {
          "duration": 0.570024,
          "end_time": "2021-09-04T20:59:46.617471",
          "exception": false,
          "start_time": "2021-09-04T20:59:46.047447",
          "status": "completed"
        },
        "tags": [],
        "execution": {
          "iopub.status.busy": "2021-09-04T21:12:08.114881Z",
          "iopub.execute_input": "2021-09-04T21:12:08.115222Z",
          "iopub.status.idle": "2021-09-04T21:12:08.305306Z",
          "shell.execute_reply.started": "2021-09-04T21:12:08.115194Z",
          "shell.execute_reply": "2021-09-04T21:12:08.304456Z"
        },
        "trusted": true,
        "id": "6Z_Nj6kGZ3dz"
      },
      "source": [
        "barplot(df,'cp')"
      ],
      "execution_count": null,
      "outputs": []
    },
    {
      "cell_type": "markdown",
      "metadata": {
        "papermill": {
          "duration": 0.146365,
          "end_time": "2021-09-04T20:59:46.884737",
          "exception": false,
          "start_time": "2021-09-04T20:59:46.738372",
          "status": "completed"
        },
        "tags": [],
        "id": "iZqA1OyqZ3dz"
      },
      "source": [
        "Feature \"cp\" is distributed over 4 categories."
      ]
    },
    {
      "cell_type": "code",
      "metadata": {
        "papermill": {
          "duration": 0.742972,
          "end_time": "2021-09-04T20:59:47.764069",
          "exception": false,
          "start_time": "2021-09-04T20:59:47.021097",
          "status": "completed"
        },
        "tags": [],
        "execution": {
          "iopub.status.busy": "2021-09-04T21:12:08.306496Z",
          "iopub.execute_input": "2021-09-04T21:12:08.306773Z",
          "iopub.status.idle": "2021-09-04T21:12:08.950588Z",
          "shell.execute_reply.started": "2021-09-04T21:12:08.306737Z",
          "shell.execute_reply": "2021-09-04T21:12:08.949778Z"
        },
        "trusted": true,
        "id": "6ioQTo92Z3d0"
      },
      "source": [
        "sns.catplot(x='cp',y='age',hue='target',data=df,kind='bar')"
      ],
      "execution_count": null,
      "outputs": []
    },
    {
      "cell_type": "markdown",
      "metadata": {
        "papermill": {
          "duration": 0.123542,
          "end_time": "2021-09-04T20:59:48.008874",
          "exception": false,
          "start_time": "2021-09-04T20:59:47.885332",
          "status": "completed"
        },
        "tags": [],
        "id": "yI9_6GRlZ3d0"
      },
      "source": [
        "### Feature \"trtbps\""
      ]
    },
    {
      "cell_type": "code",
      "metadata": {
        "papermill": {
          "duration": 0.130808,
          "end_time": "2021-09-04T20:59:48.262026",
          "exception": false,
          "start_time": "2021-09-04T20:59:48.131218",
          "status": "completed"
        },
        "tags": [],
        "execution": {
          "iopub.status.busy": "2021-09-04T21:12:08.951909Z",
          "iopub.execute_input": "2021-09-04T21:12:08.952317Z",
          "iopub.status.idle": "2021-09-04T21:12:08.960709Z",
          "shell.execute_reply.started": "2021-09-04T21:12:08.952259Z",
          "shell.execute_reply": "2021-09-04T21:12:08.959855Z"
        },
        "trusted": true,
        "id": "PsufPJUvZ3d0"
      },
      "source": [
        "df['trestbps']"
      ],
      "execution_count": null,
      "outputs": []
    },
    {
      "cell_type": "code",
      "metadata": {
        "papermill": {
          "duration": 0.132261,
          "end_time": "2021-09-04T20:59:48.517356",
          "exception": false,
          "start_time": "2021-09-04T20:59:48.385095",
          "status": "completed"
        },
        "tags": [],
        "execution": {
          "iopub.status.busy": "2021-09-04T21:12:08.961912Z",
          "iopub.execute_input": "2021-09-04T21:12:08.962202Z",
          "iopub.status.idle": "2021-09-04T21:12:08.974522Z",
          "shell.execute_reply.started": "2021-09-04T21:12:08.962172Z",
          "shell.execute_reply": "2021-09-04T21:12:08.973511Z"
        },
        "trusted": true,
        "id": "2-fyasfDZ3d0"
      },
      "source": [
        "df['trestbps'].value_counts()"
      ],
      "execution_count": null,
      "outputs": []
    },
    {
      "cell_type": "code",
      "metadata": {
        "papermill": {
          "duration": 0.449692,
          "end_time": "2021-09-04T20:59:49.088572",
          "exception": false,
          "start_time": "2021-09-04T20:59:48.63888",
          "status": "completed"
        },
        "tags": [],
        "execution": {
          "iopub.status.busy": "2021-09-04T21:12:08.975828Z",
          "iopub.execute_input": "2021-09-04T21:12:08.976187Z",
          "iopub.status.idle": "2021-09-04T21:12:09.321331Z",
          "shell.execute_reply.started": "2021-09-04T21:12:08.97616Z",
          "shell.execute_reply": "2021-09-04T21:12:09.320399Z"
        },
        "trusted": true,
        "id": "CGHPDnfLZ3d1"
      },
      "source": [
        "sns.distplot(df['trestbps'])"
      ],
      "execution_count": null,
      "outputs": []
    },
    {
      "cell_type": "markdown",
      "metadata": {
        "papermill": {
          "duration": 0.123756,
          "end_time": "2021-09-04T20:59:49.337484",
          "exception": false,
          "start_time": "2021-09-04T20:59:49.213728",
          "status": "completed"
        },
        "tags": [],
        "id": "cqXmLLDbZ3d1"
      },
      "source": [
        "Fairly Normal distributed feature with some positive skewness."
      ]
    },
    {
      "cell_type": "code",
      "metadata": {
        "papermill": {
          "duration": 0.837744,
          "end_time": "2021-09-04T20:59:50.298783",
          "exception": false,
          "start_time": "2021-09-04T20:59:49.461039",
          "status": "completed"
        },
        "tags": [],
        "execution": {
          "iopub.status.busy": "2021-09-04T21:12:09.322642Z",
          "iopub.execute_input": "2021-09-04T21:12:09.322934Z",
          "iopub.status.idle": "2021-09-04T21:12:10.077916Z",
          "shell.execute_reply.started": "2021-09-04T21:12:09.322905Z",
          "shell.execute_reply": "2021-09-04T21:12:10.077182Z"
        },
        "trusted": true,
        "id": "fkG6bci9Z3d1"
      },
      "source": [
        "sns.lmplot(x='age',y='trestbps',hue='target',data=df)"
      ],
      "execution_count": null,
      "outputs": []
    },
    {
      "cell_type": "code",
      "metadata": {
        "papermill": {
          "duration": 0.844594,
          "end_time": "2021-09-04T20:59:51.268624",
          "exception": false,
          "start_time": "2021-09-04T20:59:50.42403",
          "status": "completed"
        },
        "tags": [],
        "execution": {
          "iopub.status.busy": "2021-09-04T21:12:10.078962Z",
          "iopub.execute_input": "2021-09-04T21:12:10.079428Z",
          "iopub.status.idle": "2021-09-04T21:12:10.873804Z",
          "shell.execute_reply.started": "2021-09-04T21:12:10.079386Z",
          "shell.execute_reply": "2021-09-04T21:12:10.872709Z"
        },
        "trusted": true,
        "id": "XkwGD0PbZ3d2"
      },
      "source": [
        "sns.jointplot(x='age',y='trestbps',kind='reg',data=df)"
      ],
      "execution_count": null,
      "outputs": []
    },
    {
      "cell_type": "markdown",
      "metadata": {
        "papermill": {
          "duration": 0.126628,
          "end_time": "2021-09-04T20:59:51.523063",
          "exception": false,
          "start_time": "2021-09-04T20:59:51.396435",
          "status": "completed"
        },
        "tags": [],
        "id": "TC6m3eL5Z3d2"
      },
      "source": [
        "### Feature \"chol\""
      ]
    },
    {
      "cell_type": "code",
      "metadata": {
        "papermill": {
          "duration": 0.137873,
          "end_time": "2021-09-04T20:59:51.787636",
          "exception": false,
          "start_time": "2021-09-04T20:59:51.649763",
          "status": "completed"
        },
        "tags": [],
        "execution": {
          "iopub.status.busy": "2021-09-04T21:12:10.874951Z",
          "iopub.execute_input": "2021-09-04T21:12:10.87524Z",
          "iopub.status.idle": "2021-09-04T21:12:10.884217Z",
          "shell.execute_reply.started": "2021-09-04T21:12:10.875214Z",
          "shell.execute_reply": "2021-09-04T21:12:10.883108Z"
        },
        "trusted": true,
        "id": "ZOjgRIAcZ3d2"
      },
      "source": [
        "df['chol']"
      ],
      "execution_count": null,
      "outputs": []
    },
    {
      "cell_type": "code",
      "metadata": {
        "papermill": {
          "duration": 0.438913,
          "end_time": "2021-09-04T20:59:52.352985",
          "exception": false,
          "start_time": "2021-09-04T20:59:51.914072",
          "status": "completed"
        },
        "tags": [],
        "execution": {
          "iopub.status.busy": "2021-09-04T21:12:10.885637Z",
          "iopub.execute_input": "2021-09-04T21:12:10.885937Z",
          "iopub.status.idle": "2021-09-04T21:12:11.233109Z",
          "shell.execute_reply.started": "2021-09-04T21:12:10.8859Z",
          "shell.execute_reply": "2021-09-04T21:12:11.232077Z"
        },
        "trusted": true,
        "id": "oRONJagHZ3d3"
      },
      "source": [
        "sns.distplot(df['chol'])"
      ],
      "execution_count": null,
      "outputs": []
    },
    {
      "cell_type": "markdown",
      "metadata": {
        "papermill": {
          "duration": 0.127893,
          "end_time": "2021-09-04T20:59:52.609421",
          "exception": false,
          "start_time": "2021-09-04T20:59:52.481528",
          "status": "completed"
        },
        "tags": [],
        "id": "eLwycadhZ3d3"
      },
      "source": [
        "Can be assumed as normaly distributed with positive skewness."
      ]
    },
    {
      "cell_type": "code",
      "metadata": {
        "papermill": {
          "duration": 0.453202,
          "end_time": "2021-09-04T20:59:53.192014",
          "exception": false,
          "start_time": "2021-09-04T20:59:52.738812",
          "status": "completed"
        },
        "tags": [],
        "execution": {
          "iopub.status.busy": "2021-09-04T21:12:11.234811Z",
          "iopub.execute_input": "2021-09-04T21:12:11.235464Z",
          "iopub.status.idle": "2021-09-04T21:12:11.631622Z",
          "shell.execute_reply.started": "2021-09-04T21:12:11.235417Z",
          "shell.execute_reply": "2021-09-04T21:12:11.63068Z"
        },
        "trusted": true,
        "id": "4m_hh4qBZ3d4"
      },
      "source": [
        "sns.scatterplot(x='age',y='chol',hue='target',data=df)"
      ],
      "execution_count": null,
      "outputs": []
    },
    {
      "cell_type": "code",
      "metadata": {
        "papermill": {
          "duration": 0.872977,
          "end_time": "2021-09-04T20:59:54.205083",
          "exception": false,
          "start_time": "2021-09-04T20:59:53.332106",
          "status": "completed"
        },
        "tags": [],
        "execution": {
          "iopub.status.busy": "2021-09-04T21:12:11.632802Z",
          "iopub.execute_input": "2021-09-04T21:12:11.63307Z",
          "iopub.status.idle": "2021-09-04T21:12:12.412268Z",
          "shell.execute_reply.started": "2021-09-04T21:12:11.633044Z",
          "shell.execute_reply": "2021-09-04T21:12:12.411186Z"
        },
        "trusted": true,
        "id": "WtFgLZNwZ3d5"
      },
      "source": [
        "sns.jointplot(x='age',y='chol',kind='reg',data=df)"
      ],
      "execution_count": null,
      "outputs": []
    },
    {
      "cell_type": "markdown",
      "metadata": {
        "papermill": {
          "duration": 0.132074,
          "end_time": "2021-09-04T20:59:54.469902",
          "exception": false,
          "start_time": "2021-09-04T20:59:54.337828",
          "status": "completed"
        },
        "tags": [],
        "id": "-7b9lO3GZ3d5"
      },
      "source": [
        "### Feature \"fbs\""
      ]
    },
    {
      "cell_type": "code",
      "metadata": {
        "papermill": {
          "duration": 0.143435,
          "end_time": "2021-09-04T20:59:54.746192",
          "exception": false,
          "start_time": "2021-09-04T20:59:54.602757",
          "status": "completed"
        },
        "tags": [],
        "execution": {
          "iopub.status.busy": "2021-09-04T21:12:12.413471Z",
          "iopub.execute_input": "2021-09-04T21:12:12.413835Z",
          "iopub.status.idle": "2021-09-04T21:12:12.422008Z",
          "shell.execute_reply.started": "2021-09-04T21:12:12.413805Z",
          "shell.execute_reply": "2021-09-04T21:12:12.420974Z"
        },
        "trusted": true,
        "id": "qSIZAMPhZ3d6"
      },
      "source": [
        "df['fbs']"
      ],
      "execution_count": null,
      "outputs": []
    },
    {
      "cell_type": "code",
      "metadata": {
        "papermill": {
          "duration": 0.301568,
          "end_time": "2021-09-04T20:59:55.181284",
          "exception": false,
          "start_time": "2021-09-04T20:59:54.879716",
          "status": "completed"
        },
        "tags": [],
        "execution": {
          "iopub.status.busy": "2021-09-04T21:12:12.423629Z",
          "iopub.execute_input": "2021-09-04T21:12:12.424005Z",
          "iopub.status.idle": "2021-09-04T21:12:12.576204Z",
          "shell.execute_reply.started": "2021-09-04T21:12:12.423966Z",
          "shell.execute_reply": "2021-09-04T21:12:12.575149Z"
        },
        "trusted": true,
        "id": "9fG7DD_EZ3d6"
      },
      "source": [
        "barplot(df,'fbs')"
      ],
      "execution_count": null,
      "outputs": []
    },
    {
      "cell_type": "markdown",
      "metadata": {
        "papermill": {
          "duration": 0.131873,
          "end_time": "2021-09-04T20:59:55.445556",
          "exception": false,
          "start_time": "2021-09-04T20:59:55.313683",
          "status": "completed"
        },
        "tags": [],
        "id": "2JJrLKGKZ3d7"
      },
      "source": [
        "### Feature \"restecg\""
      ]
    },
    {
      "cell_type": "code",
      "metadata": {
        "papermill": {
          "duration": 0.302047,
          "end_time": "2021-09-04T20:59:55.880026",
          "exception": false,
          "start_time": "2021-09-04T20:59:55.577979",
          "status": "completed"
        },
        "tags": [],
        "execution": {
          "iopub.status.busy": "2021-09-04T21:12:12.577677Z",
          "iopub.execute_input": "2021-09-04T21:12:12.578059Z",
          "iopub.status.idle": "2021-09-04T21:12:12.757449Z",
          "shell.execute_reply.started": "2021-09-04T21:12:12.57802Z",
          "shell.execute_reply": "2021-09-04T21:12:12.756644Z"
        },
        "trusted": true,
        "id": "CeS2FRHTZ3d7"
      },
      "source": [
        "barplot(df,'restecg')"
      ],
      "execution_count": null,
      "outputs": []
    },
    {
      "cell_type": "markdown",
      "metadata": {
        "papermill": {
          "duration": 0.132814,
          "end_time": "2021-09-04T20:59:56.147228",
          "exception": false,
          "start_time": "2021-09-04T20:59:56.014414",
          "status": "completed"
        },
        "tags": [],
        "id": "kEZPes4sZ3d8"
      },
      "source": [
        "Very few instances having \"restecg\" value as 2 are present. They maybe because of error and therefore we are going to merge them into the majority category of value 1."
      ]
    },
    {
      "cell_type": "code",
      "metadata": {
        "papermill": {
          "duration": 0.143778,
          "end_time": "2021-09-04T20:59:56.423407",
          "exception": false,
          "start_time": "2021-09-04T20:59:56.279629",
          "status": "completed"
        },
        "tags": [],
        "execution": {
          "iopub.status.busy": "2021-09-04T21:12:12.758614Z",
          "iopub.execute_input": "2021-09-04T21:12:12.75888Z",
          "iopub.status.idle": "2021-09-04T21:12:12.766427Z",
          "shell.execute_reply.started": "2021-09-04T21:12:12.758854Z",
          "shell.execute_reply": "2021-09-04T21:12:12.765412Z"
        },
        "trusted": true,
        "id": "BhVOoJKfZ3d8"
      },
      "source": [
        "df['restecg'].value_counts()"
      ],
      "execution_count": null,
      "outputs": []
    },
    {
      "cell_type": "code",
      "metadata": {
        "papermill": {
          "duration": 0.140265,
          "end_time": "2021-09-04T20:59:56.696357",
          "exception": false,
          "start_time": "2021-09-04T20:59:56.556092",
          "status": "completed"
        },
        "tags": [],
        "execution": {
          "iopub.status.busy": "2021-09-04T21:12:12.767577Z",
          "iopub.execute_input": "2021-09-04T21:12:12.76784Z",
          "iopub.status.idle": "2021-09-04T21:12:12.776367Z",
          "shell.execute_reply.started": "2021-09-04T21:12:12.767815Z",
          "shell.execute_reply": "2021-09-04T21:12:12.77555Z"
        },
        "trusted": true,
        "id": "kdx_YwuWZ3d8"
      },
      "source": [
        "df['restecg'].replace([2],[1],inplace=True)"
      ],
      "execution_count": null,
      "outputs": []
    },
    {
      "cell_type": "code",
      "metadata": {
        "papermill": {
          "duration": 0.296815,
          "end_time": "2021-09-04T20:59:57.126546",
          "exception": false,
          "start_time": "2021-09-04T20:59:56.829731",
          "status": "completed"
        },
        "tags": [],
        "execution": {
          "iopub.status.busy": "2021-09-04T21:12:12.777369Z",
          "iopub.execute_input": "2021-09-04T21:12:12.777624Z",
          "iopub.status.idle": "2021-09-04T21:12:12.944354Z",
          "shell.execute_reply.started": "2021-09-04T21:12:12.7776Z",
          "shell.execute_reply": "2021-09-04T21:12:12.943729Z"
        },
        "trusted": true,
        "id": "8JBgPRC7Z3d8"
      },
      "source": [
        "barplot(df,'restecg')"
      ],
      "execution_count": null,
      "outputs": []
    },
    {
      "cell_type": "markdown",
      "metadata": {
        "papermill": {
          "duration": 0.135734,
          "end_time": "2021-09-04T20:59:57.397879",
          "exception": false,
          "start_time": "2021-09-04T20:59:57.262145",
          "status": "completed"
        },
        "tags": [],
        "id": "dWwR8fS4Z3d9"
      },
      "source": [
        "### Feature \"thalachh\""
      ]
    },
    {
      "cell_type": "code",
      "metadata": {
        "papermill": {
          "duration": 0.474895,
          "end_time": "2021-09-04T20:59:58.008911",
          "exception": false,
          "start_time": "2021-09-04T20:59:57.534016",
          "status": "completed"
        },
        "tags": [],
        "execution": {
          "iopub.status.busy": "2021-09-04T21:12:12.945348Z",
          "iopub.execute_input": "2021-09-04T21:12:12.945787Z",
          "iopub.status.idle": "2021-09-04T21:12:13.290538Z",
          "shell.execute_reply.started": "2021-09-04T21:12:12.945759Z",
          "shell.execute_reply": "2021-09-04T21:12:13.289888Z"
        },
        "trusted": true,
        "id": "5c1VHFHsZ3d9"
      },
      "source": [
        "sns.distplot(df['thalach'])"
      ],
      "execution_count": null,
      "outputs": []
    },
    {
      "cell_type": "markdown",
      "metadata": {
        "papermill": {
          "duration": 0.137995,
          "end_time": "2021-09-04T20:59:58.284291",
          "exception": false,
          "start_time": "2021-09-04T20:59:58.146296",
          "status": "completed"
        },
        "tags": [],
        "id": "fUp67QNQZ3d9"
      },
      "source": [
        "Normal distributed to some extent with negative skewness."
      ]
    },
    {
      "cell_type": "code",
      "metadata": {
        "papermill": {
          "duration": 0.484883,
          "end_time": "2021-09-04T20:59:58.905627",
          "exception": false,
          "start_time": "2021-09-04T20:59:58.420744",
          "status": "completed"
        },
        "tags": [],
        "execution": {
          "iopub.status.busy": "2021-09-04T21:12:13.291602Z",
          "iopub.execute_input": "2021-09-04T21:12:13.292035Z",
          "iopub.status.idle": "2021-09-04T21:12:13.659456Z",
          "shell.execute_reply.started": "2021-09-04T21:12:13.292007Z",
          "shell.execute_reply": "2021-09-04T21:12:13.658547Z"
        },
        "trusted": true,
        "id": "dVZTRW_8Z3d-"
      },
      "source": [
        "sns.scatterplot(x='thalach',y='age',hue='target',data=df)"
      ],
      "execution_count": null,
      "outputs": []
    },
    {
      "cell_type": "code",
      "metadata": {
        "papermill": {
          "duration": 0.874045,
          "end_time": "2021-09-04T20:59:59.920747",
          "exception": false,
          "start_time": "2021-09-04T20:59:59.046702",
          "status": "completed"
        },
        "tags": [],
        "execution": {
          "iopub.status.busy": "2021-09-04T21:12:13.660739Z",
          "iopub.execute_input": "2021-09-04T21:12:13.661014Z",
          "iopub.status.idle": "2021-09-04T21:12:14.447619Z",
          "shell.execute_reply.started": "2021-09-04T21:12:13.660986Z",
          "shell.execute_reply": "2021-09-04T21:12:14.446772Z"
        },
        "trusted": true,
        "id": "XBBMi45LZ3d-"
      },
      "source": [
        "sns.lmplot(y='age',x='thalach',hue='target',data=df)"
      ],
      "execution_count": null,
      "outputs": []
    },
    {
      "cell_type": "code",
      "metadata": {
        "papermill": {
          "duration": 0.877875,
          "end_time": "2021-09-04T21:00:00.939555",
          "exception": false,
          "start_time": "2021-09-04T21:00:00.06168",
          "status": "completed"
        },
        "tags": [],
        "execution": {
          "iopub.status.busy": "2021-09-04T21:12:14.448641Z",
          "iopub.execute_input": "2021-09-04T21:12:14.448906Z",
          "iopub.status.idle": "2021-09-04T21:12:15.219478Z",
          "shell.execute_reply.started": "2021-09-04T21:12:14.448879Z",
          "shell.execute_reply": "2021-09-04T21:12:15.218686Z"
        },
        "trusted": true,
        "id": "FBSUggOSZ3d-"
      },
      "source": [
        "sns.lmplot(y='chol',x='thalach',hue='target',data=df)"
      ],
      "execution_count": null,
      "outputs": []
    },
    {
      "cell_type": "code",
      "metadata": {
        "papermill": {
          "duration": 0.888444,
          "end_time": "2021-09-04T21:00:01.97031",
          "exception": false,
          "start_time": "2021-09-04T21:00:01.081866",
          "status": "completed"
        },
        "tags": [],
        "execution": {
          "iopub.status.busy": "2021-09-04T21:12:15.220854Z",
          "iopub.execute_input": "2021-09-04T21:12:15.221444Z",
          "iopub.status.idle": "2021-09-04T21:12:16.002515Z",
          "shell.execute_reply.started": "2021-09-04T21:12:15.221402Z",
          "shell.execute_reply": "2021-09-04T21:12:16.001688Z"
        },
        "trusted": true,
        "id": "TBxD02PMZ3d-"
      },
      "source": [
        "sns.lmplot(y='trestbps',x='thalach',hue='target',data=df)"
      ],
      "execution_count": null,
      "outputs": []
    },
    {
      "cell_type": "markdown",
      "metadata": {
        "papermill": {
          "duration": 0.143105,
          "end_time": "2021-09-04T21:00:02.258151",
          "exception": false,
          "start_time": "2021-09-04T21:00:02.115046",
          "status": "completed"
        },
        "tags": [],
        "id": "2uMP_44TZ3d_"
      },
      "source": [
        "### Feature \"exng\""
      ]
    },
    {
      "cell_type": "code",
      "metadata": {
        "papermill": {
          "duration": 0.155312,
          "end_time": "2021-09-04T21:00:02.556462",
          "exception": false,
          "start_time": "2021-09-04T21:00:02.40115",
          "status": "completed"
        },
        "tags": [],
        "execution": {
          "iopub.status.busy": "2021-09-04T21:12:16.00395Z",
          "iopub.execute_input": "2021-09-04T21:12:16.004598Z",
          "iopub.status.idle": "2021-09-04T21:12:16.012627Z",
          "shell.execute_reply.started": "2021-09-04T21:12:16.004546Z",
          "shell.execute_reply": "2021-09-04T21:12:16.011597Z"
        },
        "trusted": true,
        "id": "wpH0HexVZ3d_"
      },
      "source": [
        "df['exang'].value_counts()"
      ],
      "execution_count": null,
      "outputs": []
    },
    {
      "cell_type": "code",
      "metadata": {
        "papermill": {
          "duration": 0.303304,
          "end_time": "2021-09-04T21:00:03.003992",
          "exception": false,
          "start_time": "2021-09-04T21:00:02.700688",
          "status": "completed"
        },
        "tags": [],
        "execution": {
          "iopub.status.busy": "2021-09-04T21:12:16.01401Z",
          "iopub.execute_input": "2021-09-04T21:12:16.014384Z",
          "iopub.status.idle": "2021-09-04T21:12:16.185311Z",
          "shell.execute_reply.started": "2021-09-04T21:12:16.014344Z",
          "shell.execute_reply": "2021-09-04T21:12:16.184323Z"
        },
        "trusted": true,
        "id": "Sm5GFiEOZ3d_"
      },
      "source": [
        "barplot(df,'exang')"
      ],
      "execution_count": null,
      "outputs": []
    },
    {
      "cell_type": "markdown",
      "metadata": {
        "papermill": {
          "duration": 0.143819,
          "end_time": "2021-09-04T21:00:03.292833",
          "exception": false,
          "start_time": "2021-09-04T21:00:03.149014",
          "status": "completed"
        },
        "tags": [],
        "id": "uTOhuRpCZ3eA"
      },
      "source": [
        "### Feature \"oldpeak\""
      ]
    },
    {
      "cell_type": "code",
      "metadata": {
        "papermill": {
          "duration": 0.422462,
          "end_time": "2021-09-04T21:00:03.859313",
          "exception": false,
          "start_time": "2021-09-04T21:00:03.436851",
          "status": "completed"
        },
        "tags": [],
        "execution": {
          "iopub.status.busy": "2021-09-04T21:12:16.186705Z",
          "iopub.execute_input": "2021-09-04T21:12:16.187106Z",
          "iopub.status.idle": "2021-09-04T21:12:16.474876Z",
          "shell.execute_reply.started": "2021-09-04T21:12:16.187049Z",
          "shell.execute_reply": "2021-09-04T21:12:16.474057Z"
        },
        "trusted": true,
        "id": "l2Une0YtZ3eA"
      },
      "source": [
        "sns.distplot(df['oldpeak'])"
      ],
      "execution_count": null,
      "outputs": []
    },
    {
      "cell_type": "markdown",
      "metadata": {
        "papermill": {
          "duration": 0.147087,
          "end_time": "2021-09-04T21:00:04.154462",
          "exception": false,
          "start_time": "2021-09-04T21:00:04.007375",
          "status": "completed"
        },
        "tags": [],
        "id": "b49a0eHtZ3eA"
      },
      "source": [
        "Positively skewed."
      ]
    },
    {
      "cell_type": "code",
      "metadata": {
        "papermill": {
          "duration": 0.484045,
          "end_time": "2021-09-04T21:00:04.784043",
          "exception": false,
          "start_time": "2021-09-04T21:00:04.299998",
          "status": "completed"
        },
        "tags": [],
        "execution": {
          "iopub.status.busy": "2021-09-04T21:12:16.47613Z",
          "iopub.execute_input": "2021-09-04T21:12:16.476449Z",
          "iopub.status.idle": "2021-09-04T21:12:16.842969Z",
          "shell.execute_reply.started": "2021-09-04T21:12:16.47642Z",
          "shell.execute_reply": "2021-09-04T21:12:16.841746Z"
        },
        "trusted": true,
        "id": "zQfhcAhXZ3eA"
      },
      "source": [
        "sns.scatterplot(y='oldpeak',x='age',hue='target',data=df)"
      ],
      "execution_count": null,
      "outputs": []
    },
    {
      "cell_type": "code",
      "metadata": {
        "papermill": {
          "duration": 0.879788,
          "end_time": "2021-09-04T21:00:05.813497",
          "exception": false,
          "start_time": "2021-09-04T21:00:04.933709",
          "status": "completed"
        },
        "tags": [],
        "execution": {
          "iopub.status.busy": "2021-09-04T21:12:16.844684Z",
          "iopub.execute_input": "2021-09-04T21:12:16.845016Z",
          "iopub.status.idle": "2021-09-04T21:12:17.62928Z",
          "shell.execute_reply.started": "2021-09-04T21:12:16.844986Z",
          "shell.execute_reply": "2021-09-04T21:12:17.628333Z"
        },
        "trusted": true,
        "id": "h7nC1bGqZ3eB"
      },
      "source": [
        "sns.lmplot(y='age',x='oldpeak',hue='target',data=df)"
      ],
      "execution_count": null,
      "outputs": []
    },
    {
      "cell_type": "code",
      "metadata": {
        "papermill": {
          "duration": 0.945876,
          "end_time": "2021-09-04T21:00:06.908583",
          "exception": false,
          "start_time": "2021-09-04T21:00:05.962707",
          "status": "completed"
        },
        "tags": [],
        "execution": {
          "iopub.status.busy": "2021-09-04T21:12:17.630608Z",
          "iopub.execute_input": "2021-09-04T21:12:17.6309Z",
          "iopub.status.idle": "2021-09-04T21:12:18.435846Z",
          "shell.execute_reply.started": "2021-09-04T21:12:17.630872Z",
          "shell.execute_reply": "2021-09-04T21:12:18.434708Z"
        },
        "trusted": true,
        "colab": {
          "base_uri": "https://localhost:8080/",
          "height": 386
        },
        "id": "ausxKSnPZ3eB",
        "outputId": "0e829249-3520-472d-db5b-bfbbe88458dd"
      },
      "source": [
        "sns.lmplot(y='trestbps',x='oldpeak',hue='target',data=df)"
      ],
      "execution_count": 108,
      "outputs": [
        {
          "output_type": "execute_result",
          "data": {
            "text/plain": [
              "<seaborn.axisgrid.FacetGrid at 0x7f03340dcf90>"
            ]
          },
          "metadata": {},
          "execution_count": 108
        },
        {
          "output_type": "display_data",
          "data": {
            "image/png": "[encoded data removed]",
            "text/plain": [
              "<Figure size 410.825x360 with 1 Axes>"
            ]
          },
          "metadata": {}
        }
      ]
    },
    {
      "cell_type": "code",
      "metadata": {
        "papermill": {
          "duration": 0.887819,
          "end_time": "2021-09-04T21:00:07.96033",
          "exception": false,
          "start_time": "2021-09-04T21:00:07.072511",
          "status": "completed"
        },
        "tags": [],
        "execution": {
          "iopub.status.busy": "2021-09-04T21:12:18.43738Z",
          "iopub.execute_input": "2021-09-04T21:12:18.437775Z",
          "iopub.status.idle": "2021-09-04T21:12:19.212526Z",
          "shell.execute_reply.started": "2021-09-04T21:12:18.437732Z",
          "shell.execute_reply": "2021-09-04T21:12:19.211669Z"
        },
        "trusted": true,
        "id": "UwvJBTk_Z3eB"
      },
      "source": [
        "sns.lmplot(y='chol',x='oldpeak',hue='target',data=df)"
      ],
      "execution_count": null,
      "outputs": []
    },
    {
      "cell_type": "code",
      "metadata": {
        "papermill": {
          "duration": 0.918912,
          "end_time": "2021-09-04T21:00:09.034463",
          "exception": false,
          "start_time": "2021-09-04T21:00:08.115551",
          "status": "completed"
        },
        "tags": [],
        "execution": {
          "iopub.status.busy": "2021-09-04T21:12:19.213816Z",
          "iopub.execute_input": "2021-09-04T21:12:19.214175Z",
          "iopub.status.idle": "2021-09-04T21:12:20.011244Z",
          "shell.execute_reply.started": "2021-09-04T21:12:19.214136Z",
          "shell.execute_reply": "2021-09-04T21:12:20.010451Z"
        },
        "trusted": true,
        "id": "dCb9WnwtZ3eC"
      },
      "source": [
        "sns.lmplot(y='thalach',x='oldpeak',hue='target',data=df)"
      ],
      "execution_count": null,
      "outputs": []
    },
    {
      "cell_type": "markdown",
      "metadata": {
        "papermill": {
          "duration": 0.158016,
          "end_time": "2021-09-04T21:00:09.350715",
          "exception": false,
          "start_time": "2021-09-04T21:00:09.192699",
          "status": "completed"
        },
        "tags": [],
        "id": "nTp0u2Y9Z3eC"
      },
      "source": [
        "### Feature \"slp\""
      ]
    },
    {
      "cell_type": "code",
      "metadata": {
        "papermill": {
          "duration": 0.316542,
          "end_time": "2021-09-04T21:00:09.824278",
          "exception": false,
          "start_time": "2021-09-04T21:00:09.507736",
          "status": "completed"
        },
        "tags": [],
        "execution": {
          "iopub.status.busy": "2021-09-04T21:12:20.012285Z",
          "iopub.execute_input": "2021-09-04T21:12:20.012529Z",
          "iopub.status.idle": "2021-09-04T21:12:20.192993Z",
          "shell.execute_reply.started": "2021-09-04T21:12:20.012505Z",
          "shell.execute_reply": "2021-09-04T21:12:20.19202Z"
        },
        "trusted": true,
        "id": "_8uaPGoVZ3eC"
      },
      "source": [
        "barplot(df,'slp')"
      ],
      "execution_count": null,
      "outputs": []
    },
    {
      "cell_type": "markdown",
      "metadata": {
        "papermill": {
          "duration": 0.159509,
          "end_time": "2021-09-04T21:00:10.140311",
          "exception": false,
          "start_time": "2021-09-04T21:00:09.980802",
          "status": "completed"
        },
        "tags": [],
        "id": "vq9K6m3jZ3eC"
      },
      "source": [
        "### Feature \"caa\""
      ]
    },
    {
      "cell_type": "code",
      "metadata": {
        "papermill": {
          "duration": 0.343531,
          "end_time": "2021-09-04T21:00:10.641999",
          "exception": false,
          "start_time": "2021-09-04T21:00:10.298468",
          "status": "completed"
        },
        "tags": [],
        "execution": {
          "iopub.status.busy": "2021-09-04T21:12:20.194478Z",
          "iopub.execute_input": "2021-09-04T21:12:20.194872Z",
          "iopub.status.idle": "2021-09-04T21:12:20.397335Z",
          "shell.execute_reply.started": "2021-09-04T21:12:20.194831Z",
          "shell.execute_reply": "2021-09-04T21:12:20.396273Z"
        },
        "trusted": true,
        "id": "_UVce2ElZ3eD"
      },
      "source": [
        "barplot(df,'caa')"
      ],
      "execution_count": null,
      "outputs": []
    },
    {
      "cell_type": "code",
      "metadata": {
        "papermill": {
          "duration": 0.169346,
          "end_time": "2021-09-04T21:00:10.968304",
          "exception": false,
          "start_time": "2021-09-04T21:00:10.798958",
          "status": "completed"
        },
        "tags": [],
        "execution": {
          "iopub.status.busy": "2021-09-04T21:12:20.398854Z",
          "iopub.execute_input": "2021-09-04T21:12:20.399304Z",
          "iopub.status.idle": "2021-09-04T21:12:20.407606Z",
          "shell.execute_reply.started": "2021-09-04T21:12:20.399261Z",
          "shell.execute_reply": "2021-09-04T21:12:20.406761Z"
        },
        "trusted": true,
        "id": "NzGk13QwZ3eD"
      },
      "source": [
        "df['caa'].value_counts()"
      ],
      "execution_count": null,
      "outputs": []
    },
    {
      "cell_type": "code",
      "metadata": {
        "papermill": {
          "duration": 0.174792,
          "end_time": "2021-09-04T21:00:11.30449",
          "exception": false,
          "start_time": "2021-09-04T21:00:11.129698",
          "status": "completed"
        },
        "tags": [],
        "execution": {
          "iopub.status.busy": "2021-09-04T21:12:20.409073Z",
          "iopub.execute_input": "2021-09-04T21:12:20.40948Z",
          "iopub.status.idle": "2021-09-04T21:12:20.415694Z",
          "shell.execute_reply.started": "2021-09-04T21:12:20.40944Z",
          "shell.execute_reply": "2021-09-04T21:12:20.415134Z"
        },
        "trusted": true,
        "id": "0zExudDoZ3eD"
      },
      "source": [
        "df['caa'].replace([4],[0],inplace=True)"
      ],
      "execution_count": null,
      "outputs": []
    },
    {
      "cell_type": "code",
      "metadata": {
        "papermill": {
          "duration": 0.335215,
          "end_time": "2021-09-04T21:00:11.796063",
          "exception": false,
          "start_time": "2021-09-04T21:00:11.460848",
          "status": "completed"
        },
        "tags": [],
        "execution": {
          "iopub.status.busy": "2021-09-04T21:12:20.416668Z",
          "iopub.execute_input": "2021-09-04T21:12:20.417014Z",
          "iopub.status.idle": "2021-09-04T21:12:20.612822Z",
          "shell.execute_reply.started": "2021-09-04T21:12:20.416979Z",
          "shell.execute_reply": "2021-09-04T21:12:20.611867Z"
        },
        "trusted": true,
        "id": "wOKzw62NZ3eE"
      },
      "source": [
        "barplot(df,'caa')"
      ],
      "execution_count": null,
      "outputs": []
    },
    {
      "cell_type": "markdown",
      "metadata": {
        "papermill": {
          "duration": 0.159267,
          "end_time": "2021-09-04T21:00:12.116343",
          "exception": false,
          "start_time": "2021-09-04T21:00:11.957076",
          "status": "completed"
        },
        "tags": [],
        "id": "oTtJG2DwZ3eE"
      },
      "source": [
        "### Feature \"thall\""
      ]
    },
    {
      "cell_type": "code",
      "metadata": {
        "papermill": {
          "duration": 0.340167,
          "end_time": "2021-09-04T21:00:12.61329",
          "exception": false,
          "start_time": "2021-09-04T21:00:12.273123",
          "status": "completed"
        },
        "tags": [],
        "execution": {
          "iopub.status.busy": "2021-09-04T21:12:20.613933Z",
          "iopub.execute_input": "2021-09-04T21:12:20.61431Z",
          "iopub.status.idle": "2021-09-04T21:12:20.80846Z",
          "shell.execute_reply.started": "2021-09-04T21:12:20.61427Z",
          "shell.execute_reply": "2021-09-04T21:12:20.807539Z"
        },
        "trusted": true,
        "colab": {
          "base_uri": "https://localhost:8080/",
          "height": 297
        },
        "id": "0GFYcp2_Z3eE",
        "outputId": "d681390f-e13c-49af-b48b-3e18098538ff"
      },
      "source": [
        "barplot(df,'thal')"
      ],
      "execution_count": 111,
      "outputs": [
        {
          "output_type": "display_data",
          "data": {
            "image/png": "[encoded data removed]",
            "text/plain": [
              "<Figure size 576x288 with 1 Axes>"
            ]
          },
          "metadata": {}
        }
      ]
    },
    {
      "cell_type": "code",
      "metadata": {
        "papermill": {
          "duration": 0.167617,
          "end_time": "2021-09-04T21:00:12.940177",
          "exception": false,
          "start_time": "2021-09-04T21:00:12.77256",
          "status": "completed"
        },
        "tags": [],
        "execution": {
          "iopub.status.busy": "2021-09-04T21:12:20.809771Z",
          "iopub.execute_input": "2021-09-04T21:12:20.810059Z",
          "iopub.status.idle": "2021-09-04T21:12:20.817191Z",
          "shell.execute_reply.started": "2021-09-04T21:12:20.810031Z",
          "shell.execute_reply": "2021-09-04T21:12:20.816213Z"
        },
        "trusted": true,
        "id": "KQRv5eBcZ3eE"
      },
      "source": [
        "df['thall'].value_counts()"
      ],
      "execution_count": null,
      "outputs": []
    },
    {
      "cell_type": "code",
      "metadata": {
        "papermill": {
          "duration": 0.168932,
          "end_time": "2021-09-04T21:00:13.265123",
          "exception": false,
          "start_time": "2021-09-04T21:00:13.096191",
          "status": "completed"
        },
        "tags": [],
        "execution": {
          "iopub.status.busy": "2021-09-04T21:12:20.818593Z",
          "iopub.execute_input": "2021-09-04T21:12:20.818996Z",
          "iopub.status.idle": "2021-09-04T21:12:20.830792Z",
          "shell.execute_reply.started": "2021-09-04T21:12:20.818954Z",
          "shell.execute_reply": "2021-09-04T21:12:20.829918Z"
        },
        "trusted": true,
        "id": "1DwkT-TPZ3eF"
      },
      "source": [
        "df['thall'].replace([0],[2],inplace=True)"
      ],
      "execution_count": null,
      "outputs": []
    },
    {
      "cell_type": "code",
      "metadata": {
        "papermill": {
          "duration": 0.323201,
          "end_time": "2021-09-04T21:00:13.751177",
          "exception": false,
          "start_time": "2021-09-04T21:00:13.427976",
          "status": "completed"
        },
        "tags": [],
        "execution": {
          "iopub.status.busy": "2021-09-04T21:12:20.833308Z",
          "iopub.execute_input": "2021-09-04T21:12:20.833766Z",
          "iopub.status.idle": "2021-09-04T21:12:21.018293Z",
          "shell.execute_reply.started": "2021-09-04T21:12:20.833727Z",
          "shell.execute_reply": "2021-09-04T21:12:21.017245Z"
        },
        "trusted": true,
        "id": "TR5eQuIEZ3eF"
      },
      "source": [
        "barplot(df,'thall')"
      ],
      "execution_count": null,
      "outputs": []
    },
    {
      "cell_type": "code",
      "metadata": {
        "papermill": {
          "duration": 0.176205,
          "end_time": "2021-09-04T21:00:14.082978",
          "exception": false,
          "start_time": "2021-09-04T21:00:13.906773",
          "status": "completed"
        },
        "tags": [],
        "execution": {
          "iopub.status.busy": "2021-09-04T21:12:21.019663Z",
          "iopub.execute_input": "2021-09-04T21:12:21.020067Z",
          "iopub.status.idle": "2021-09-04T21:12:21.034353Z",
          "shell.execute_reply.started": "2021-09-04T21:12:21.020013Z",
          "shell.execute_reply": "2021-09-04T21:12:21.033281Z"
        },
        "trusted": true,
        "id": "kkCp1SJ0Z3eF"
      },
      "source": [
        "df.info()"
      ],
      "execution_count": null,
      "outputs": []
    },
    {
      "cell_type": "markdown",
      "metadata": {
        "papermill": {
          "duration": 0.155147,
          "end_time": "2021-09-04T21:00:14.39722",
          "exception": false,
          "start_time": "2021-09-04T21:00:14.242073",
          "status": "completed"
        },
        "tags": [],
        "id": "HlrRiQf3Z3eG"
      },
      "source": [
        "# Task 3 - Data preparation for model evaluation"
      ]
    },
    {
      "cell_type": "code",
      "metadata": {
        "papermill": {
          "duration": 0.165445,
          "end_time": "2021-09-04T21:00:14.718394",
          "exception": false,
          "start_time": "2021-09-04T21:00:14.552949",
          "status": "completed"
        },
        "tags": [],
        "execution": {
          "iopub.status.busy": "2021-09-04T21:12:21.041424Z",
          "iopub.execute_input": "2021-09-04T21:12:21.041715Z",
          "iopub.status.idle": "2021-09-04T21:12:21.049056Z",
          "shell.execute_reply.started": "2021-09-04T21:12:21.041687Z",
          "shell.execute_reply": "2021-09-04T21:12:21.048099Z"
        },
        "trusted": true,
        "colab": {
          "base_uri": "https://localhost:8080/"
        },
        "id": "-7mqMbxGZ3eG",
        "outputId": "7764973a-0c4f-4290-c3a1-2ee8a4424942"
      },
      "source": [
        "X = df.drop(['target'],axis=1)\n",
        "y = df['target']\n",
        "print(X.shape,y.shape)"
      ],
      "execution_count": null,
      "outputs": [
        {
          "output_type": "stream",
          "name": "stdout",
          "text": [
            "(303, 13) (303,)\n"
          ]
        }
      ]
    },
    {
      "cell_type": "code",
      "metadata": {
        "papermill": {
          "duration": 0.355813,
          "end_time": "2021-09-04T21:00:15.230289",
          "exception": false,
          "start_time": "2021-09-04T21:00:14.874476",
          "status": "completed"
        },
        "tags": [],
        "execution": {
          "iopub.status.busy": "2021-09-04T21:12:21.051416Z",
          "iopub.execute_input": "2021-09-04T21:12:21.051788Z",
          "iopub.status.idle": "2021-09-04T21:12:21.227431Z",
          "shell.execute_reply.started": "2021-09-04T21:12:21.051748Z",
          "shell.execute_reply": "2021-09-04T21:12:21.226496Z"
        },
        "trusted": true,
        "colab": {
          "base_uri": "https://localhost:8080/"
        },
        "id": "LBbQxeYGZ3eG",
        "outputId": "88e73d36-45aa-4dc4-f986-d1265aa1f0a6"
      },
      "source": [
        "## Splitting the dataset into train and test set\n",
        "from sklearn.model_selection import train_test_split\n",
        "x_train,x_test,y_train,y_test = train_test_split(X,y,train_size=0.75,random_state=42)\n",
        "x_train = pd.DataFrame(x_train,columns = df.drop(['target'],axis=1).columns)\n",
        "x_train.index = range(x_train.shape[0])\n",
        "x_test = pd.DataFrame(x_test,columns = df.drop(['target'],axis=1).columns)\n",
        "x_test.index = range(x_test.shape[0])\n",
        "print(x_train.shape,y_train.shape)\n",
        "print(x_test.shape,y_test.shape)"
      ],
      "execution_count": 113,
      "outputs": [
        {
          "output_type": "stream",
          "name": "stdout",
          "text": [
            "(227, 13) (227,)\n",
            "(76, 13) (76,)\n"
          ]
        }
      ]
    },
    {
      "cell_type": "code",
      "metadata": {
        "id": "SorI1dwtga9Q",
        "outputId": "a4d14232-ad7a-4446-c6a5-86d4ae814f08",
        "colab": {
          "base_uri": "https://localhost:8080/",
          "height": 204
        }
      },
      "source": [
        "df.head()"
      ],
      "execution_count": 122,
      "outputs": [
        {
          "output_type": "execute_result",
          "data": {
            "text/html": [
              "<div>\n",
              "<style scoped>\n",
              "    .dataframe tbody tr th:only-of-type {\n",
              "        vertical-align: middle;\n",
              "    }\n",
              "\n",
              "    .dataframe tbody tr th {\n",
              "        vertical-align: top;\n",
              "    }\n",
              "\n",
              "    .dataframe thead th {\n",
              "        text-align: right;\n",
              "    }\n",
              "</style>\n",
              "<table border=\"1\" class=\"dataframe\">\n",
              "  <thead>\n",
              "    <tr style=\"text-align: right;\">\n",
              "      <th></th>\n",
              "      <th>age</th>\n",
              "      <th>sex</th>\n",
              "      <th>cp</th>\n",
              "      <th>trestbps</th>\n",
              "      <th>chol</th>\n",
              "      <th>fbs</th>\n",
              "      <th>restecg</th>\n",
              "      <th>thalach</th>\n",
              "      <th>exang</th>\n",
              "      <th>oldpeak</th>\n",
              "      <th>slope</th>\n",
              "      <th>ca</th>\n",
              "      <th>thal</th>\n",
              "      <th>target</th>\n",
              "    </tr>\n",
              "  </thead>\n",
              "  <tbody>\n",
              "    <tr>\n",
              "      <th>0</th>\n",
              "      <td>63</td>\n",
              "      <td>1</td>\n",
              "      <td>3</td>\n",
              "      <td>145</td>\n",
              "      <td>233</td>\n",
              "      <td>1</td>\n",
              "      <td>0</td>\n",
              "      <td>150</td>\n",
              "      <td>0</td>\n",
              "      <td>2.30</td>\n",
              "      <td>0</td>\n",
              "      <td>0</td>\n",
              "      <td>1</td>\n",
              "      <td>1</td>\n",
              "    </tr>\n",
              "    <tr>\n",
              "      <th>1</th>\n",
              "      <td>37</td>\n",
              "      <td>1</td>\n",
              "      <td>2</td>\n",
              "      <td>130</td>\n",
              "      <td>250</td>\n",
              "      <td>0</td>\n",
              "      <td>1</td>\n",
              "      <td>187</td>\n",
              "      <td>0</td>\n",
              "      <td>3.50</td>\n",
              "      <td>0</td>\n",
              "      <td>0</td>\n",
              "      <td>2</td>\n",
              "      <td>1</td>\n",
              "    </tr>\n",
              "    <tr>\n",
              "      <th>2</th>\n",
              "      <td>41</td>\n",
              "      <td>0</td>\n",
              "      <td>1</td>\n",
              "      <td>130</td>\n",
              "      <td>204</td>\n",
              "      <td>0</td>\n",
              "      <td>0</td>\n",
              "      <td>172</td>\n",
              "      <td>0</td>\n",
              "      <td>1.40</td>\n",
              "      <td>2</td>\n",
              "      <td>0</td>\n",
              "      <td>2</td>\n",
              "      <td>1</td>\n",
              "    </tr>\n",
              "    <tr>\n",
              "      <th>3</th>\n",
              "      <td>56</td>\n",
              "      <td>1</td>\n",
              "      <td>1</td>\n",
              "      <td>120</td>\n",
              "      <td>236</td>\n",
              "      <td>0</td>\n",
              "      <td>1</td>\n",
              "      <td>178</td>\n",
              "      <td>0</td>\n",
              "      <td>0.80</td>\n",
              "      <td>2</td>\n",
              "      <td>0</td>\n",
              "      <td>2</td>\n",
              "      <td>1</td>\n",
              "    </tr>\n",
              "    <tr>\n",
              "      <th>4</th>\n",
              "      <td>57</td>\n",
              "      <td>0</td>\n",
              "      <td>0</td>\n",
              "      <td>120</td>\n",
              "      <td>354</td>\n",
              "      <td>0</td>\n",
              "      <td>1</td>\n",
              "      <td>163</td>\n",
              "      <td>1</td>\n",
              "      <td>0.60</td>\n",
              "      <td>2</td>\n",
              "      <td>0</td>\n",
              "      <td>2</td>\n",
              "      <td>1</td>\n",
              "    </tr>\n",
              "  </tbody>\n",
              "</table>\n",
              "</div>"
            ],
            "text/plain": [
              "   age  sex  cp  trestbps  chol  fbs  restecg  thalach  exang  oldpeak  slope  ca  thal  target\n",
              "0   63    1   3       145   233    1        0      150      0     2.30      0   0     1       1\n",
              "1   37    1   2       130   250    0        1      187      0     3.50      0   0     2       1\n",
              "2   41    0   1       130   204    0        0      172      0     1.40      2   0     2       1\n",
              "3   56    1   1       120   236    0        1      178      0     0.80      2   0     2       1\n",
              "4   57    0   0       120   354    0        1      163      1     0.60      2   0     2       1"
            ]
          },
          "metadata": {},
          "execution_count": 122
        }
      ]
    },
    {
      "cell_type": "code",
      "metadata": {
        "papermill": {
          "duration": 0.163908,
          "end_time": "2021-09-04T21:00:15.552957",
          "exception": false,
          "start_time": "2021-09-04T21:00:15.389049",
          "status": "completed"
        },
        "tags": [],
        "execution": {
          "iopub.status.busy": "2021-09-04T21:12:21.228654Z",
          "iopub.execute_input": "2021-09-04T21:12:21.228975Z",
          "iopub.status.idle": "2021-09-04T21:12:21.234731Z",
          "shell.execute_reply.started": "2021-09-04T21:12:21.228945Z",
          "shell.execute_reply": "2021-09-04T21:12:21.233584Z"
        },
        "trusted": true,
        "id": "9_9GcFqkZ3eG"
      },
      "source": [
        "num_features = ['age','trestbps','chol','thalach','oldpeak']\n",
        "cat_features = ['sex','cp','fbs','restecg','exang','slope','ca','thal']"
      ],
      "execution_count": 123,
      "outputs": []
    },
    {
      "cell_type": "markdown",
      "metadata": {
        "papermill": {
          "duration": 0.156426,
          "end_time": "2021-09-04T21:00:15.866046",
          "exception": false,
          "start_time": "2021-09-04T21:00:15.70962",
          "status": "completed"
        },
        "tags": [],
        "id": "rPbpZpUEZ3eJ"
      },
      "source": [
        "### Applying scaling to numerical features only."
      ]
    },
    {
      "cell_type": "code",
      "metadata": {
        "papermill": {
          "duration": 0.176054,
          "end_time": "2021-09-04T21:00:16.199974",
          "exception": false,
          "start_time": "2021-09-04T21:00:16.02392",
          "status": "completed"
        },
        "tags": [],
        "execution": {
          "iopub.status.busy": "2021-09-04T21:12:21.235895Z",
          "iopub.execute_input": "2021-09-04T21:12:21.236228Z",
          "iopub.status.idle": "2021-09-04T21:12:21.257191Z",
          "shell.execute_reply.started": "2021-09-04T21:12:21.2362Z",
          "shell.execute_reply": "2021-09-04T21:12:21.256281Z"
        },
        "trusted": true,
        "id": "xe5a_kG5Z3eK"
      },
      "source": [
        "from sklearn.preprocessing import MinMaxScaler\n",
        "scaler =  MinMaxScaler()\n",
        "scaler.fit(x_train[num_features])\n",
        "x_train_scaled = pd.DataFrame(scaler.transform(x_train[num_features]),columns=num_features)\n",
        "x_test_scaled = pd.DataFrame(scaler.transform(x_test[num_features]),columns=num_features)\n"
      ],
      "execution_count": 124,
      "outputs": []
    },
    {
      "cell_type": "code",
      "metadata": {
        "papermill": {
          "duration": 0.170578,
          "end_time": "2021-09-04T21:00:16.527131",
          "exception": false,
          "start_time": "2021-09-04T21:00:16.356553",
          "status": "completed"
        },
        "tags": [],
        "execution": {
          "iopub.status.busy": "2021-09-04T21:12:21.258438Z",
          "iopub.execute_input": "2021-09-04T21:12:21.258704Z",
          "iopub.status.idle": "2021-09-04T21:12:21.273159Z",
          "shell.execute_reply.started": "2021-09-04T21:12:21.258678Z",
          "shell.execute_reply": "2021-09-04T21:12:21.272331Z"
        },
        "trusted": true,
        "colab": {
          "base_uri": "https://localhost:8080/",
          "height": 419
        },
        "id": "-OwYlQSPZ3eL",
        "outputId": "84a7c3af-39f3-4359-bca1-147117fc8fd3"
      },
      "source": [
        "x_train_scaled"
      ],
      "execution_count": 125,
      "outputs": [
        {
          "output_type": "execute_result",
          "data": {
            "text/html": [
              "<div>\n",
              "<style scoped>\n",
              "    .dataframe tbody tr th:only-of-type {\n",
              "        vertical-align: middle;\n",
              "    }\n",
              "\n",
              "    .dataframe tbody tr th {\n",
              "        vertical-align: top;\n",
              "    }\n",
              "\n",
              "    .dataframe thead th {\n",
              "        text-align: right;\n",
              "    }\n",
              "</style>\n",
              "<table border=\"1\" class=\"dataframe\">\n",
              "  <thead>\n",
              "    <tr style=\"text-align: right;\">\n",
              "      <th></th>\n",
              "      <th>age</th>\n",
              "      <th>trestbps</th>\n",
              "      <th>chol</th>\n",
              "      <th>thalach</th>\n",
              "      <th>oldpeak</th>\n",
              "    </tr>\n",
              "  </thead>\n",
              "  <tbody>\n",
              "    <tr>\n",
              "      <th>0</th>\n",
              "      <td>0.58</td>\n",
              "      <td>0.61</td>\n",
              "      <td>0.23</td>\n",
              "      <td>0.67</td>\n",
              "      <td>0.00</td>\n",
              "    </tr>\n",
              "    <tr>\n",
              "      <th>1</th>\n",
              "      <td>0.62</td>\n",
              "      <td>0.33</td>\n",
              "      <td>0.20</td>\n",
              "      <td>0.40</td>\n",
              "      <td>0.39</td>\n",
              "    </tr>\n",
              "    <tr>\n",
              "      <th>2</th>\n",
              "      <td>0.79</td>\n",
              "      <td>0.32</td>\n",
              "      <td>0.28</td>\n",
              "      <td>0.66</td>\n",
              "      <td>0.04</td>\n",
              "    </tr>\n",
              "    <tr>\n",
              "      <th>3</th>\n",
              "      <td>0.60</td>\n",
              "      <td>0.32</td>\n",
              "      <td>0.21</td>\n",
              "      <td>0.49</td>\n",
              "      <td>0.07</td>\n",
              "    </tr>\n",
              "    <tr>\n",
              "      <th>4</th>\n",
              "      <td>0.19</td>\n",
              "      <td>0.45</td>\n",
              "      <td>0.10</td>\n",
              "      <td>0.75</td>\n",
              "      <td>0.00</td>\n",
              "    </tr>\n",
              "    <tr>\n",
              "      <th>...</th>\n",
              "      <td>...</td>\n",
              "      <td>...</td>\n",
              "      <td>...</td>\n",
              "      <td>...</td>\n",
              "      <td>...</td>\n",
              "    </tr>\n",
              "    <tr>\n",
              "      <th>222</th>\n",
              "      <td>0.44</td>\n",
              "      <td>0.47</td>\n",
              "      <td>0.24</td>\n",
              "      <td>0.66</td>\n",
              "      <td>0.11</td>\n",
              "    </tr>\n",
              "    <tr>\n",
              "      <th>223</th>\n",
              "      <td>0.46</td>\n",
              "      <td>0.00</td>\n",
              "      <td>0.22</td>\n",
              "      <td>0.58</td>\n",
              "      <td>0.00</td>\n",
              "    </tr>\n",
              "    <tr>\n",
              "      <th>224</th>\n",
              "      <td>0.83</td>\n",
              "      <td>0.67</td>\n",
              "      <td>0.24</td>\n",
              "      <td>0.38</td>\n",
              "      <td>0.02</td>\n",
              "    </tr>\n",
              "    <tr>\n",
              "      <th>225</th>\n",
              "      <td>0.35</td>\n",
              "      <td>0.27</td>\n",
              "      <td>0.27</td>\n",
              "      <td>0.49</td>\n",
              "      <td>0.14</td>\n",
              "    </tr>\n",
              "    <tr>\n",
              "      <th>226</th>\n",
              "      <td>0.71</td>\n",
              "      <td>0.47</td>\n",
              "      <td>0.15</td>\n",
              "      <td>0.80</td>\n",
              "      <td>0.00</td>\n",
              "    </tr>\n",
              "  </tbody>\n",
              "</table>\n",
              "<p>227 rows × 5 columns</p>\n",
              "</div>"
            ],
            "text/plain": [
              "     age  trestbps  chol  thalach  oldpeak\n",
              "0   0.58      0.61  0.23     0.67     0.00\n",
              "1   0.62      0.33  0.20     0.40     0.39\n",
              "2   0.79      0.32  0.28     0.66     0.04\n",
              "3   0.60      0.32  0.21     0.49     0.07\n",
              "4   0.19      0.45  0.10     0.75     0.00\n",
              "..   ...       ...   ...      ...      ...\n",
              "222 0.44      0.47  0.24     0.66     0.11\n",
              "223 0.46      0.00  0.22     0.58     0.00\n",
              "224 0.83      0.67  0.24     0.38     0.02\n",
              "225 0.35      0.27  0.27     0.49     0.14\n",
              "226 0.71      0.47  0.15     0.80     0.00\n",
              "\n",
              "[227 rows x 5 columns]"
            ]
          },
          "metadata": {},
          "execution_count": 125
        }
      ]
    },
    {
      "cell_type": "code",
      "metadata": {
        "papermill": {
          "duration": 0.213989,
          "end_time": "2021-09-04T21:00:16.897514",
          "exception": false,
          "start_time": "2021-09-04T21:00:16.683525",
          "status": "completed"
        },
        "tags": [],
        "execution": {
          "iopub.status.busy": "2021-09-04T21:12:21.274298Z",
          "iopub.execute_input": "2021-09-04T21:12:21.274552Z",
          "iopub.status.idle": "2021-09-04T21:12:21.287939Z",
          "shell.execute_reply.started": "2021-09-04T21:12:21.274528Z",
          "shell.execute_reply": "2021-09-04T21:12:21.286978Z"
        },
        "trusted": true,
        "colab": {
          "base_uri": "https://localhost:8080/",
          "height": 419
        },
        "id": "7Y_h2ZKnZ3eL",
        "outputId": "5ca609db-987e-4cf4-938b-f3859b4404e8"
      },
      "source": [
        "x_test_scaled"
      ],
      "execution_count": 126,
      "outputs": [
        {
          "output_type": "execute_result",
          "data": {
            "text/html": [
              "<div>\n",
              "<style scoped>\n",
              "    .dataframe tbody tr th:only-of-type {\n",
              "        vertical-align: middle;\n",
              "    }\n",
              "\n",
              "    .dataframe tbody tr th {\n",
              "        vertical-align: top;\n",
              "    }\n",
              "\n",
              "    .dataframe thead th {\n",
              "        text-align: right;\n",
              "    }\n",
              "</style>\n",
              "<table border=\"1\" class=\"dataframe\">\n",
              "  <thead>\n",
              "    <tr style=\"text-align: right;\">\n",
              "      <th></th>\n",
              "      <th>age</th>\n",
              "      <th>trestbps</th>\n",
              "      <th>chol</th>\n",
              "      <th>thalach</th>\n",
              "      <th>oldpeak</th>\n",
              "    </tr>\n",
              "  </thead>\n",
              "  <tbody>\n",
              "    <tr>\n",
              "      <th>0</th>\n",
              "      <td>0.58</td>\n",
              "      <td>0.57</td>\n",
              "      <td>0.33</td>\n",
              "      <td>0.21</td>\n",
              "      <td>0.11</td>\n",
              "    </tr>\n",
              "    <tr>\n",
              "      <th>1</th>\n",
              "      <td>0.62</td>\n",
              "      <td>0.78</td>\n",
              "      <td>0.36</td>\n",
              "      <td>0.62</td>\n",
              "      <td>0.04</td>\n",
              "    </tr>\n",
              "    <tr>\n",
              "      <th>2</th>\n",
              "      <td>0.58</td>\n",
              "      <td>0.57</td>\n",
              "      <td>-0.01</td>\n",
              "      <td>0.75</td>\n",
              "      <td>0.04</td>\n",
              "    </tr>\n",
              "    <tr>\n",
              "      <th>3</th>\n",
              "      <td>0.56</td>\n",
              "      <td>0.41</td>\n",
              "      <td>0.64</td>\n",
              "      <td>0.54</td>\n",
              "      <td>0.34</td>\n",
              "    </tr>\n",
              "    <tr>\n",
              "      <th>4</th>\n",
              "      <td>0.87</td>\n",
              "      <td>0.16</td>\n",
              "      <td>0.31</td>\n",
              "      <td>0.37</td>\n",
              "      <td>0.00</td>\n",
              "    </tr>\n",
              "    <tr>\n",
              "      <th>...</th>\n",
              "      <td>...</td>\n",
              "      <td>...</td>\n",
              "      <td>...</td>\n",
              "      <td>...</td>\n",
              "      <td>...</td>\n",
              "    </tr>\n",
              "    <tr>\n",
              "      <th>71</th>\n",
              "      <td>0.27</td>\n",
              "      <td>0.47</td>\n",
              "      <td>0.22</td>\n",
              "      <td>0.79</td>\n",
              "      <td>0.00</td>\n",
              "    </tr>\n",
              "    <tr>\n",
              "      <th>72</th>\n",
              "      <td>0.69</td>\n",
              "      <td>0.57</td>\n",
              "      <td>0.26</td>\n",
              "      <td>0.58</td>\n",
              "      <td>0.25</td>\n",
              "    </tr>\n",
              "    <tr>\n",
              "      <th>73</th>\n",
              "      <td>0.40</td>\n",
              "      <td>0.29</td>\n",
              "      <td>0.21</td>\n",
              "      <td>0.86</td>\n",
              "      <td>0.00</td>\n",
              "    </tr>\n",
              "    <tr>\n",
              "      <th>74</th>\n",
              "      <td>0.73</td>\n",
              "      <td>0.52</td>\n",
              "      <td>0.19</td>\n",
              "      <td>0.39</td>\n",
              "      <td>0.36</td>\n",
              "    </tr>\n",
              "    <tr>\n",
              "      <th>75</th>\n",
              "      <td>0.54</td>\n",
              "      <td>0.37</td>\n",
              "      <td>0.30</td>\n",
              "      <td>0.59</td>\n",
              "      <td>0.00</td>\n",
              "    </tr>\n",
              "  </tbody>\n",
              "</table>\n",
              "<p>76 rows × 5 columns</p>\n",
              "</div>"
            ],
            "text/plain": [
              "    age  trestbps  chol  thalach  oldpeak\n",
              "0  0.58      0.57  0.33     0.21     0.11\n",
              "1  0.62      0.78  0.36     0.62     0.04\n",
              "2  0.58      0.57 -0.01     0.75     0.04\n",
              "3  0.56      0.41  0.64     0.54     0.34\n",
              "4  0.87      0.16  0.31     0.37     0.00\n",
              "..  ...       ...   ...      ...      ...\n",
              "71 0.27      0.47  0.22     0.79     0.00\n",
              "72 0.69      0.57  0.26     0.58     0.25\n",
              "73 0.40      0.29  0.21     0.86     0.00\n",
              "74 0.73      0.52  0.19     0.39     0.36\n",
              "75 0.54      0.37  0.30     0.59     0.00\n",
              "\n",
              "[76 rows x 5 columns]"
            ]
          },
          "metadata": {},
          "execution_count": 126
        }
      ]
    },
    {
      "cell_type": "code",
      "metadata": {
        "papermill": {
          "duration": 0.188311,
          "end_time": "2021-09-04T21:00:17.260581",
          "exception": false,
          "start_time": "2021-09-04T21:00:17.07227",
          "status": "completed"
        },
        "tags": [],
        "execution": {
          "iopub.status.busy": "2021-09-04T21:12:21.289085Z",
          "iopub.execute_input": "2021-09-04T21:12:21.289443Z",
          "iopub.status.idle": "2021-09-04T21:12:21.29742Z",
          "shell.execute_reply.started": "2021-09-04T21:12:21.289355Z",
          "shell.execute_reply": "2021-09-04T21:12:21.296543Z"
        },
        "trusted": true,
        "colab": {
          "base_uri": "https://localhost:8080/"
        },
        "id": "gKFbDnjhZ3eM",
        "outputId": "d67e311f-11ab-4f03-e2b8-6d74afa54d92"
      },
      "source": [
        "x_train_scaled.shape"
      ],
      "execution_count": 127,
      "outputs": [
        {
          "output_type": "execute_result",
          "data": {
            "text/plain": [
              "(227, 5)"
            ]
          },
          "metadata": {},
          "execution_count": 127
        }
      ]
    },
    {
      "cell_type": "code",
      "metadata": {
        "papermill": {
          "duration": 0.171984,
          "end_time": "2021-09-04T21:00:17.589935",
          "exception": false,
          "start_time": "2021-09-04T21:00:17.417951",
          "status": "completed"
        },
        "tags": [],
        "execution": {
          "iopub.status.busy": "2021-09-04T21:12:21.298687Z",
          "iopub.execute_input": "2021-09-04T21:12:21.298974Z",
          "iopub.status.idle": "2021-09-04T21:12:21.316594Z",
          "shell.execute_reply.started": "2021-09-04T21:12:21.298947Z",
          "shell.execute_reply": "2021-09-04T21:12:21.315674Z"
        },
        "trusted": true,
        "id": "IwONmsX2Z3eM"
      },
      "source": [
        "x_train_scaled[cat_features] = x_train[cat_features]\n",
        "x_test_scaled[cat_features] = x_test[cat_features]"
      ],
      "execution_count": 128,
      "outputs": []
    },
    {
      "cell_type": "code",
      "metadata": {
        "papermill": {
          "duration": 0.177662,
          "end_time": "2021-09-04T21:00:17.924373",
          "exception": false,
          "start_time": "2021-09-04T21:00:17.746711",
          "status": "completed"
        },
        "tags": [],
        "execution": {
          "iopub.status.busy": "2021-09-04T21:12:21.317601Z",
          "iopub.execute_input": "2021-09-04T21:12:21.31785Z",
          "iopub.status.idle": "2021-09-04T21:12:21.339437Z",
          "shell.execute_reply.started": "2021-09-04T21:12:21.317825Z",
          "shell.execute_reply": "2021-09-04T21:12:21.338401Z"
        },
        "trusted": true,
        "colab": {
          "base_uri": "https://localhost:8080/",
          "height": 419
        },
        "id": "qoiAh5PQZ3eM",
        "outputId": "7fb93a02-777d-4148-b9cf-a4969d4f5a12"
      },
      "source": [
        "x_train_scaled"
      ],
      "execution_count": 129,
      "outputs": [
        {
          "output_type": "execute_result",
          "data": {
            "text/html": [
              "<div>\n",
              "<style scoped>\n",
              "    .dataframe tbody tr th:only-of-type {\n",
              "        vertical-align: middle;\n",
              "    }\n",
              "\n",
              "    .dataframe tbody tr th {\n",
              "        vertical-align: top;\n",
              "    }\n",
              "\n",
              "    .dataframe thead th {\n",
              "        text-align: right;\n",
              "    }\n",
              "</style>\n",
              "<table border=\"1\" class=\"dataframe\">\n",
              "  <thead>\n",
              "    <tr style=\"text-align: right;\">\n",
              "      <th></th>\n",
              "      <th>age</th>\n",
              "      <th>trestbps</th>\n",
              "      <th>chol</th>\n",
              "      <th>thalach</th>\n",
              "      <th>oldpeak</th>\n",
              "      <th>sex</th>\n",
              "      <th>cp</th>\n",
              "      <th>fbs</th>\n",
              "      <th>restecg</th>\n",
              "      <th>exang</th>\n",
              "      <th>slope</th>\n",
              "      <th>ca</th>\n",
              "      <th>thal</th>\n",
              "    </tr>\n",
              "  </thead>\n",
              "  <tbody>\n",
              "    <tr>\n",
              "      <th>0</th>\n",
              "      <td>0.58</td>\n",
              "      <td>0.61</td>\n",
              "      <td>0.23</td>\n",
              "      <td>0.67</td>\n",
              "      <td>0.00</td>\n",
              "      <td>1</td>\n",
              "      <td>1</td>\n",
              "      <td>0</td>\n",
              "      <td>0</td>\n",
              "      <td>0</td>\n",
              "      <td>2</td>\n",
              "      <td>1</td>\n",
              "      <td>2</td>\n",
              "    </tr>\n",
              "    <tr>\n",
              "      <th>1</th>\n",
              "      <td>0.62</td>\n",
              "      <td>0.33</td>\n",
              "      <td>0.20</td>\n",
              "      <td>0.40</td>\n",
              "      <td>0.39</td>\n",
              "      <td>1</td>\n",
              "      <td>2</td>\n",
              "      <td>1</td>\n",
              "      <td>1</td>\n",
              "      <td>0</td>\n",
              "      <td>1</td>\n",
              "      <td>1</td>\n",
              "      <td>1</td>\n",
              "    </tr>\n",
              "    <tr>\n",
              "      <th>2</th>\n",
              "      <td>0.79</td>\n",
              "      <td>0.32</td>\n",
              "      <td>0.28</td>\n",
              "      <td>0.66</td>\n",
              "      <td>0.04</td>\n",
              "      <td>1</td>\n",
              "      <td>0</td>\n",
              "      <td>1</td>\n",
              "      <td>1</td>\n",
              "      <td>0</td>\n",
              "      <td>1</td>\n",
              "      <td>2</td>\n",
              "      <td>3</td>\n",
              "    </tr>\n",
              "    <tr>\n",
              "      <th>3</th>\n",
              "      <td>0.60</td>\n",
              "      <td>0.32</td>\n",
              "      <td>0.21</td>\n",
              "      <td>0.49</td>\n",
              "      <td>0.07</td>\n",
              "      <td>1</td>\n",
              "      <td>1</td>\n",
              "      <td>0</td>\n",
              "      <td>1</td>\n",
              "      <td>0</td>\n",
              "      <td>1</td>\n",
              "      <td>4</td>\n",
              "      <td>3</td>\n",
              "    </tr>\n",
              "    <tr>\n",
              "      <th>4</th>\n",
              "      <td>0.19</td>\n",
              "      <td>0.45</td>\n",
              "      <td>0.10</td>\n",
              "      <td>0.75</td>\n",
              "      <td>0.00</td>\n",
              "      <td>1</td>\n",
              "      <td>2</td>\n",
              "      <td>0</td>\n",
              "      <td>1</td>\n",
              "      <td>0</td>\n",
              "      <td>2</td>\n",
              "      <td>4</td>\n",
              "      <td>2</td>\n",
              "    </tr>\n",
              "    <tr>\n",
              "      <th>...</th>\n",
              "      <td>...</td>\n",
              "      <td>...</td>\n",
              "      <td>...</td>\n",
              "      <td>...</td>\n",
              "      <td>...</td>\n",
              "      <td>...</td>\n",
              "      <td>...</td>\n",
              "      <td>...</td>\n",
              "      <td>...</td>\n",
              "      <td>...</td>\n",
              "      <td>...</td>\n",
              "      <td>...</td>\n",
              "      <td>...</td>\n",
              "    </tr>\n",
              "    <tr>\n",
              "      <th>222</th>\n",
              "      <td>0.44</td>\n",
              "      <td>0.47</td>\n",
              "      <td>0.24</td>\n",
              "      <td>0.66</td>\n",
              "      <td>0.11</td>\n",
              "      <td>1</td>\n",
              "      <td>2</td>\n",
              "      <td>0</td>\n",
              "      <td>1</td>\n",
              "      <td>0</td>\n",
              "      <td>1</td>\n",
              "      <td>1</td>\n",
              "      <td>3</td>\n",
              "    </tr>\n",
              "    <tr>\n",
              "      <th>223</th>\n",
              "      <td>0.46</td>\n",
              "      <td>0.00</td>\n",
              "      <td>0.22</td>\n",
              "      <td>0.58</td>\n",
              "      <td>0.00</td>\n",
              "      <td>1</td>\n",
              "      <td>2</td>\n",
              "      <td>0</td>\n",
              "      <td>1</td>\n",
              "      <td>1</td>\n",
              "      <td>2</td>\n",
              "      <td>1</td>\n",
              "      <td>3</td>\n",
              "    </tr>\n",
              "    <tr>\n",
              "      <th>224</th>\n",
              "      <td>0.83</td>\n",
              "      <td>0.67</td>\n",
              "      <td>0.24</td>\n",
              "      <td>0.38</td>\n",
              "      <td>0.02</td>\n",
              "      <td>1</td>\n",
              "      <td>3</td>\n",
              "      <td>1</td>\n",
              "      <td>0</td>\n",
              "      <td>0</td>\n",
              "      <td>1</td>\n",
              "      <td>1</td>\n",
              "      <td>2</td>\n",
              "    </tr>\n",
              "    <tr>\n",
              "      <th>225</th>\n",
              "      <td>0.35</td>\n",
              "      <td>0.27</td>\n",
              "      <td>0.27</td>\n",
              "      <td>0.49</td>\n",
              "      <td>0.14</td>\n",
              "      <td>1</td>\n",
              "      <td>0</td>\n",
              "      <td>0</td>\n",
              "      <td>0</td>\n",
              "      <td>0</td>\n",
              "      <td>2</td>\n",
              "      <td>0</td>\n",
              "      <td>3</td>\n",
              "    </tr>\n",
              "    <tr>\n",
              "      <th>226</th>\n",
              "      <td>0.71</td>\n",
              "      <td>0.47</td>\n",
              "      <td>0.15</td>\n",
              "      <td>0.80</td>\n",
              "      <td>0.00</td>\n",
              "      <td>0</td>\n",
              "      <td>1</td>\n",
              "      <td>0</td>\n",
              "      <td>1</td>\n",
              "      <td>0</td>\n",
              "      <td>2</td>\n",
              "      <td>2</td>\n",
              "      <td>2</td>\n",
              "    </tr>\n",
              "  </tbody>\n",
              "</table>\n",
              "<p>227 rows × 13 columns</p>\n",
              "</div>"
            ],
            "text/plain": [
              "     age  trestbps  chol  thalach  oldpeak  sex  cp  fbs  restecg  exang  slope  ca  thal\n",
              "0   0.58      0.61  0.23     0.67     0.00    1   1    0        0      0      2   1     2\n",
              "1   0.62      0.33  0.20     0.40     0.39    1   2    1        1      0      1   1     1\n",
              "2   0.79      0.32  0.28     0.66     0.04    1   0    1        1      0      1   2     3\n",
              "3   0.60      0.32  0.21     0.49     0.07    1   1    0        1      0      1   4     3\n",
              "4   0.19      0.45  0.10     0.75     0.00    1   2    0        1      0      2   4     2\n",
              "..   ...       ...   ...      ...      ...  ...  ..  ...      ...    ...    ...  ..   ...\n",
              "222 0.44      0.47  0.24     0.66     0.11    1   2    0        1      0      1   1     3\n",
              "223 0.46      0.00  0.22     0.58     0.00    1   2    0        1      1      2   1     3\n",
              "224 0.83      0.67  0.24     0.38     0.02    1   3    1        0      0      1   1     2\n",
              "225 0.35      0.27  0.27     0.49     0.14    1   0    0        0      0      2   0     3\n",
              "226 0.71      0.47  0.15     0.80     0.00    0   1    0        1      0      2   2     2\n",
              "\n",
              "[227 rows x 13 columns]"
            ]
          },
          "metadata": {},
          "execution_count": 129
        }
      ]
    },
    {
      "cell_type": "code",
      "metadata": {
        "papermill": {
          "duration": 0.178199,
          "end_time": "2021-09-04T21:00:18.262292",
          "exception": false,
          "start_time": "2021-09-04T21:00:18.084093",
          "status": "completed"
        },
        "tags": [],
        "execution": {
          "iopub.status.busy": "2021-09-04T21:12:21.340811Z",
          "iopub.execute_input": "2021-09-04T21:12:21.341136Z",
          "iopub.status.idle": "2021-09-04T21:12:21.364031Z",
          "shell.execute_reply.started": "2021-09-04T21:12:21.341106Z",
          "shell.execute_reply": "2021-09-04T21:12:21.363041Z"
        },
        "trusted": true,
        "colab": {
          "base_uri": "https://localhost:8080/",
          "height": 419
        },
        "id": "GGHqN81VZ3eN",
        "outputId": "3c3257bb-6231-437f-bf01-57229b0cc8b4"
      },
      "source": [
        "x_test_scaled"
      ],
      "execution_count": 130,
      "outputs": [
        {
          "output_type": "execute_result",
          "data": {
            "text/html": [
              "<div>\n",
              "<style scoped>\n",
              "    .dataframe tbody tr th:only-of-type {\n",
              "        vertical-align: middle;\n",
              "    }\n",
              "\n",
              "    .dataframe tbody tr th {\n",
              "        vertical-align: top;\n",
              "    }\n",
              "\n",
              "    .dataframe thead th {\n",
              "        text-align: right;\n",
              "    }\n",
              "</style>\n",
              "<table border=\"1\" class=\"dataframe\">\n",
              "  <thead>\n",
              "    <tr style=\"text-align: right;\">\n",
              "      <th></th>\n",
              "      <th>age</th>\n",
              "      <th>trestbps</th>\n",
              "      <th>chol</th>\n",
              "      <th>thalach</th>\n",
              "      <th>oldpeak</th>\n",
              "      <th>sex</th>\n",
              "      <th>cp</th>\n",
              "      <th>fbs</th>\n",
              "      <th>restecg</th>\n",
              "      <th>exang</th>\n",
              "      <th>slope</th>\n",
              "      <th>ca</th>\n",
              "      <th>thal</th>\n",
              "    </tr>\n",
              "  </thead>\n",
              "  <tbody>\n",
              "    <tr>\n",
              "      <th>0</th>\n",
              "      <td>0.58</td>\n",
              "      <td>0.57</td>\n",
              "      <td>0.33</td>\n",
              "      <td>0.21</td>\n",
              "      <td>0.11</td>\n",
              "      <td>1</td>\n",
              "      <td>0</td>\n",
              "      <td>0</td>\n",
              "      <td>0</td>\n",
              "      <td>1</td>\n",
              "      <td>1</td>\n",
              "      <td>1</td>\n",
              "      <td>1</td>\n",
              "    </tr>\n",
              "    <tr>\n",
              "      <th>1</th>\n",
              "      <td>0.62</td>\n",
              "      <td>0.78</td>\n",
              "      <td>0.36</td>\n",
              "      <td>0.62</td>\n",
              "      <td>0.04</td>\n",
              "      <td>1</td>\n",
              "      <td>3</td>\n",
              "      <td>0</td>\n",
              "      <td>0</td>\n",
              "      <td>0</td>\n",
              "      <td>1</td>\n",
              "      <td>0</td>\n",
              "      <td>3</td>\n",
              "    </tr>\n",
              "    <tr>\n",
              "      <th>2</th>\n",
              "      <td>0.58</td>\n",
              "      <td>0.57</td>\n",
              "      <td>-0.01</td>\n",
              "      <td>0.75</td>\n",
              "      <td>0.04</td>\n",
              "      <td>1</td>\n",
              "      <td>2</td>\n",
              "      <td>1</td>\n",
              "      <td>1</td>\n",
              "      <td>0</td>\n",
              "      <td>2</td>\n",
              "      <td>1</td>\n",
              "      <td>3</td>\n",
              "    </tr>\n",
              "    <tr>\n",
              "      <th>3</th>\n",
              "      <td>0.56</td>\n",
              "      <td>0.41</td>\n",
              "      <td>0.64</td>\n",
              "      <td>0.54</td>\n",
              "      <td>0.34</td>\n",
              "      <td>0</td>\n",
              "      <td>0</td>\n",
              "      <td>0</td>\n",
              "      <td>0</td>\n",
              "      <td>1</td>\n",
              "      <td>1</td>\n",
              "      <td>2</td>\n",
              "      <td>3</td>\n",
              "    </tr>\n",
              "    <tr>\n",
              "      <th>4</th>\n",
              "      <td>0.87</td>\n",
              "      <td>0.16</td>\n",
              "      <td>0.31</td>\n",
              "      <td>0.37</td>\n",
              "      <td>0.00</td>\n",
              "      <td>0</td>\n",
              "      <td>2</td>\n",
              "      <td>1</td>\n",
              "      <td>0</td>\n",
              "      <td>0</td>\n",
              "      <td>2</td>\n",
              "      <td>1</td>\n",
              "      <td>2</td>\n",
              "    </tr>\n",
              "    <tr>\n",
              "      <th>...</th>\n",
              "      <td>...</td>\n",
              "      <td>...</td>\n",
              "      <td>...</td>\n",
              "      <td>...</td>\n",
              "      <td>...</td>\n",
              "      <td>...</td>\n",
              "      <td>...</td>\n",
              "      <td>...</td>\n",
              "      <td>...</td>\n",
              "      <td>...</td>\n",
              "      <td>...</td>\n",
              "      <td>...</td>\n",
              "      <td>...</td>\n",
              "    </tr>\n",
              "    <tr>\n",
              "      <th>71</th>\n",
              "      <td>0.27</td>\n",
              "      <td>0.47</td>\n",
              "      <td>0.22</td>\n",
              "      <td>0.79</td>\n",
              "      <td>0.00</td>\n",
              "      <td>1</td>\n",
              "      <td>0</td>\n",
              "      <td>0</td>\n",
              "      <td>1</td>\n",
              "      <td>0</td>\n",
              "      <td>2</td>\n",
              "      <td>0</td>\n",
              "      <td>2</td>\n",
              "    </tr>\n",
              "    <tr>\n",
              "      <th>72</th>\n",
              "      <td>0.69</td>\n",
              "      <td>0.57</td>\n",
              "      <td>0.26</td>\n",
              "      <td>0.58</td>\n",
              "      <td>0.25</td>\n",
              "      <td>0</td>\n",
              "      <td>0</td>\n",
              "      <td>0</td>\n",
              "      <td>1</td>\n",
              "      <td>1</td>\n",
              "      <td>1</td>\n",
              "      <td>0</td>\n",
              "      <td>2</td>\n",
              "    </tr>\n",
              "    <tr>\n",
              "      <th>73</th>\n",
              "      <td>0.40</td>\n",
              "      <td>0.29</td>\n",
              "      <td>0.21</td>\n",
              "      <td>0.86</td>\n",
              "      <td>0.00</td>\n",
              "      <td>1</td>\n",
              "      <td>0</td>\n",
              "      <td>0</td>\n",
              "      <td>0</td>\n",
              "      <td>0</td>\n",
              "      <td>2</td>\n",
              "      <td>0</td>\n",
              "      <td>2</td>\n",
              "    </tr>\n",
              "    <tr>\n",
              "      <th>74</th>\n",
              "      <td>0.73</td>\n",
              "      <td>0.52</td>\n",
              "      <td>0.19</td>\n",
              "      <td>0.39</td>\n",
              "      <td>0.36</td>\n",
              "      <td>1</td>\n",
              "      <td>0</td>\n",
              "      <td>0</td>\n",
              "      <td>0</td>\n",
              "      <td>0</td>\n",
              "      <td>1</td>\n",
              "      <td>2</td>\n",
              "      <td>1</td>\n",
              "    </tr>\n",
              "    <tr>\n",
              "      <th>75</th>\n",
              "      <td>0.54</td>\n",
              "      <td>0.37</td>\n",
              "      <td>0.30</td>\n",
              "      <td>0.59</td>\n",
              "      <td>0.00</td>\n",
              "      <td>1</td>\n",
              "      <td>1</td>\n",
              "      <td>0</td>\n",
              "      <td>1</td>\n",
              "      <td>0</td>\n",
              "      <td>2</td>\n",
              "      <td>0</td>\n",
              "      <td>2</td>\n",
              "    </tr>\n",
              "  </tbody>\n",
              "</table>\n",
              "<p>76 rows × 13 columns</p>\n",
              "</div>"
            ],
            "text/plain": [
              "    age  trestbps  chol  thalach  oldpeak  sex  cp  fbs  restecg  exang  slope  ca  thal\n",
              "0  0.58      0.57  0.33     0.21     0.11    1   0    0        0      1      1   1     1\n",
              "1  0.62      0.78  0.36     0.62     0.04    1   3    0        0      0      1   0     3\n",
              "2  0.58      0.57 -0.01     0.75     0.04    1   2    1        1      0      2   1     3\n",
              "3  0.56      0.41  0.64     0.54     0.34    0   0    0        0      1      1   2     3\n",
              "4  0.87      0.16  0.31     0.37     0.00    0   2    1        0      0      2   1     2\n",
              "..  ...       ...   ...      ...      ...  ...  ..  ...      ...    ...    ...  ..   ...\n",
              "71 0.27      0.47  0.22     0.79     0.00    1   0    0        1      0      2   0     2\n",
              "72 0.69      0.57  0.26     0.58     0.25    0   0    0        1      1      1   0     2\n",
              "73 0.40      0.29  0.21     0.86     0.00    1   0    0        0      0      2   0     2\n",
              "74 0.73      0.52  0.19     0.39     0.36    1   0    0        0      0      1   2     1\n",
              "75 0.54      0.37  0.30     0.59     0.00    1   1    0        1      0      2   0     2\n",
              "\n",
              "[76 rows x 13 columns]"
            ]
          },
          "metadata": {},
          "execution_count": 130
        }
      ]
    },
    {
      "cell_type": "code",
      "metadata": {
        "papermill": {
          "duration": 0.218043,
          "end_time": "2021-09-04T21:00:18.641824",
          "exception": false,
          "start_time": "2021-09-04T21:00:18.423781",
          "status": "completed"
        },
        "tags": [],
        "execution": {
          "iopub.status.busy": "2021-09-04T21:12:21.366466Z",
          "iopub.execute_input": "2021-09-04T21:12:21.366773Z",
          "iopub.status.idle": "2021-09-04T21:12:21.373901Z",
          "shell.execute_reply.started": "2021-09-04T21:12:21.366745Z",
          "shell.execute_reply": "2021-09-04T21:12:21.373109Z"
        },
        "trusted": true,
        "id": "c-Tu7duvZ3eN"
      },
      "source": [
        "x_train_scaled = x_train_scaled.values\n",
        "x_test_scaled = x_test_scaled.values"
      ],
      "execution_count": 131,
      "outputs": []
    },
    {
      "cell_type": "markdown",
      "metadata": {
        "papermill": {
          "duration": 0.158075,
          "end_time": "2021-09-04T21:00:18.961337",
          "exception": false,
          "start_time": "2021-09-04T21:00:18.803262",
          "status": "completed"
        },
        "tags": [],
        "id": "xITftf7OZ3eN"
      },
      "source": [
        "### Automate Feature Selection "
      ]
    },
    {
      "cell_type": "code",
      "metadata": {
        "papermill": {
          "duration": 0.327057,
          "end_time": "2021-09-04T21:00:19.447487",
          "exception": false,
          "start_time": "2021-09-04T21:00:19.12043",
          "status": "completed"
        },
        "tags": [],
        "execution": {
          "iopub.status.busy": "2021-09-04T21:12:21.375221Z",
          "iopub.execute_input": "2021-09-04T21:12:21.375626Z",
          "iopub.status.idle": "2021-09-04T21:12:21.52469Z",
          "shell.execute_reply.started": "2021-09-04T21:12:21.375576Z",
          "shell.execute_reply": "2021-09-04T21:12:21.523817Z"
        },
        "trusted": true,
        "colab": {
          "base_uri": "https://localhost:8080/"
        },
        "id": "VypzE065Z3eO",
        "outputId": "ca6379ad-eb98-412c-b262-c596e6791b07"
      },
      "source": [
        "from sklearn.feature_selection import SelectPercentile\n",
        "select = SelectPercentile(percentile=60)\n",
        "select.fit(x_train_scaled, y_train)\n",
        "# transform training set\n",
        "x_train_selected = select.transform(x_train_scaled)\n",
        "print(\"x_train.shape: {}\".format(x_train.shape))\n",
        "print(\"x_train_selected.shape: {}\".format(x_train_selected.shape))"
      ],
      "execution_count": 132,
      "outputs": [
        {
          "output_type": "stream",
          "name": "stdout",
          "text": [
            "x_train.shape: (227, 13)\n",
            "x_train_selected.shape: (227, 8)\n"
          ]
        }
      ]
    },
    {
      "cell_type": "code",
      "metadata": {
        "papermill": {
          "duration": 0.477486,
          "end_time": "2021-09-04T21:00:20.084576",
          "exception": false,
          "start_time": "2021-09-04T21:00:19.60709",
          "status": "completed"
        },
        "tags": [],
        "execution": {
          "iopub.status.busy": "2021-09-04T21:12:21.525731Z",
          "iopub.execute_input": "2021-09-04T21:12:21.526009Z",
          "iopub.status.idle": "2021-09-04T21:12:21.760464Z",
          "shell.execute_reply.started": "2021-09-04T21:12:21.525982Z",
          "shell.execute_reply": "2021-09-04T21:12:21.759813Z"
        },
        "trusted": true,
        "colab": {
          "base_uri": "https://localhost:8080/",
          "height": 180
        },
        "id": "-7xuryKAZ3eO",
        "outputId": "b71dbd0d-730e-4ab1-fbe6-aefd8bef5d00"
      },
      "source": [
        "mask = select.get_support()\n",
        "print(mask)\n",
        "plt.matshow(mask.reshape(1,-1),cmap='gray_r')\n",
        "plt.xlabel('Sample Index')"
      ],
      "execution_count": 133,
      "outputs": [
        {
          "output_type": "stream",
          "name": "stdout",
          "text": [
            "[False False False  True  True  True  True False False  True  True  True\n",
            "  True]\n"
          ]
        },
        {
          "output_type": "execute_result",
          "data": {
            "text/plain": [
              "Text(0.5, 0, 'Sample Index')"
            ]
          },
          "metadata": {},
          "execution_count": 133
        },
        {
          "output_type": "display_data",
          "data": {
            "image/png": "[encoded data removed]",
            "text/plain": [
              "<Figure size 1152x144 with 1 Axes>"
            ]
          },
          "metadata": {}
        }
      ]
    },
    {
      "cell_type": "markdown",
      "metadata": {
        "papermill": {
          "duration": 0.162248,
          "end_time": "2021-09-04T21:00:20.465518",
          "exception": false,
          "start_time": "2021-09-04T21:00:20.30327",
          "status": "completed"
        },
        "tags": [],
        "id": "QwpKu1AcZ3eO"
      },
      "source": [
        "The above plot shows which features have been selected (in black)."
      ]
    },
    {
      "cell_type": "code",
      "metadata": {
        "papermill": {
          "duration": 0.16817,
          "end_time": "2021-09-04T21:00:20.797061",
          "exception": false,
          "start_time": "2021-09-04T21:00:20.628891",
          "status": "completed"
        },
        "tags": [],
        "execution": {
          "iopub.status.busy": "2021-09-04T21:12:21.761637Z",
          "iopub.execute_input": "2021-09-04T21:12:21.762108Z",
          "iopub.status.idle": "2021-09-04T21:12:21.767875Z",
          "shell.execute_reply.started": "2021-09-04T21:12:21.762057Z",
          "shell.execute_reply": "2021-09-04T21:12:21.766861Z"
        },
        "trusted": true,
        "id": "QxEZVDPSZ3eP"
      },
      "source": [
        "## Preparing the train and test set with the selected features only.\n",
        "x_train_scaled = select.transform(x_train_scaled)\n",
        "x_test_scaled = select.transform(x_test_scaled)"
      ],
      "execution_count": 134,
      "outputs": []
    },
    {
      "cell_type": "markdown",
      "metadata": {
        "papermill": {
          "duration": 0.16133,
          "end_time": "2021-09-04T21:00:21.121022",
          "exception": false,
          "start_time": "2021-09-04T21:00:20.959692",
          "status": "completed"
        },
        "tags": [],
        "id": "aL7n4Kk4Z3eP"
      },
      "source": [
        "# Task 4 - Model evaluation"
      ]
    },
    {
      "cell_type": "markdown",
      "metadata": {
        "papermill": {
          "duration": 0.159817,
          "end_time": "2021-09-04T21:00:21.442882",
          "exception": false,
          "start_time": "2021-09-04T21:00:21.283065",
          "status": "completed"
        },
        "tags": [],
        "id": "mIcJxNLDZ3eP"
      },
      "source": [
        "### K-Nearest Neighbor"
      ]
    },
    {
      "cell_type": "code",
      "metadata": {
        "papermill": {
          "duration": 0.185622,
          "end_time": "2021-09-04T21:00:21.789838",
          "exception": false,
          "start_time": "2021-09-04T21:00:21.604216",
          "status": "completed"
        },
        "tags": [],
        "execution": {
          "iopub.status.busy": "2021-09-04T21:12:21.769663Z",
          "iopub.execute_input": "2021-09-04T21:12:21.771234Z",
          "iopub.status.idle": "2021-09-04T21:12:21.812888Z",
          "shell.execute_reply.started": "2021-09-04T21:12:21.771168Z",
          "shell.execute_reply": "2021-09-04T21:12:21.811917Z"
        },
        "trusted": true,
        "colab": {
          "base_uri": "https://localhost:8080/"
        },
        "id": "sCrlSr_ZZ3eQ",
        "outputId": "408303cf-a7bc-40a0-bee7-fabcf8647d06"
      },
      "source": [
        "from sklearn.neighbors import KNeighborsClassifier\n",
        "knn = KNeighborsClassifier(n_neighbors = 5)\n",
        "knn.fit(x_train_scaled,y_train)\n",
        "print(knn.score(x_train_scaled,y_train))\n",
        "print(knn.score(x_test_scaled,y_test))"
      ],
      "execution_count": 135,
      "outputs": [
        {
          "output_type": "stream",
          "name": "stdout",
          "text": [
            "0.8678414096916299\n",
            "0.881578947368421\n"
          ]
        }
      ]
    },
    {
      "cell_type": "code",
      "metadata": {
        "papermill": {
          "duration": 4.766183,
          "end_time": "2021-09-04T21:00:26.721164",
          "exception": false,
          "start_time": "2021-09-04T21:00:21.954981",
          "status": "completed"
        },
        "tags": [],
        "execution": {
          "iopub.status.busy": "2021-09-04T21:12:21.814476Z",
          "iopub.execute_input": "2021-09-04T21:12:21.815165Z",
          "iopub.status.idle": "2021-09-04T21:12:26.488684Z",
          "shell.execute_reply.started": "2021-09-04T21:12:21.815119Z",
          "shell.execute_reply": "2021-09-04T21:12:26.488024Z"
        },
        "trusted": true,
        "colab": {
          "base_uri": "https://localhost:8080/",
          "height": 765
        },
        "id": "w4Jie4VfZ3eQ",
        "outputId": "3b0bbe3e-84f9-4a81-d492-b17617b105b3"
      },
      "source": [
        "from sklearn.neighbors import KNeighborsClassifier\n",
        "training_accuracy=[]\n",
        "testing_accuracy=[]\n",
        "neighbors_settings=range(1,11)\n",
        "for n_neighbors in neighbors_settings:\n",
        "    clf = KNeighborsClassifier(n_neighbors=n_neighbors,n_jobs=-1)\n",
        "    clf.fit(x_train_scaled,y_train)\n",
        "    training_accuracy.append(clf.score(x_train_scaled,y_train))\n",
        "    testing_accuracy.append(clf.score(x_test_scaled,y_test))\n",
        "    print(\"For k = {:.0f} : Training accuracy {:.3f} and Testing accuracy {:.3f}\".format(n_neighbors,clf.score(x_train_scaled,y_train),clf.score(x_test_scaled,y_test)))\n",
        "plt.plot(neighbors_settings,training_accuracy,label='Training Accuracy')\n",
        "plt.plot(neighbors_settings,testing_accuracy,label='Testing Accuracy')\n",
        "plt.xlabel(\"n_neighbors\")\n",
        "plt.ylabel(\"Accuracy\")\n",
        "plt.legend()\n"
      ],
      "execution_count": 136,
      "outputs": [
        {
          "output_type": "stream",
          "name": "stdout",
          "text": [
            "For k = 1 : Training accuracy 1.000 and Testing accuracy 0.776\n",
            "For k = 2 : Training accuracy 0.885 and Testing accuracy 0.816\n",
            "For k = 3 : Training accuracy 0.885 and Testing accuracy 0.868\n",
            "For k = 4 : Training accuracy 0.877 and Testing accuracy 0.868\n",
            "For k = 5 : Training accuracy 0.868 and Testing accuracy 0.882\n",
            "For k = 6 : Training accuracy 0.859 and Testing accuracy 0.842\n",
            "For k = 7 : Training accuracy 0.855 and Testing accuracy 0.882\n",
            "For k = 8 : Training accuracy 0.872 and Testing accuracy 0.868\n",
            "For k = 9 : Training accuracy 0.872 and Testing accuracy 0.882\n",
            "For k = 10 : Training accuracy 0.868 and Testing accuracy 0.868\n"
          ]
        },
        {
          "output_type": "execute_result",
          "data": {
            "text/plain": [
              "<matplotlib.legend.Legend at 0x7f0334abe2d0>"
            ]
          },
          "metadata": {},
          "execution_count": 136
        },
        {
          "output_type": "display_data",
          "data": {
            "image/png": "[encoded data removed]",
            "text/plain": [
              "<Figure size 1152x720 with 1 Axes>"
            ]
          },
          "metadata": {}
        }
      ]
    },
    {
      "cell_type": "markdown",
      "metadata": {
        "papermill": {
          "duration": 0.172202,
          "end_time": "2021-09-04T21:00:27.061054",
          "exception": false,
          "start_time": "2021-09-04T21:00:26.888852",
          "status": "completed"
        },
        "tags": [],
        "id": "12mebR6CZ3eR"
      },
      "source": [
        "From the above plot, the optimal value of k is 9 with training accuracy 0.868 and testing accuracy 0.895"
      ]
    },
    {
      "cell_type": "markdown",
      "metadata": {
        "papermill": {
          "duration": 0.164736,
          "end_time": "2021-09-04T21:00:27.393159",
          "exception": false,
          "start_time": "2021-09-04T21:00:27.228423",
          "status": "completed"
        },
        "tags": [],
        "id": "S9TYG4b_Z3eS"
      },
      "source": [
        "### Logistic Regression"
      ]
    },
    {
      "cell_type": "code",
      "metadata": {
        "papermill": {
          "duration": 0.193712,
          "end_time": "2021-09-04T21:00:27.755443",
          "exception": false,
          "start_time": "2021-09-04T21:00:27.561731",
          "status": "completed"
        },
        "tags": [],
        "execution": {
          "iopub.status.busy": "2021-09-04T21:12:26.489693Z",
          "iopub.execute_input": "2021-09-04T21:12:26.490054Z",
          "iopub.status.idle": "2021-09-04T21:12:26.515579Z",
          "shell.execute_reply.started": "2021-09-04T21:12:26.490026Z",
          "shell.execute_reply": "2021-09-04T21:12:26.514566Z"
        },
        "trusted": true,
        "colab": {
          "base_uri": "https://localhost:8080/"
        },
        "id": "u7UoH0_RZ3eS",
        "outputId": "835b148a-7d70-45af-b9ff-0039e9a8d3ab"
      },
      "source": [
        "from sklearn.linear_model import LogisticRegression\n",
        "logreg = LogisticRegression(C=10)\n",
        "logreg.fit(x_train_scaled,y_train)\n",
        "print(\"Trainig Score:\",logreg.score(x_train_scaled,y_train))\n",
        "print(\"Testing Score:\",logreg.score(x_test_scaled,y_test))"
      ],
      "execution_count": 137,
      "outputs": [
        {
          "output_type": "stream",
          "name": "stdout",
          "text": [
            "Trainig Score: 0.8281938325991189\n",
            "Testing Score: 0.868421052631579\n"
          ]
        }
      ]
    },
    {
      "cell_type": "markdown",
      "metadata": {
        "papermill": {
          "duration": 0.195132,
          "end_time": "2021-09-04T21:00:28.115825",
          "exception": false,
          "start_time": "2021-09-04T21:00:27.920693",
          "status": "completed"
        },
        "tags": [],
        "id": "7c2Di6fwZ3eS"
      },
      "source": [
        "### Linear SVC"
      ]
    },
    {
      "cell_type": "code",
      "metadata": {
        "papermill": {
          "duration": 0.18277,
          "end_time": "2021-09-04T21:00:28.466296",
          "exception": false,
          "start_time": "2021-09-04T21:00:28.283526",
          "status": "completed"
        },
        "tags": [],
        "execution": {
          "iopub.status.busy": "2021-09-04T21:12:26.517085Z",
          "iopub.execute_input": "2021-09-04T21:12:26.517511Z",
          "iopub.status.idle": "2021-09-04T21:12:26.534309Z",
          "shell.execute_reply.started": "2021-09-04T21:12:26.517457Z",
          "shell.execute_reply": "2021-09-04T21:12:26.533539Z"
        },
        "trusted": true,
        "colab": {
          "base_uri": "https://localhost:8080/"
        },
        "id": "D0HjFD7fZ3eT",
        "outputId": "4c48a221-d897-48b4-e1ac-04e34f889b9b"
      },
      "source": [
        "from sklearn.svm import LinearSVC\n",
        "linearsvm = LinearSVC().fit(x_train_scaled,y_train)\n",
        "print(\"Coefficient :\",linearsvm.coef_)\n",
        "print(\"Intercept :\",linearsvm.intercept_)\n",
        "print(\"Trainig Score:\",linearsvm.score(x_train_scaled,y_train))\n",
        "print(\"Testing Score:\",linearsvm.score(x_test_scaled,y_test))"
      ],
      "execution_count": 138,
      "outputs": [
        {
          "output_type": "stream",
          "name": "stdout",
          "text": [
            "Coefficient : [[ 0.52090652 -1.01328992 -0.42703459  0.28268458 -0.41574751  0.25217129\n",
            "  -0.28405122 -0.31953093]]\n",
            "Intercept : [0.68482994]\n",
            "Trainig Score: 0.8325991189427313\n",
            "Testing Score: 0.868421052631579\n"
          ]
        }
      ]
    },
    {
      "cell_type": "markdown",
      "metadata": {
        "papermill": {
          "duration": 0.164429,
          "end_time": "2021-09-04T21:00:28.793898",
          "exception": false,
          "start_time": "2021-09-04T21:00:28.629469",
          "status": "completed"
        },
        "tags": [],
        "id": "bWm3wMcPZ3eT"
      },
      "source": [
        "### Decision Tree Classifier"
      ]
    },
    {
      "cell_type": "code",
      "metadata": {
        "papermill": {
          "duration": 0.200342,
          "end_time": "2021-09-04T21:00:29.157737",
          "exception": false,
          "start_time": "2021-09-04T21:00:28.957395",
          "status": "completed"
        },
        "tags": [],
        "execution": {
          "iopub.status.busy": "2021-09-04T21:12:26.535318Z",
          "iopub.execute_input": "2021-09-04T21:12:26.53559Z",
          "iopub.status.idle": "2021-09-04T21:12:26.568159Z",
          "shell.execute_reply.started": "2021-09-04T21:12:26.535565Z",
          "shell.execute_reply": "2021-09-04T21:12:26.567304Z"
        },
        "trusted": true,
        "colab": {
          "base_uri": "https://localhost:8080/"
        },
        "id": "i9xvCGdxZ3eT",
        "outputId": "44a0443a-c693-47d4-fe48-834a5e12b943"
      },
      "source": [
        "from sklearn.tree import DecisionTreeClassifier\n",
        "tree = DecisionTreeClassifier(max_depth=4)\n",
        "tree.fit(x_train_scaled,y_train)\n",
        "print(\"Training Accuracy {:.3f}\".format(tree.score(x_train_scaled,y_train)))\n",
        "print(\"Testing Accuracy {:.3f}\".format(tree.score(x_test_scaled,y_test)))"
      ],
      "execution_count": 139,
      "outputs": [
        {
          "output_type": "stream",
          "name": "stdout",
          "text": [
            "Training Accuracy 0.890\n",
            "Testing Accuracy 0.816\n"
          ]
        }
      ]
    },
    {
      "cell_type": "code",
      "metadata": {
        "papermill": {
          "duration": 2.821836,
          "end_time": "2021-09-04T21:00:32.150368",
          "exception": false,
          "start_time": "2021-09-04T21:00:29.328532",
          "status": "completed"
        },
        "tags": [],
        "execution": {
          "iopub.status.busy": "2021-09-04T21:12:26.569456Z",
          "iopub.execute_input": "2021-09-04T21:12:26.569769Z",
          "iopub.status.idle": "2021-09-04T21:12:29.311788Z",
          "shell.execute_reply.started": "2021-09-04T21:12:26.569742Z",
          "shell.execute_reply": "2021-09-04T21:12:29.31097Z"
        },
        "trusted": true,
        "colab": {
          "base_uri": "https://localhost:8080/"
        },
        "id": "zoTCAF-5Z3eU",
        "outputId": "c227a20d-f296-4d78-9ef4-20ce11419973"
      },
      "source": [
        "## Performing cross validation for hyperparamter tunning of DecisionTreeClassifier model.\n",
        "from sklearn.model_selection import GridSearchCV\n",
        "param_test = {\n",
        "    'max_depth' : [2,3,4,5,6,7],\n",
        "    'min_samples_split' : [2,3,4,5],\n",
        "    'min_samples_leaf' :[2,3,4,5]\n",
        "}\n",
        "tree_cv = GridSearchCV(estimator= DecisionTreeClassifier(),\n",
        "                             param_grid = param_test,scoring='accuracy',\n",
        "                             n_jobs=-1,cv=5)\n",
        "tree_cv.fit(x_train_scaled,y_train)\n",
        "## This best score is the mean of five cross validation folds with the best hyperparamters. \n",
        "print(tree_cv.best_params_, tree_cv.best_score_)\n",
        "print(\"Training Accuracy {:.3f}\".format(tree_cv.score(x_train_scaled,y_train)))\n",
        "print(\"Testing Accuracy {:.3f}\".format(tree_cv.score(x_test_scaled,y_test)))"
      ],
      "execution_count": 140,
      "outputs": [
        {
          "output_type": "stream",
          "name": "stdout",
          "text": [
            "{'max_depth': 7, 'min_samples_leaf': 5, 'min_samples_split': 3} 0.7891787439613527\n",
            "Training Accuracy 0.872\n",
            "Testing Accuracy 0.750\n"
          ]
        }
      ]
    },
    {
      "cell_type": "markdown",
      "metadata": {
        "papermill": {
          "duration": 0.167989,
          "end_time": "2021-09-04T21:00:32.485637",
          "exception": false,
          "start_time": "2021-09-04T21:00:32.317648",
          "status": "completed"
        },
        "tags": [],
        "id": "79eLdbEpZ3eU"
      },
      "source": [
        "### MLP Classifier"
      ]
    },
    {
      "cell_type": "code",
      "metadata": {
        "papermill": {
          "duration": 0.630984,
          "end_time": "2021-09-04T21:00:33.282517",
          "exception": false,
          "start_time": "2021-09-04T21:00:32.651533",
          "status": "completed"
        },
        "tags": [],
        "execution": {
          "iopub.status.busy": "2021-09-04T21:12:29.313972Z",
          "iopub.execute_input": "2021-09-04T21:12:29.314419Z",
          "iopub.status.idle": "2021-09-04T21:12:29.813097Z",
          "shell.execute_reply.started": "2021-09-04T21:12:29.314385Z",
          "shell.execute_reply": "2021-09-04T21:12:29.811904Z"
        },
        "trusted": true,
        "colab": {
          "base_uri": "https://localhost:8080/"
        },
        "id": "qnNuVpfuZ3eU",
        "outputId": "bab8578a-bde8-4eec-ee9d-1b154b1cd112"
      },
      "source": [
        "from sklearn.neural_network import MLPClassifier\n",
        "clf = MLPClassifier().fit(x_train_scaled,y_train)\n",
        "print(\"Training Accuracy {:.3f}\".format(clf.score(x_train_scaled,y_train)))\n",
        "print(\"Testing Accuracy {:.3f}\".format(clf.score(x_test_scaled,y_test)))"
      ],
      "execution_count": 141,
      "outputs": [
        {
          "output_type": "stream",
          "name": "stdout",
          "text": [
            "Training Accuracy 0.859\n",
            "Testing Accuracy 0.882\n"
          ]
        }
      ]
    },
    {
      "cell_type": "code",
      "metadata": {
        "papermill": {
          "duration": 5.873002,
          "end_time": "2021-09-04T21:00:39.377462",
          "exception": false,
          "start_time": "2021-09-04T21:00:33.50446",
          "status": "completed"
        },
        "tags": [],
        "execution": {
          "iopub.status.busy": "2021-09-04T21:12:29.814786Z",
          "iopub.execute_input": "2021-09-04T21:12:29.815571Z",
          "iopub.status.idle": "2021-09-04T21:12:36.234717Z",
          "shell.execute_reply.started": "2021-09-04T21:12:29.815511Z",
          "shell.execute_reply": "2021-09-04T21:12:36.233597Z"
        },
        "trusted": true,
        "colab": {
          "base_uri": "https://localhost:8080/"
        },
        "id": "3yg8q8dWZ3eV",
        "outputId": "4a790ba1-de33-4caf-de17-428b3609596b"
      },
      "source": [
        "## Performing cross validation for hyperparamter tunning of MLPClassifier model.\n",
        "param_test = {\n",
        "    'activation' : ['logistic', 'tanh', 'relu'],\n",
        "    'alpha' : [0.01,0.1,0.5,1],\n",
        "    'learning_rate' : ['adaptive']\n",
        "    \n",
        "}\n",
        "mlp_cv = GridSearchCV(estimator= MLPClassifier(),\n",
        "                             param_grid = param_test,scoring='accuracy',\n",
        "                             n_jobs=-1,cv=5)\n",
        "mlp_cv.fit(x_train_scaled,y_train)\n",
        "## This best score is the mean of five cross validation folds with the best hyperparamters. \n",
        "print(mlp_cv.best_params_, mlp_cv.best_score_)\n",
        "print(\"Training Accuracy {:.3f}\".format(mlp_cv.score(x_train_scaled,y_train)))\n",
        "print(\"Testing Accuracy {:.3f}\".format(mlp_cv.score(x_test_scaled,y_test)))"
      ],
      "execution_count": 142,
      "outputs": [
        {
          "output_type": "stream",
          "name": "stdout",
          "text": [
            "{'activation': 'logistic', 'alpha': 0.1, 'learning_rate': 'adaptive'} 0.8326570048309179\n",
            "Training Accuracy 0.824\n",
            "Testing Accuracy 0.868\n"
          ]
        }
      ]
    },
    {
      "cell_type": "markdown",
      "metadata": {
        "papermill": {
          "duration": 0.16827,
          "end_time": "2021-09-04T21:00:39.804369",
          "exception": false,
          "start_time": "2021-09-04T21:00:39.636099",
          "status": "completed"
        },
        "tags": [],
        "id": "Sfp1ZjqvZ3eV"
      },
      "source": [
        "### Random Forest Classifier"
      ]
    },
    {
      "cell_type": "code",
      "metadata": {
        "papermill": {
          "duration": 0.951225,
          "end_time": "2021-09-04T21:00:40.923266",
          "exception": false,
          "start_time": "2021-09-04T21:00:39.972041",
          "status": "completed"
        },
        "tags": [],
        "execution": {
          "iopub.status.busy": "2021-09-04T21:12:36.23625Z",
          "iopub.execute_input": "2021-09-04T21:12:36.236664Z",
          "iopub.status.idle": "2021-09-04T21:12:37.320892Z",
          "shell.execute_reply.started": "2021-09-04T21:12:36.236624Z",
          "shell.execute_reply": "2021-09-04T21:12:37.319951Z"
        },
        "trusted": true,
        "colab": {
          "base_uri": "https://localhost:8080/"
        },
        "id": "xX0z4eqKZ3eW",
        "outputId": "7df72e0a-cba6-4c45-8cc2-02c3234c56f1"
      },
      "source": [
        "from sklearn.ensemble import RandomForestClassifier\n",
        "rf = RandomForestClassifier(n_estimators=500,max_depth=4).fit(x_train_scaled,y_train)\n",
        "print(\"Training Accuracy {:.3f}\".format(rf.score(x_train_scaled,y_train)))\n",
        "print(\"Testing Accuracy {:.3f}\".format(rf.score(x_test_scaled,y_test)))"
      ],
      "execution_count": 143,
      "outputs": [
        {
          "output_type": "stream",
          "name": "stdout",
          "text": [
            "Training Accuracy 0.903\n",
            "Testing Accuracy 0.855\n"
          ]
        }
      ]
    },
    {
      "cell_type": "code",
      "metadata": {
        "papermill": {
          "duration": 151.455458,
          "end_time": "2021-09-04T21:03:12.544583",
          "exception": false,
          "start_time": "2021-09-04T21:00:41.089125",
          "status": "completed"
        },
        "tags": [],
        "execution": {
          "iopub.status.busy": "2021-09-04T21:12:37.323137Z",
          "iopub.execute_input": "2021-09-04T21:12:37.323822Z",
          "iopub.status.idle": "2021-09-04T21:15:32.028422Z",
          "shell.execute_reply.started": "2021-09-04T21:12:37.323777Z",
          "shell.execute_reply": "2021-09-04T21:15:32.02754Z"
        },
        "trusted": true,
        "colab": {
          "base_uri": "https://localhost:8080/"
        },
        "id": "HeGGaDOoZ3eW",
        "outputId": "ff5fe168-41a2-49ec-8ca3-c952f4139542"
      },
      "source": [
        "## Performing cross validation for hyperparamter tunning of Random Forest Classifier model.\n",
        "param_test = {\n",
        "    'max_depth' : [2,3,4,5,6,7],\n",
        "    'min_samples_split' : [2,3,4,5],\n",
        "    'min_samples_leaf' :[2,3,4,5]\n",
        "}\n",
        "rf_cv = GridSearchCV(estimator= RandomForestClassifier(n_estimators=500),\n",
        "                             param_grid = param_test,scoring='accuracy',\n",
        "                             n_jobs=-1,cv=5)\n",
        "rf_cv.fit(x_train_scaled,y_train)\n",
        "## This best score is the mean of five cross validation folds with the best hyperparamters. \n",
        "print(rf_cv.best_params_, rf_cv.best_score_)\n",
        "print(\"Training Accuracy {:.3f}\".format(rf_cv.score(x_train_scaled,y_train)))\n",
        "print(\"Testing Accuracy {:.3f}\".format(rf_cv.score(x_test_scaled,y_test)))"
      ],
      "execution_count": 144,
      "outputs": [
        {
          "output_type": "stream",
          "name": "stdout",
          "text": [
            "{'max_depth': 2, 'min_samples_leaf': 4, 'min_samples_split': 5} 0.841256038647343\n",
            "Training Accuracy 0.859\n",
            "Testing Accuracy 0.855\n"
          ]
        }
      ]
    },
    {
      "cell_type": "markdown",
      "metadata": {
        "papermill": {
          "duration": 0.164616,
          "end_time": "2021-09-04T21:03:12.876852",
          "exception": false,
          "start_time": "2021-09-04T21:03:12.712236",
          "status": "completed"
        },
        "tags": [],
        "id": "hZ62WuBKZ3eW"
      },
      "source": [
        "### Gradient Boosting Classifier"
      ]
    },
    {
      "cell_type": "code",
      "metadata": {
        "papermill": {
          "duration": 0.270586,
          "end_time": "2021-09-04T21:03:13.323435",
          "exception": false,
          "start_time": "2021-09-04T21:03:13.052849",
          "status": "completed"
        },
        "tags": [],
        "execution": {
          "iopub.status.busy": "2021-09-04T21:15:32.029932Z",
          "iopub.execute_input": "2021-09-04T21:15:32.03029Z",
          "iopub.status.idle": "2021-09-04T21:15:32.119118Z",
          "shell.execute_reply.started": "2021-09-04T21:15:32.030257Z",
          "shell.execute_reply": "2021-09-04T21:15:32.118345Z"
        },
        "trusted": true,
        "colab": {
          "base_uri": "https://localhost:8080/"
        },
        "id": "ke1eCPV3Z3eX",
        "outputId": "2534ecfa-33e8-46b9-d48d-862725a73b2d"
      },
      "source": [
        "from sklearn.ensemble import GradientBoostingClassifier\n",
        "gbrt = GradientBoostingClassifier()\n",
        "gbrt.fit(x_train_scaled,y_train)\n",
        "print(\"Training Accuracy {:.3f}\".format(gbrt.score(x_train_scaled,y_train)))\n",
        "print(\"Testing Accuracy {:.3f}\".format(gbrt.score(x_test_scaled,y_test)))"
      ],
      "execution_count": 145,
      "outputs": [
        {
          "output_type": "stream",
          "name": "stdout",
          "text": [
            "Training Accuracy 0.987\n",
            "Testing Accuracy 0.789\n"
          ]
        }
      ]
    },
    {
      "cell_type": "code",
      "metadata": {
        "papermill": {
          "duration": 135.067965,
          "end_time": "2021-09-04T21:05:28.557949",
          "exception": false,
          "start_time": "2021-09-04T21:03:13.489984",
          "status": "completed"
        },
        "tags": [],
        "execution": {
          "iopub.status.busy": "2021-09-04T21:15:32.120198Z",
          "iopub.execute_input": "2021-09-04T21:15:32.120619Z",
          "iopub.status.idle": "2021-09-04T21:18:01.213299Z",
          "shell.execute_reply.started": "2021-09-04T21:15:32.120576Z",
          "shell.execute_reply": "2021-09-04T21:18:01.212334Z"
        },
        "trusted": true,
        "colab": {
          "base_uri": "https://localhost:8080/"
        },
        "id": "a3G_PJpXZ3eX",
        "outputId": "021f6feb-166c-4a94-d1c2-55b43dde06f4"
      },
      "source": [
        "## Performing cross validation for hyperparamter tunning of GradientBoostingClassifier model.\n",
        "param_test = {\n",
        "    'max_depth' : [2,3,4,5,6,7],\n",
        "    'min_samples_split': np.arange(2, 12, 3),\n",
        "    'min_samples_leaf': np.arange(1, 10, 3)\n",
        "}\n",
        "gbrt_cv = GridSearchCV(estimator= GradientBoostingClassifier(n_estimators=1000),\n",
        "                             param_grid = param_test,scoring='accuracy',\n",
        "                             n_jobs=-1,cv=5)\n",
        "gbrt_cv.fit(x_train_scaled,y_train)\n",
        "print(gbrt_cv.best_params_, gbrt_cv.best_score_)\n",
        "print(\"Training Accuracy {:.3f}\".format(gbrt_cv.score(x_train_scaled,y_train)))\n",
        "print(\"Testing Accuracy {:.3f}\".format(gbrt_cv.score(x_test_scaled,y_test)))"
      ],
      "execution_count": 146,
      "outputs": [
        {
          "output_type": "stream",
          "name": "stdout",
          "text": [
            "{'max_depth': 4, 'min_samples_leaf': 1, 'min_samples_split': 5} 0.8062801932367151\n",
            "Training Accuracy 1.000\n",
            "Testing Accuracy 0.763\n"
          ]
        }
      ]
    },
    {
      "cell_type": "markdown",
      "metadata": {
        "papermill": {
          "duration": 0.165807,
          "end_time": "2021-09-04T21:05:28.891253",
          "exception": false,
          "start_time": "2021-09-04T21:05:28.725446",
          "status": "completed"
        },
        "tags": [],
        "id": "KwrMWtFNZ3eX"
      },
      "source": [
        "### XGB Classifier"
      ]
    },
    {
      "cell_type": "code",
      "metadata": {
        "papermill": {
          "duration": 0.306964,
          "end_time": "2021-09-04T21:05:29.365899",
          "exception": false,
          "start_time": "2021-09-04T21:05:29.058935",
          "status": "completed"
        },
        "tags": [],
        "execution": {
          "iopub.status.busy": "2021-09-04T21:18:01.214603Z",
          "iopub.execute_input": "2021-09-04T21:18:01.21487Z",
          "iopub.status.idle": "2021-09-04T21:18:01.351313Z",
          "shell.execute_reply.started": "2021-09-04T21:18:01.214844Z",
          "shell.execute_reply": "2021-09-04T21:18:01.350434Z"
        },
        "trusted": true,
        "colab": {
          "base_uri": "https://localhost:8080/"
        },
        "id": "6kYz4Q8HZ3eX",
        "outputId": "41738617-114c-40b2-fe0b-f62c14e7e840"
      },
      "source": [
        "from xgboost import XGBClassifier\n",
        "xgb = XGBClassifier(max_depth=1)\n",
        "xgb.fit(x_train_scaled,y_train)\n",
        "print(\"Training Accuracy {:.3f}\".format(xgb.score(x_train_scaled,y_train)))\n",
        "print(\"Testing Accuracy {:.3f}\".format(xgb.score(x_test_scaled,y_test)))"
      ],
      "execution_count": 147,
      "outputs": [
        {
          "output_type": "stream",
          "name": "stdout",
          "text": [
            "Training Accuracy 0.872\n",
            "Testing Accuracy 0.855\n"
          ]
        }
      ]
    },
    {
      "cell_type": "markdown",
      "metadata": {
        "papermill": {
          "duration": 0.166429,
          "end_time": "2021-09-04T21:05:29.700118",
          "exception": false,
          "start_time": "2021-09-04T21:05:29.533689",
          "status": "completed"
        },
        "tags": [],
        "id": "RWJRr3WYZ3eY"
      },
      "source": [
        "### AdaBoost Classifier"
      ]
    },
    {
      "cell_type": "code",
      "metadata": {
        "papermill": {
          "duration": 1.907012,
          "end_time": "2021-09-04T21:05:31.775731",
          "exception": false,
          "start_time": "2021-09-04T21:05:29.868719",
          "status": "completed"
        },
        "tags": [],
        "execution": {
          "iopub.status.busy": "2021-09-04T21:18:01.354955Z",
          "iopub.execute_input": "2021-09-04T21:18:01.356884Z",
          "iopub.status.idle": "2021-09-04T21:18:03.463363Z",
          "shell.execute_reply.started": "2021-09-04T21:18:01.35684Z",
          "shell.execute_reply": "2021-09-04T21:18:03.462421Z"
        },
        "trusted": true,
        "colab": {
          "base_uri": "https://localhost:8080/"
        },
        "id": "4hkB0X2pZ3eY",
        "outputId": "8a4c1e29-5131-4ce2-ba49-3548fabbecc3"
      },
      "source": [
        "from sklearn.ensemble import AdaBoostClassifier\n",
        "ada = AdaBoostClassifier(n_estimators=1000,learning_rate=0.05)\n",
        "ada.fit(x_train_scaled,y_train)\n",
        "print(\"Training Accuracy {:.3f}\".format(ada.score(x_train_scaled,y_train)))\n",
        "print(\"Testing Accuracy {:.3f}\".format(ada.score(x_test_scaled,y_test)))"
      ],
      "execution_count": 148,
      "outputs": [
        {
          "output_type": "stream",
          "name": "stdout",
          "text": [
            "Training Accuracy 0.903\n",
            "Testing Accuracy 0.842\n"
          ]
        }
      ]
    },
    {
      "cell_type": "markdown",
      "metadata": {
        "papermill": {
          "duration": 0.168088,
          "end_time": "2021-09-04T21:05:32.11146",
          "exception": false,
          "start_time": "2021-09-04T21:05:31.943372",
          "status": "completed"
        },
        "tags": [],
        "id": "XORIQRdxZ3eY"
      },
      "source": [
        "### LightGBM"
      ]
    },
    {
      "cell_type": "code",
      "metadata": {
        "papermill": {
          "duration": 1.248043,
          "end_time": "2021-09-04T21:05:33.529764",
          "exception": false,
          "start_time": "2021-09-04T21:05:32.281721",
          "status": "completed"
        },
        "tags": [],
        "execution": {
          "iopub.status.busy": "2021-09-04T21:18:03.464401Z",
          "iopub.execute_input": "2021-09-04T21:18:03.464651Z",
          "iopub.status.idle": "2021-09-04T21:18:04.816Z",
          "shell.execute_reply.started": "2021-09-04T21:18:03.464625Z",
          "shell.execute_reply": "2021-09-04T21:18:04.815173Z"
        },
        "trusted": true,
        "colab": {
          "base_uri": "https://localhost:8080/"
        },
        "id": "j4tTRkZyZ3eZ",
        "outputId": "ca345a4b-4949-4fe3-fd84-01e77cfb5ee0"
      },
      "source": [
        "import lightgbm\n",
        "from lightgbm import LGBMClassifier\n",
        "lgbm = LGBMClassifier(max_depth=1,learning_rate=0.1,reg_alpha=0.05,reg_lambda=0.01)\n",
        "lgbm.fit(x_train_scaled, y_train)\n",
        "print(\"Training Accuracy {:.3f}\".format(lgbm.score(x_train_scaled,y_train)))\n",
        "print(\"Testing Accuracy {:.3f}\".format(lgbm.score(x_test_scaled,y_test)))"
      ],
      "execution_count": 149,
      "outputs": [
        {
          "output_type": "stream",
          "name": "stdout",
          "text": [
            "Training Accuracy 0.877\n",
            "Testing Accuracy 0.868\n"
          ]
        }
      ]
    },
    {
      "cell_type": "markdown",
      "metadata": {
        "papermill": {
          "duration": 0.170538,
          "end_time": "2021-09-04T21:05:33.870336",
          "exception": false,
          "start_time": "2021-09-04T21:05:33.699798",
          "status": "completed"
        },
        "tags": [],
        "id": "oRlzCZEXZ3eZ"
      },
      "source": [
        "### Dense layer based ANN Classifier"
      ]
    },
    {
      "cell_type": "code",
      "metadata": {
        "papermill": {
          "duration": 5.996395,
          "end_time": "2021-09-04T21:05:40.033956",
          "exception": false,
          "start_time": "2021-09-04T21:05:34.037561",
          "status": "completed"
        },
        "tags": [],
        "execution": {
          "iopub.status.busy": "2021-09-04T21:18:04.817257Z",
          "iopub.execute_input": "2021-09-04T21:18:04.817786Z",
          "iopub.status.idle": "2021-09-04T21:18:10.945631Z",
          "shell.execute_reply.started": "2021-09-04T21:18:04.817749Z",
          "shell.execute_reply": "2021-09-04T21:18:10.944579Z"
        },
        "trusted": true,
        "id": "ka9pRqCVZ3eZ"
      },
      "source": [
        "import keras\n",
        "import tensorflow as tf"
      ],
      "execution_count": 151,
      "outputs": []
    },
    {
      "cell_type": "code",
      "metadata": {
        "papermill": {
          "duration": 0.181496,
          "end_time": "2021-09-04T21:05:40.385641",
          "exception": false,
          "start_time": "2021-09-04T21:05:40.204145",
          "status": "completed"
        },
        "tags": [],
        "execution": {
          "iopub.status.busy": "2021-09-04T21:18:10.946871Z",
          "iopub.execute_input": "2021-09-04T21:18:10.947179Z",
          "iopub.status.idle": "2021-09-04T21:18:10.954978Z",
          "shell.execute_reply.started": "2021-09-04T21:18:10.947148Z",
          "shell.execute_reply": "2021-09-04T21:18:10.954218Z"
        },
        "trusted": true,
        "id": "M2T44YCSZ3eZ"
      },
      "source": [
        "def make_model():\n",
        "    model = keras.Sequential()\n",
        "    model.add(tf.keras.layers.Dense(128,activation='tanh',input_shape=(x_train_scaled.shape[1],)))\n",
        "    model.add(tf.keras.layers.Dense(64,activation='tanh'))\n",
        "    #model.add(tf.keras.layers.Dense(32,activation='tanh'))\n",
        "    model.add(tf.keras.layers.Dense(16,activation='tanh'))\n",
        "    model.add(tf.keras.layers.Dense(4,activation='tanh'))\n",
        "    model.add(tf.keras.layers.Dense(1,activation='sigmoid'))\n",
        "    \n",
        "    model.compile(loss='binary_crossentropy',\n",
        "                  optimizer='Adam',metrics=['accuracy'])\n",
        "    return model\n",
        "    "
      ],
      "execution_count": 150,
      "outputs": []
    },
    {
      "cell_type": "code",
      "metadata": {
        "papermill": {
          "duration": 0.295518,
          "end_time": "2021-09-04T21:05:40.850432",
          "exception": false,
          "start_time": "2021-09-04T21:05:40.554914",
          "status": "completed"
        },
        "tags": [],
        "execution": {
          "iopub.status.busy": "2021-09-04T21:18:10.956213Z",
          "iopub.execute_input": "2021-09-04T21:18:10.95675Z",
          "iopub.status.idle": "2021-09-04T21:18:11.100342Z",
          "shell.execute_reply.started": "2021-09-04T21:18:10.956707Z",
          "shell.execute_reply": "2021-09-04T21:18:11.09937Z"
        },
        "trusted": true,
        "colab": {
          "base_uri": "https://localhost:8080/"
        },
        "id": "hQGqZRKFZ3ea",
        "outputId": "8656e230-ccd0-4f0f-df09-1e802202a7be"
      },
      "source": [
        "model = make_model()\n",
        "model.summary()"
      ],
      "execution_count": 152,
      "outputs": [
        {
          "output_type": "stream",
          "name": "stdout",
          "text": [
            "Model: \"sequential\"\n",
            "_________________________________________________________________\n",
            " Layer (type)                Output Shape              Param #   \n",
            "=================================================================\n",
            " dense (Dense)               (None, 128)               1152      \n",
            "                                                                 \n",
            " dense_1 (Dense)             (None, 64)                8256      \n",
            "                                                                 \n",
            " dense_2 (Dense)             (None, 16)                1040      \n",
            "                                                                 \n",
            " dense_3 (Dense)             (None, 4)                 68        \n",
            "                                                                 \n",
            " dense_4 (Dense)             (None, 1)                 5         \n",
            "                                                                 \n",
            "=================================================================\n",
            "Total params: 10,521\n",
            "Trainable params: 10,521\n",
            "Non-trainable params: 0\n",
            "_________________________________________________________________\n"
          ]
        }
      ]
    },
    {
      "cell_type": "code",
      "metadata": {
        "papermill": {
          "duration": 2.004646,
          "end_time": "2021-09-04T21:05:43.024698",
          "exception": false,
          "start_time": "2021-09-04T21:05:41.020052",
          "status": "completed"
        },
        "tags": [],
        "execution": {
          "iopub.status.busy": "2021-09-04T21:18:11.101617Z",
          "iopub.execute_input": "2021-09-04T21:18:11.101919Z",
          "iopub.status.idle": "2021-09-04T21:18:13.269866Z",
          "shell.execute_reply.started": "2021-09-04T21:18:11.101889Z",
          "shell.execute_reply": "2021-09-04T21:18:13.268752Z"
        },
        "trusted": true,
        "colab": {
          "base_uri": "https://localhost:8080/"
        },
        "id": "eJvlBVv5Z3ea",
        "outputId": "2a5899c4-94ac-420f-d42d-610e0a623b73"
      },
      "source": [
        "model.fit(x_train_scaled,y_train,validation_data=(x_test_scaled,y_test),epochs=20,batch_size=32,\n",
        "          callbacks=[\n",
        "              tf.keras.callbacks.EarlyStopping(monitor='val_accuracy',patience=5),\n",
        "              tf.keras.callbacks.ModelCheckpoint('model_{val_accuracy:.3f}.h5',\n",
        "                                                save_best_only=True,save_weights_only=False,mode='auto',\n",
        "                                                monitor='val_accuracy')\n",
        "              \n",
        "    \n",
        "])"
      ],
      "execution_count": 153,
      "outputs": [
        {
          "output_type": "stream",
          "name": "stdout",
          "text": [
            "Epoch 1/20\n",
            "8/8 [==============================] - 1s 38ms/step - loss: 0.5930 - accuracy: 0.6916 - val_loss: 0.4634 - val_accuracy: 0.8684\n",
            "Epoch 2/20\n",
            "8/8 [==============================] - 0s 5ms/step - loss: 0.4534 - accuracy: 0.8194 - val_loss: 0.4237 - val_accuracy: 0.8553\n",
            "Epoch 3/20\n",
            "8/8 [==============================] - 0s 8ms/step - loss: 0.4195 - accuracy: 0.8062 - val_loss: 0.3887 - val_accuracy: 0.8816\n",
            "Epoch 4/20\n",
            "8/8 [==============================] - 0s 5ms/step - loss: 0.4125 - accuracy: 0.8194 - val_loss: 0.3938 - val_accuracy: 0.8684\n",
            "Epoch 5/20\n",
            "8/8 [==============================] - 0s 5ms/step - loss: 0.4085 - accuracy: 0.8238 - val_loss: 0.4105 - val_accuracy: 0.8553\n",
            "Epoch 6/20\n",
            "8/8 [==============================] - 0s 6ms/step - loss: 0.3894 - accuracy: 0.8238 - val_loss: 0.3820 - val_accuracy: 0.8684\n",
            "Epoch 7/20\n",
            "8/8 [==============================] - 0s 6ms/step - loss: 0.3981 - accuracy: 0.7974 - val_loss: 0.3842 - val_accuracy: 0.8684\n",
            "Epoch 8/20\n",
            "8/8 [==============================] - 0s 6ms/step - loss: 0.3825 - accuracy: 0.8326 - val_loss: 0.3987 - val_accuracy: 0.8421\n"
          ]
        },
        {
          "output_type": "execute_result",
          "data": {
            "text/plain": [
              "<keras.callbacks.History at 0x7f02ca9a7c90>"
            ]
          },
          "metadata": {},
          "execution_count": 153
        }
      ]
    },
    {
      "cell_type": "markdown",
      "metadata": {
        "papermill": {
          "duration": 0.173993,
          "end_time": "2021-09-04T21:05:43.372895",
          "exception": false,
          "start_time": "2021-09-04T21:05:43.198902",
          "status": "completed"
        },
        "tags": [],
        "id": "8NvqR9WdZ3ea"
      },
      "source": [
        "### Final Scores of every model"
      ]
    },
    {
      "cell_type": "code",
      "metadata": {
        "papermill": {
          "duration": 0.452186,
          "end_time": "2021-09-04T21:05:43.999468",
          "exception": false,
          "start_time": "2021-09-04T21:05:43.547282",
          "status": "completed"
        },
        "tags": [],
        "execution": {
          "iopub.status.busy": "2021-09-04T21:18:13.27112Z",
          "iopub.execute_input": "2021-09-04T21:18:13.271399Z",
          "iopub.status.idle": "2021-09-04T21:18:13.590718Z",
          "shell.execute_reply.started": "2021-09-04T21:18:13.271371Z",
          "shell.execute_reply": "2021-09-04T21:18:13.589076Z"
        },
        "trusted": true,
        "colab": {
          "base_uri": "https://localhost:8080/"
        },
        "id": "LkT_KPWxZ3eb",
        "outputId": "61b4dc64-6cc8-4b22-80d0-ad4075622035"
      },
      "source": [
        "print(\"The score of KNN with k = 9: {:.3f}\".format(testing_accuracy[8]))\n",
        "print(\"The score of Logistic Regression : {:.3f}\".format(logreg.score(x_test_scaled,y_test)))\n",
        "print(\"The score of Linear SVC : {:.3f}\".format(linearsvm.score(x_test_scaled,y_test)))\n",
        "print(\"The score of Decision Tree Classifier : {:.3f}\".format(tree_cv.score(x_test_scaled,y_test)))\n",
        "print(\"The score of MLP Classifier : {:.3f}\".format(mlp_cv.score(x_test_scaled,y_test)))\n",
        "print(\"The score of Random Forest Classifier : {:.3f}\".format(rf_cv.score(x_test_scaled,y_test)))\n",
        "print(\"The score of Gradient Boosting Classifier : {:.3f}\".format(gbrt_cv.score(x_test_scaled,y_test)))\n",
        "print(\"The score of XGB Classifier : {:.3f}\".format(xgb.score(x_test_scaled,y_test)))\n",
        "print(\"The score of AdaBoost Classifier : {:.3f}\".format(ada.score(x_test_scaled,y_test)))\n",
        "print(\"The score of LighGBM Classifier : {:.3f}\".format(lgbm.score(x_test_scaled,y_test)))\n",
        "print(\"The score of ANN Classifier : \",(model.evaluate(x_test_scaled,y_test)))"
      ],
      "execution_count": 154,
      "outputs": [
        {
          "output_type": "stream",
          "name": "stdout",
          "text": [
            "The score of KNN with k = 9: 0.882\n",
            "The score of Logistic Regression : 0.868\n",
            "The score of Linear SVC : 0.868\n",
            "The score of Decision Tree Classifier : 0.750\n",
            "The score of MLP Classifier : 0.868\n",
            "The score of Random Forest Classifier : 0.855\n",
            "The score of Gradient Boosting Classifier : 0.763\n",
            "The score of XGB Classifier : 0.855\n",
            "The score of AdaBoost Classifier : 0.842\n",
            "The score of LighGBM Classifier : 0.868\n",
            "3/3 [==============================] - 0s 3ms/step - loss: 0.3987 - accuracy: 0.8421\n",
            "The score of ANN Classifier :  [0.39873260259628296, 0.8421052694320679]\n"
          ]
        }
      ]
    },
    {
      "cell_type": "markdown",
      "metadata": {
        "papermill": {
          "duration": 0.172833,
          "end_time": "2021-09-04T21:05:44.349703",
          "exception": false,
          "start_time": "2021-09-04T21:05:44.17687",
          "status": "completed"
        },
        "tags": [],
        "id": "ERc3gpLxZ3eb"
      },
      "source": [
        "## End Notes\n",
        "\n",
        "Most of the model performed very well and similar as this dataset is not much complicated and most of the features are category based. The best testing accuracy in my case is with KNN and MLP Classifier.\n",
        "\n",
        "I would suggest more hypertunning and feature engineering can bring better results also.\n",
        "\n",
        "This is the best intution I have. If anyone is having better approaches or better analysis, please let me know. Any kind of queries, improvements or feedbacks are most welcome.\n",
        "\n",
        "If you like my work, please show your appreciation by upvoting the notebook. Thank you...............!!!!!!!"
      ]
    }
  ]
}