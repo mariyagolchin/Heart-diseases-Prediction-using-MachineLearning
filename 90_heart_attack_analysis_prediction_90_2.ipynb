{
  "nbformat": 4,
  "nbformat_minor": 0,
  "metadata": {
    "kernelspec": {
      "language": "python",
      "display_name": "Python 3",
      "name": "python3"
    },
    "language_info": {
      "pygments_lexer": "ipython3",
      "nbconvert_exporter": "python",
      "version": "3.6.4",
      "file_extension": ".py",
      "codemirror_mode": {
        "name": "ipython",
        "version": 3
      },
      "name": "python",
      "mimetype": "text/x-python"
    },
    "colab": {
      "name": "90-heart-attack-analysis-prediction-90-2.ipynb",
      "provenance": [],
      "include_colab_link": true
    },
    "accelerator": "GPU"
  },
  "cells": [
    {
      "cell_type": "markdown",
      "metadata": {
        "id": "view-in-github",
        "colab_type": "text"
      },
      "source": [
        "<a href=\"https://colab.research.google.com/github/mariyagolchin/Heart-diseases-Prediction-using-MachineLearning/blob/main/90_heart_attack_analysis_prediction_90_2.ipynb\" target=\"_parent\"><img src=\"https://colab.research.google.com/assets/colab-badge.svg\" alt=\"Open In Colab\"/></a>"
      ]
    },
    {
      "cell_type": "code",
      "metadata": {
        "_uuid": "8f2839f25d086af736a60e9eeb907d3b93b6e0e5",
        "_cell_guid": "b1076dfc-b9ad-4769-8c92-a6c4dae69d19",
        "execution": {
          "iopub.status.busy": "2021-11-05T06:42:31.299717Z",
          "iopub.execute_input": "2021-11-05T06:42:31.300142Z",
          "iopub.status.idle": "2021-11-05T06:42:31.313855Z",
          "shell.execute_reply.started": "2021-11-05T06:42:31.300106Z",
          "shell.execute_reply": "2021-11-05T06:42:31.313095Z"
        },
        "trusted": true,
        "id": "a78jEKueIbcw"
      },
      "source": [
        "# This Python 3 environment comes with many helpful analytics libraries installed\n",
        "# It is defined by the kaggle/python Docker image: https://github.com/kaggle/docker-python\n",
        "# For example, here's several helpful packages to load\n",
        "\n",
        "import numpy as np # linear algebra\n",
        "import pandas as pd # data processing, CSV file I/O (e.g. pd.read_csv)\n",
        "\n",
        "# Input data files are available in the read-only \"../input/\" directory\n",
        "# For example, running this (by clicking run or pressing Shift+Enter) will list all files under the input directory\n",
        "\n",
        "import os\n",
        "for dirname, _, filenames in os.walk('/kaggle/input'):\n",
        "    for filename in filenames:\n",
        "        print(os.path.join(dirname, filename))\n",
        "\n",
        "# You can write up to 20GB to the current directory (/kaggle/working/) that gets preserved as output when you create a version using \"Save & Run All\" \n",
        "# You can also write temporary files to /kaggle/temp/, but they won't be saved outside of the current session"
      ],
      "execution_count": 1,
      "outputs": []
    },
    {
      "cell_type": "code",
      "metadata": {
        "colab": {
          "base_uri": "https://localhost:8080/"
        },
        "id": "6QXyLMW3JAXW",
        "outputId": "c3addff7-0554-4baf-f5db-935f76b5b9a4"
      },
      "source": [
        "from google.colab import drive\n",
        "drive.mount('/content/drive')"
      ],
      "execution_count": 2,
      "outputs": [
        {
          "output_type": "stream",
          "name": "stdout",
          "text": [
            "Mounted at /content/drive\n"
          ]
        }
      ]
    },
    {
      "cell_type": "code",
      "metadata": {
        "execution": {
          "iopub.status.busy": "2021-11-05T06:42:37.304313Z",
          "iopub.execute_input": "2021-11-05T06:42:37.304997Z",
          "iopub.status.idle": "2021-11-05T06:42:37.308605Z",
          "shell.execute_reply.started": "2021-11-05T06:42:37.304961Z",
          "shell.execute_reply": "2021-11-05T06:42:37.307886Z"
        },
        "trusted": true,
        "id": "Z4VLBAsNIbc5"
      },
      "source": [
        "# About this dataset\n",
        "# Age : Age of the patient\n",
        "\n",
        "# Sex : Sex of the patient\n",
        "\n",
        "# exang: exercise induced angina (1 = yes; 0 = no)\n",
        "\n",
        "# ca: number of major vessels (0-3)\n",
        "\n",
        "# cp : Chest Pain type chest pain type\n",
        "\n",
        "# Value 1: typical angina\n",
        "# Value 2: atypical angina\n",
        "# Value 3: non-anginal pain\n",
        "# Value 4: asymptomatic\n",
        "# trtbps : resting blood pressure (in mm Hg)\n",
        "\n",
        "# chol : cholestoral in mg/dl fetched via BMI sensor\n",
        "\n",
        "# fbs : (fasting blood sugar > 120 mg/dl) (1 = true; 0 = false)\n",
        "\n",
        "# rest_ecg : resting electrocardiographic results\n",
        "\n",
        "# Value 0: normal\n",
        "# Value 1: having ST-T wave abnormality (T wave inversions and/or ST elevation or depression of > 0.05 mV)\n",
        "# Value 2: showing probable or definite left ventricular hypertrophy by Estes' criteria\n",
        "# thalach : maximum heart rate achieved\n",
        "\n",
        "# target : 0= less chance of heart attack 1= more chance of heart attack\n",
        "\n",
        "# n"
      ],
      "execution_count": 3,
      "outputs": []
    },
    {
      "cell_type": "markdown",
      "metadata": {
        "id": "30afcwHBIbc7"
      },
      "source": [
        "# <center> Heart-Attack Analysis & Prediction  </center>"
      ]
    },
    {
      "cell_type": "markdown",
      "metadata": {
        "id": "7a7v4TxiIbc-"
      },
      "source": [
        "<img src=\"https://source.wustl.edu/wp-content/uploads/2019/02/HeartImage.jpg\" height=300 width= 500 alt=\"Heart Attack Analysis\" style=\"margin-left: 30%\" >"
      ]
    },
    {
      "cell_type": "markdown",
      "metadata": {
        "id": "4JA1KBbCIbc_"
      },
      "source": [
        "##### Importing libraries "
      ]
    },
    {
      "cell_type": "code",
      "metadata": {
        "execution": {
          "iopub.status.busy": "2021-11-05T06:42:47.132392Z",
          "iopub.execute_input": "2021-11-05T06:42:47.133045Z",
          "iopub.status.idle": "2021-11-05T06:42:47.13915Z",
          "shell.execute_reply.started": "2021-11-05T06:42:47.13301Z",
          "shell.execute_reply": "2021-11-05T06:42:47.138339Z"
        },
        "trusted": true,
        "id": "mdBUgCOHIbc_"
      },
      "source": [
        "import numpy as np\n",
        "import pandas as pd\n",
        "import seaborn as sns\n",
        "import matplotlib.pyplot as plt\n",
        "%matplotlib inline\n",
        "import warnings\n",
        "warnings.filterwarnings('ignore')"
      ],
      "execution_count": 4,
      "outputs": []
    },
    {
      "cell_type": "markdown",
      "metadata": {
        "id": "BlQIiyorIbdB"
      },
      "source": [
        "#### Following are the list of algorithm that are used in this notebook\n",
        "\n",
        "| **Algorithm**       |\n",
        "| : -----------  :    |\n",
        "| Logistic Regression | \n",
        "| Decision Tree       | \n",
        "| Random Forest       | \n",
        "| XGBoost             | \n",
        "| KNeighbours         |\n",
        "| SVM         |\n",
        " "
      ]
    },
    {
      "cell_type": "markdown",
      "metadata": {
        "id": "aiZLU1-IIbdD"
      },
      "source": [
        "#####  In this following cell we have read the dataset using pandas.\n",
        "##### It is considered as a good practice to make a copy of main data and work on the copy of dataset. "
      ]
    },
    {
      "cell_type": "markdown",
      "metadata": {
        "id": "vJ3o6Z1oIbdE"
      },
      "source": [
        ""
      ]
    },
    {
      "cell_type": "code",
      "metadata": {
        "execution": {
          "iopub.status.busy": "2021-07-21T18:49:33.840035Z",
          "iopub.execute_input": "2021-07-21T18:49:33.840385Z",
          "iopub.status.idle": "2021-07-21T18:49:33.858535Z",
          "shell.execute_reply.started": "2021-07-21T18:49:33.840353Z",
          "shell.execute_reply": "2021-07-21T18:49:33.857108Z"
        },
        "trusted": true,
        "id": "JjAvtY1RIbdF"
      },
      "source": [
        "main_df = pd.read_csv('/content/drive/MyDrive/KaggleData/HeartDiseasePrediction/heart.csv')\n",
        "df = main_df.copy()"
      ],
      "execution_count": 5,
      "outputs": []
    },
    {
      "cell_type": "code",
      "metadata": {
        "execution": {
          "iopub.status.busy": "2021-07-21T18:49:33.860592Z",
          "iopub.execute_input": "2021-07-21T18:49:33.861039Z",
          "iopub.status.idle": "2021-07-21T18:49:33.887687Z",
          "shell.execute_reply.started": "2021-07-21T18:49:33.860993Z",
          "shell.execute_reply": "2021-07-21T18:49:33.886427Z"
        },
        "trusted": true,
        "colab": {
          "base_uri": "https://localhost:8080/",
          "height": 204
        },
        "id": "m01YOaA3IbdG",
        "outputId": "6ef679de-84d3-4954-f4a4-2075f911d4c5"
      },
      "source": [
        "# Getting top 5 rows\n",
        "df.head()"
      ],
      "execution_count": 6,
      "outputs": [
        {
          "output_type": "execute_result",
          "data": {
            "text/html": [
              "<div>\n",
              "<style scoped>\n",
              "    .dataframe tbody tr th:only-of-type {\n",
              "        vertical-align: middle;\n",
              "    }\n",
              "\n",
              "    .dataframe tbody tr th {\n",
              "        vertical-align: top;\n",
              "    }\n",
              "\n",
              "    .dataframe thead th {\n",
              "        text-align: right;\n",
              "    }\n",
              "</style>\n",
              "<table border=\"1\" class=\"dataframe\">\n",
              "  <thead>\n",
              "    <tr style=\"text-align: right;\">\n",
              "      <th></th>\n",
              "      <th>age</th>\n",
              "      <th>sex</th>\n",
              "      <th>cp</th>\n",
              "      <th>trestbps</th>\n",
              "      <th>chol</th>\n",
              "      <th>fbs</th>\n",
              "      <th>restecg</th>\n",
              "      <th>thalach</th>\n",
              "      <th>exang</th>\n",
              "      <th>oldpeak</th>\n",
              "      <th>slope</th>\n",
              "      <th>ca</th>\n",
              "      <th>thal</th>\n",
              "      <th>target</th>\n",
              "    </tr>\n",
              "  </thead>\n",
              "  <tbody>\n",
              "    <tr>\n",
              "      <th>0</th>\n",
              "      <td>63</td>\n",
              "      <td>1</td>\n",
              "      <td>3</td>\n",
              "      <td>145</td>\n",
              "      <td>233</td>\n",
              "      <td>1</td>\n",
              "      <td>0</td>\n",
              "      <td>150</td>\n",
              "      <td>0</td>\n",
              "      <td>2.3</td>\n",
              "      <td>0</td>\n",
              "      <td>0</td>\n",
              "      <td>1</td>\n",
              "      <td>1</td>\n",
              "    </tr>\n",
              "    <tr>\n",
              "      <th>1</th>\n",
              "      <td>37</td>\n",
              "      <td>1</td>\n",
              "      <td>2</td>\n",
              "      <td>130</td>\n",
              "      <td>250</td>\n",
              "      <td>0</td>\n",
              "      <td>1</td>\n",
              "      <td>187</td>\n",
              "      <td>0</td>\n",
              "      <td>3.5</td>\n",
              "      <td>0</td>\n",
              "      <td>0</td>\n",
              "      <td>2</td>\n",
              "      <td>1</td>\n",
              "    </tr>\n",
              "    <tr>\n",
              "      <th>2</th>\n",
              "      <td>41</td>\n",
              "      <td>0</td>\n",
              "      <td>1</td>\n",
              "      <td>130</td>\n",
              "      <td>204</td>\n",
              "      <td>0</td>\n",
              "      <td>0</td>\n",
              "      <td>172</td>\n",
              "      <td>0</td>\n",
              "      <td>1.4</td>\n",
              "      <td>2</td>\n",
              "      <td>0</td>\n",
              "      <td>2</td>\n",
              "      <td>1</td>\n",
              "    </tr>\n",
              "    <tr>\n",
              "      <th>3</th>\n",
              "      <td>56</td>\n",
              "      <td>1</td>\n",
              "      <td>1</td>\n",
              "      <td>120</td>\n",
              "      <td>236</td>\n",
              "      <td>0</td>\n",
              "      <td>1</td>\n",
              "      <td>178</td>\n",
              "      <td>0</td>\n",
              "      <td>0.8</td>\n",
              "      <td>2</td>\n",
              "      <td>0</td>\n",
              "      <td>2</td>\n",
              "      <td>1</td>\n",
              "    </tr>\n",
              "    <tr>\n",
              "      <th>4</th>\n",
              "      <td>57</td>\n",
              "      <td>0</td>\n",
              "      <td>0</td>\n",
              "      <td>120</td>\n",
              "      <td>354</td>\n",
              "      <td>0</td>\n",
              "      <td>1</td>\n",
              "      <td>163</td>\n",
              "      <td>1</td>\n",
              "      <td>0.6</td>\n",
              "      <td>2</td>\n",
              "      <td>0</td>\n",
              "      <td>2</td>\n",
              "      <td>1</td>\n",
              "    </tr>\n",
              "  </tbody>\n",
              "</table>\n",
              "</div>"
            ],
            "text/plain": [
              "   age  sex  cp  trestbps  chol  fbs  ...  exang  oldpeak  slope  ca  thal  target\n",
              "0   63    1   3       145   233    1  ...      0      2.3      0   0     1       1\n",
              "1   37    1   2       130   250    0  ...      0      3.5      0   0     2       1\n",
              "2   41    0   1       130   204    0  ...      0      1.4      2   0     2       1\n",
              "3   56    1   1       120   236    0  ...      0      0.8      2   0     2       1\n",
              "4   57    0   0       120   354    0  ...      1      0.6      2   0     2       1\n",
              "\n",
              "[5 rows x 14 columns]"
            ]
          },
          "metadata": {},
          "execution_count": 6
        }
      ]
    },
    {
      "cell_type": "markdown",
      "metadata": {
        "id": "tgUhs00tIbdH"
      },
      "source": [
        "In above cell we have listed out top 5 rows of the dataset."
      ]
    },
    {
      "cell_type": "code",
      "metadata": {
        "execution": {
          "iopub.status.busy": "2021-07-21T18:49:33.890508Z",
          "iopub.execute_input": "2021-07-21T18:49:33.890981Z",
          "iopub.status.idle": "2021-07-21T18:49:33.897446Z",
          "shell.execute_reply.started": "2021-07-21T18:49:33.890917Z",
          "shell.execute_reply": "2021-07-21T18:49:33.89625Z"
        },
        "trusted": true,
        "colab": {
          "base_uri": "https://localhost:8080/"
        },
        "id": "8XInAe6qIbdI",
        "outputId": "7b8119b7-6694-410a-f33a-c4f209317dc6"
      },
      "source": [
        "# Dimension of dataframe\n",
        "df.shape"
      ],
      "execution_count": 7,
      "outputs": [
        {
          "output_type": "execute_result",
          "data": {
            "text/plain": [
              "(303, 14)"
            ]
          },
          "metadata": {},
          "execution_count": 7
        }
      ]
    },
    {
      "cell_type": "markdown",
      "metadata": {
        "id": "bDTIrcT0IbdJ"
      },
      "source": [
        "We have 303 rows and 14 columns in our dataset"
      ]
    },
    {
      "cell_type": "code",
      "metadata": {
        "execution": {
          "iopub.status.busy": "2021-07-21T18:49:33.899331Z",
          "iopub.execute_input": "2021-07-21T18:49:33.899777Z",
          "iopub.status.idle": "2021-07-21T18:49:33.91186Z",
          "shell.execute_reply.started": "2021-07-21T18:49:33.899726Z",
          "shell.execute_reply": "2021-07-21T18:49:33.910797Z"
        },
        "trusted": true,
        "colab": {
          "base_uri": "https://localhost:8080/"
        },
        "id": "M7GT3R-nIbdJ",
        "outputId": "b3f66d33-3935-4ba0-c5ff-ea3b314e1ba2"
      },
      "source": [
        "# List of all columns present in dataframe\n",
        "df.columns"
      ],
      "execution_count": 8,
      "outputs": [
        {
          "output_type": "execute_result",
          "data": {
            "text/plain": [
              "Index(['age', 'sex', 'cp', 'trestbps', 'chol', 'fbs', 'restecg', 'thalach',\n",
              "       'exang', 'oldpeak', 'slope', 'ca', 'thal', 'target'],\n",
              "      dtype='object')"
            ]
          },
          "metadata": {},
          "execution_count": 8
        }
      ]
    },
    {
      "cell_type": "code",
      "metadata": {
        "execution": {
          "iopub.status.busy": "2021-07-21T18:49:33.914085Z",
          "iopub.execute_input": "2021-07-21T18:49:33.914587Z",
          "iopub.status.idle": "2021-07-21T18:49:33.978051Z",
          "shell.execute_reply.started": "2021-07-21T18:49:33.914541Z",
          "shell.execute_reply": "2021-07-21T18:49:33.976835Z"
        },
        "trusted": true,
        "colab": {
          "base_uri": "https://localhost:8080/",
          "height": 317
        },
        "id": "uArIzL8bIbdK",
        "outputId": "c5ff9a19-a4d9-4d6d-d541-f219033738e4"
      },
      "source": [
        "# To view some basic statistical details \n",
        "df.describe()"
      ],
      "execution_count": 9,
      "outputs": [
        {
          "output_type": "execute_result",
          "data": {
            "text/html": [
              "<div>\n",
              "<style scoped>\n",
              "    .dataframe tbody tr th:only-of-type {\n",
              "        vertical-align: middle;\n",
              "    }\n",
              "\n",
              "    .dataframe tbody tr th {\n",
              "        vertical-align: top;\n",
              "    }\n",
              "\n",
              "    .dataframe thead th {\n",
              "        text-align: right;\n",
              "    }\n",
              "</style>\n",
              "<table border=\"1\" class=\"dataframe\">\n",
              "  <thead>\n",
              "    <tr style=\"text-align: right;\">\n",
              "      <th></th>\n",
              "      <th>age</th>\n",
              "      <th>sex</th>\n",
              "      <th>cp</th>\n",
              "      <th>trestbps</th>\n",
              "      <th>chol</th>\n",
              "      <th>fbs</th>\n",
              "      <th>restecg</th>\n",
              "      <th>thalach</th>\n",
              "      <th>exang</th>\n",
              "      <th>oldpeak</th>\n",
              "      <th>slope</th>\n",
              "      <th>ca</th>\n",
              "      <th>thal</th>\n",
              "      <th>target</th>\n",
              "    </tr>\n",
              "  </thead>\n",
              "  <tbody>\n",
              "    <tr>\n",
              "      <th>count</th>\n",
              "      <td>303.000000</td>\n",
              "      <td>303.000000</td>\n",
              "      <td>303.000000</td>\n",
              "      <td>303.000000</td>\n",
              "      <td>303.000000</td>\n",
              "      <td>303.000000</td>\n",
              "      <td>303.000000</td>\n",
              "      <td>303.000000</td>\n",
              "      <td>303.000000</td>\n",
              "      <td>303.000000</td>\n",
              "      <td>303.000000</td>\n",
              "      <td>303.000000</td>\n",
              "      <td>303.000000</td>\n",
              "      <td>303.000000</td>\n",
              "    </tr>\n",
              "    <tr>\n",
              "      <th>mean</th>\n",
              "      <td>54.366337</td>\n",
              "      <td>0.683168</td>\n",
              "      <td>0.966997</td>\n",
              "      <td>131.623762</td>\n",
              "      <td>246.264026</td>\n",
              "      <td>0.148515</td>\n",
              "      <td>0.528053</td>\n",
              "      <td>149.646865</td>\n",
              "      <td>0.326733</td>\n",
              "      <td>1.039604</td>\n",
              "      <td>1.399340</td>\n",
              "      <td>0.729373</td>\n",
              "      <td>2.313531</td>\n",
              "      <td>0.544554</td>\n",
              "    </tr>\n",
              "    <tr>\n",
              "      <th>std</th>\n",
              "      <td>9.082101</td>\n",
              "      <td>0.466011</td>\n",
              "      <td>1.032052</td>\n",
              "      <td>17.538143</td>\n",
              "      <td>51.830751</td>\n",
              "      <td>0.356198</td>\n",
              "      <td>0.525860</td>\n",
              "      <td>22.905161</td>\n",
              "      <td>0.469794</td>\n",
              "      <td>1.161075</td>\n",
              "      <td>0.616226</td>\n",
              "      <td>1.022606</td>\n",
              "      <td>0.612277</td>\n",
              "      <td>0.498835</td>\n",
              "    </tr>\n",
              "    <tr>\n",
              "      <th>min</th>\n",
              "      <td>29.000000</td>\n",
              "      <td>0.000000</td>\n",
              "      <td>0.000000</td>\n",
              "      <td>94.000000</td>\n",
              "      <td>126.000000</td>\n",
              "      <td>0.000000</td>\n",
              "      <td>0.000000</td>\n",
              "      <td>71.000000</td>\n",
              "      <td>0.000000</td>\n",
              "      <td>0.000000</td>\n",
              "      <td>0.000000</td>\n",
              "      <td>0.000000</td>\n",
              "      <td>0.000000</td>\n",
              "      <td>0.000000</td>\n",
              "    </tr>\n",
              "    <tr>\n",
              "      <th>25%</th>\n",
              "      <td>47.500000</td>\n",
              "      <td>0.000000</td>\n",
              "      <td>0.000000</td>\n",
              "      <td>120.000000</td>\n",
              "      <td>211.000000</td>\n",
              "      <td>0.000000</td>\n",
              "      <td>0.000000</td>\n",
              "      <td>133.500000</td>\n",
              "      <td>0.000000</td>\n",
              "      <td>0.000000</td>\n",
              "      <td>1.000000</td>\n",
              "      <td>0.000000</td>\n",
              "      <td>2.000000</td>\n",
              "      <td>0.000000</td>\n",
              "    </tr>\n",
              "    <tr>\n",
              "      <th>50%</th>\n",
              "      <td>55.000000</td>\n",
              "      <td>1.000000</td>\n",
              "      <td>1.000000</td>\n",
              "      <td>130.000000</td>\n",
              "      <td>240.000000</td>\n",
              "      <td>0.000000</td>\n",
              "      <td>1.000000</td>\n",
              "      <td>153.000000</td>\n",
              "      <td>0.000000</td>\n",
              "      <td>0.800000</td>\n",
              "      <td>1.000000</td>\n",
              "      <td>0.000000</td>\n",
              "      <td>2.000000</td>\n",
              "      <td>1.000000</td>\n",
              "    </tr>\n",
              "    <tr>\n",
              "      <th>75%</th>\n",
              "      <td>61.000000</td>\n",
              "      <td>1.000000</td>\n",
              "      <td>2.000000</td>\n",
              "      <td>140.000000</td>\n",
              "      <td>274.500000</td>\n",
              "      <td>0.000000</td>\n",
              "      <td>1.000000</td>\n",
              "      <td>166.000000</td>\n",
              "      <td>1.000000</td>\n",
              "      <td>1.600000</td>\n",
              "      <td>2.000000</td>\n",
              "      <td>1.000000</td>\n",
              "      <td>3.000000</td>\n",
              "      <td>1.000000</td>\n",
              "    </tr>\n",
              "    <tr>\n",
              "      <th>max</th>\n",
              "      <td>77.000000</td>\n",
              "      <td>1.000000</td>\n",
              "      <td>3.000000</td>\n",
              "      <td>200.000000</td>\n",
              "      <td>564.000000</td>\n",
              "      <td>1.000000</td>\n",
              "      <td>2.000000</td>\n",
              "      <td>202.000000</td>\n",
              "      <td>1.000000</td>\n",
              "      <td>6.200000</td>\n",
              "      <td>2.000000</td>\n",
              "      <td>4.000000</td>\n",
              "      <td>3.000000</td>\n",
              "      <td>1.000000</td>\n",
              "    </tr>\n",
              "  </tbody>\n",
              "</table>\n",
              "</div>"
            ],
            "text/plain": [
              "              age         sex          cp  ...          ca        thal      target\n",
              "count  303.000000  303.000000  303.000000  ...  303.000000  303.000000  303.000000\n",
              "mean    54.366337    0.683168    0.966997  ...    0.729373    2.313531    0.544554\n",
              "std      9.082101    0.466011    1.032052  ...    1.022606    0.612277    0.498835\n",
              "min     29.000000    0.000000    0.000000  ...    0.000000    0.000000    0.000000\n",
              "25%     47.500000    0.000000    0.000000  ...    0.000000    2.000000    0.000000\n",
              "50%     55.000000    1.000000    1.000000  ...    0.000000    2.000000    1.000000\n",
              "75%     61.000000    1.000000    2.000000  ...    1.000000    3.000000    1.000000\n",
              "max     77.000000    1.000000    3.000000  ...    4.000000    3.000000    1.000000\n",
              "\n",
              "[8 rows x 14 columns]"
            ]
          },
          "metadata": {},
          "execution_count": 9
        }
      ]
    },
    {
      "cell_type": "markdown",
      "metadata": {
        "id": "6r5ZTDuWIbdK"
      },
      "source": [
        "In our dataset Mean age is 54, Minimum age is 29, maximum age is 77, 25% of the people in our dataset have age less than 47 and 75% of the people in our dataset have age less than 61."
      ]
    },
    {
      "cell_type": "code",
      "metadata": {
        "execution": {
          "iopub.status.busy": "2021-07-21T18:49:33.979717Z",
          "iopub.execute_input": "2021-07-21T18:49:33.980042Z",
          "iopub.status.idle": "2021-07-21T18:49:33.995663Z",
          "shell.execute_reply.started": "2021-07-21T18:49:33.980013Z",
          "shell.execute_reply": "2021-07-21T18:49:33.994149Z"
        },
        "trusted": true,
        "colab": {
          "base_uri": "https://localhost:8080/"
        },
        "id": "qJ7btGvxIbdL",
        "outputId": "f4cca885-4487-4735-87e6-1bfbb1cd2a76"
      },
      "source": [
        "# getting the information about dataframe\n",
        "df.info()"
      ],
      "execution_count": 10,
      "outputs": [
        {
          "output_type": "stream",
          "name": "stdout",
          "text": [
            "<class 'pandas.core.frame.DataFrame'>\n",
            "RangeIndex: 303 entries, 0 to 302\n",
            "Data columns (total 14 columns):\n",
            " #   Column    Non-Null Count  Dtype  \n",
            "---  ------    --------------  -----  \n",
            " 0   age       303 non-null    int64  \n",
            " 1   sex       303 non-null    int64  \n",
            " 2   cp        303 non-null    int64  \n",
            " 3   trestbps  303 non-null    int64  \n",
            " 4   chol      303 non-null    int64  \n",
            " 5   fbs       303 non-null    int64  \n",
            " 6   restecg   303 non-null    int64  \n",
            " 7   thalach   303 non-null    int64  \n",
            " 8   exang     303 non-null    int64  \n",
            " 9   oldpeak   303 non-null    float64\n",
            " 10  slope     303 non-null    int64  \n",
            " 11  ca        303 non-null    int64  \n",
            " 12  thal      303 non-null    int64  \n",
            " 13  target    303 non-null    int64  \n",
            "dtypes: float64(1), int64(13)\n",
            "memory usage: 33.3 KB\n"
          ]
        }
      ]
    },
    {
      "cell_type": "markdown",
      "metadata": {
        "id": "F6g4VMrmIbdM"
      },
      "source": [
        "By above table we can see that non of our value is object type, all of them are numerical type with no missing value."
      ]
    },
    {
      "cell_type": "code",
      "metadata": {
        "execution": {
          "iopub.status.busy": "2021-07-21T18:49:33.997714Z",
          "iopub.execute_input": "2021-07-21T18:49:33.998213Z",
          "iopub.status.idle": "2021-07-21T18:49:34.016066Z",
          "shell.execute_reply.started": "2021-07-21T18:49:33.998167Z",
          "shell.execute_reply": "2021-07-21T18:49:34.015131Z"
        },
        "trusted": true,
        "colab": {
          "base_uri": "https://localhost:8080/"
        },
        "id": "KCZGRjAvIbdM",
        "outputId": "818353b7-ae34-417d-a4ef-50321024d2cc"
      },
      "source": [
        "#  check for null value \n",
        "df.isnull().sum()"
      ],
      "execution_count": 11,
      "outputs": [
        {
          "output_type": "execute_result",
          "data": {
            "text/plain": [
              "age         0\n",
              "sex         0\n",
              "cp          0\n",
              "trestbps    0\n",
              "chol        0\n",
              "fbs         0\n",
              "restecg     0\n",
              "thalach     0\n",
              "exang       0\n",
              "oldpeak     0\n",
              "slope       0\n",
              "ca          0\n",
              "thal        0\n",
              "target      0\n",
              "dtype: int64"
            ]
          },
          "metadata": {},
          "execution_count": 11
        }
      ]
    },
    {
      "cell_type": "code",
      "metadata": {
        "execution": {
          "iopub.status.busy": "2021-07-21T18:49:34.017912Z",
          "iopub.execute_input": "2021-07-21T18:49:34.018391Z",
          "iopub.status.idle": "2021-07-21T18:49:34.0374Z",
          "shell.execute_reply.started": "2021-07-21T18:49:34.018357Z",
          "shell.execute_reply": "2021-07-21T18:49:34.035719Z"
        },
        "trusted": true,
        "colab": {
          "base_uri": "https://localhost:8080/"
        },
        "id": "ESxiSn_eIbdO",
        "outputId": "b97a2daa-3894-41db-8e90-13f975ef8877"
      },
      "source": [
        "# checking number of unique values in each column\n",
        "df.nunique()"
      ],
      "execution_count": 12,
      "outputs": [
        {
          "output_type": "execute_result",
          "data": {
            "text/plain": [
              "age          41\n",
              "sex           2\n",
              "cp            4\n",
              "trestbps     49\n",
              "chol        152\n",
              "fbs           2\n",
              "restecg       3\n",
              "thalach      91\n",
              "exang         2\n",
              "oldpeak      40\n",
              "slope         3\n",
              "ca            5\n",
              "thal          4\n",
              "target        2\n",
              "dtype: int64"
            ]
          },
          "metadata": {},
          "execution_count": 12
        }
      ]
    },
    {
      "cell_type": "markdown",
      "metadata": {
        "id": "zq9CLeNrIbdO"
      },
      "source": [
        "## Visualization "
      ]
    },
    {
      "cell_type": "code",
      "metadata": {
        "execution": {
          "iopub.status.busy": "2021-07-21T18:49:34.039626Z",
          "iopub.execute_input": "2021-07-21T18:49:34.040074Z",
          "iopub.status.idle": "2021-07-21T18:49:35.668458Z",
          "shell.execute_reply.started": "2021-07-21T18:49:34.04004Z",
          "shell.execute_reply": "2021-07-21T18:49:35.667639Z"
        },
        "trusted": true,
        "colab": {
          "base_uri": "https://localhost:8080/",
          "height": 318
        },
        "id": "0uBgBvrOIbdP",
        "outputId": "fe65f03f-11e2-41da-8596-3d6f9a6ca7c8"
      },
      "source": [
        "# Checking null value using heatmap\n",
        "sns.heatmap(df.isnull())"
      ],
      "execution_count": 13,
      "outputs": [
        {
          "output_type": "execute_result",
          "data": {
            "text/plain": [
              "<matplotlib.axes._subplots.AxesSubplot at 0x7f6f73efab50>"
            ]
          },
          "metadata": {},
          "execution_count": 13
        },
        {
          "output_type": "display_data",
          "data": {
            "image/png": "[encoded data removed]",
            "text/plain": [
              "<Figure size 432x288 with 2 Axes>"
            ]
          },
          "metadata": {
            "needs_background": "light"
          }
        }
      ]
    },
    {
      "cell_type": "markdown",
      "metadata": {
        "id": "uXvrYK-PIbdQ"
      },
      "source": [
        "No dot/marks are present in the graph (red region) it means we donot have any missing value."
      ]
    },
    {
      "cell_type": "code",
      "metadata": {
        "execution": {
          "iopub.status.busy": "2021-11-05T06:42:23.346605Z",
          "iopub.execute_input": "2021-11-05T06:42:23.347357Z",
          "iopub.status.idle": "2021-11-05T06:42:23.370265Z",
          "shell.execute_reply.started": "2021-11-05T06:42:23.347319Z",
          "shell.execute_reply": "2021-11-05T06:42:23.368541Z"
        },
        "trusted": true,
        "colab": {
          "base_uri": "https://localhost:8080/",
          "height": 535
        },
        "id": "um9F4duVIbdQ",
        "outputId": "71918746-cca6-4f13-b0ba-638cd97346bf"
      },
      "source": [
        "# correlation heatmap\n",
        "plt.figure(figsize=(10,8))\n",
        "sns.heatmap(df.corr(), annot = True, cmap='coolwarm')"
      ],
      "execution_count": 14,
      "outputs": [
        {
          "output_type": "execute_result",
          "data": {
            "text/plain": [
              "<matplotlib.axes._subplots.AxesSubplot at 0x7f6f73efa090>"
            ]
          },
          "metadata": {},
          "execution_count": 14
        },
        {
          "output_type": "display_data",
          "data": {
            "image/png": "[encoded data removed]",
            "text/plain": [
              "<Figure size 720x576 with 2 Axes>"
            ]
          },
          "metadata": {
            "needs_background": "light"
          }
        }
      ]
    },
    {
      "cell_type": "markdown",
      "metadata": {
        "id": "mhzPHMcRIbdR"
      },
      "source": [
        "Two features can be positively correlated or  negatively. But if they are highly correlated then we should drop one of them."
      ]
    },
    {
      "cell_type": "code",
      "metadata": {
        "execution": {
          "iopub.status.busy": "2021-11-05T06:42:17.166086Z",
          "iopub.execute_input": "2021-11-05T06:42:17.16645Z",
          "iopub.status.idle": "2021-11-05T06:42:17.186997Z",
          "shell.execute_reply.started": "2021-11-05T06:42:17.16642Z",
          "shell.execute_reply": "2021-11-05T06:42:17.185783Z"
        },
        "trusted": true,
        "colab": {
          "base_uri": "https://localhost:8080/",
          "height": 279
        },
        "id": "iC_cBimcIbdR",
        "outputId": "fd77163e-d68e-4fc5-ff7d-0fa39b61d679"
      },
      "source": [
        "ax = sns.countplot(x = \"sex\",data= df, saturation=0.8)\n",
        "plt.xticks(ticks=[0, 1], labels = [\"female\", \"male\"])\n",
        "plt.show()"
      ],
      "execution_count": 15,
      "outputs": [
        {
          "output_type": "display_data",
          "data": {
            "image/png": "[encoded data removed]",
            "text/plain": [
              "<Figure size 432x288 with 1 Axes>"
            ]
          },
          "metadata": {
            "needs_background": "light"
          }
        }
      ]
    },
    {
      "cell_type": "code",
      "metadata": {
        "execution": {
          "iopub.status.busy": "2021-11-05T06:42:06.491756Z",
          "iopub.execute_input": "2021-11-05T06:42:06.492369Z",
          "iopub.status.idle": "2021-11-05T06:42:08.103572Z",
          "shell.execute_reply.started": "2021-11-05T06:42:06.492332Z",
          "shell.execute_reply": "2021-11-05T06:42:08.101883Z"
        },
        "trusted": true,
        "colab": {
          "base_uri": "https://localhost:8080/",
          "height": 490
        },
        "id": "J11jVsIdIbdS",
        "outputId": "ec4a1b36-a73b-4674-fd38-664c3d5ec38c"
      },
      "source": [
        "# Visualizing dataset and also checking for outliers \n",
        "\n",
        "fig, ax = plt.subplots(ncols = 7, nrows = 2, figsize = (20, 10))\n",
        "index = 0\n",
        "ax = ax.flatten()\n",
        "\n",
        "for col, value in df.items():\n",
        "    sns.boxplot(y=col, data=df, ax=ax[index])\n",
        "    index += 1\n",
        "plt.tight_layout(pad = 0.5, w_pad=0.7, h_pad=5.0)"
      ],
      "execution_count": 16,
      "outputs": [
        {
          "output_type": "display_data",
          "data": {
            "image/png": "[encoded data removed]",
            "text/plain": [
              "<Figure size 1440x720 with 14 Axes>"
            ]
          },
          "metadata": {
            "needs_background": "light"
          }
        }
      ]
    },
    {
      "cell_type": "code",
      "metadata": {
        "execution": {
          "iopub.status.busy": "2021-11-05T06:42:00.928749Z",
          "iopub.execute_input": "2021-11-05T06:42:00.929462Z",
          "iopub.status.idle": "2021-11-05T06:42:01.032405Z",
          "shell.execute_reply.started": "2021-11-05T06:42:00.929408Z",
          "shell.execute_reply": "2021-11-05T06:42:01.030763Z"
        },
        "trusted": true,
        "colab": {
          "base_uri": "https://localhost:8080/",
          "height": 295
        },
        "id": "TzcASD6gIbdS",
        "outputId": "2bd210aa-d204-439a-adaa-6c7f80f484df"
      },
      "source": [
        "# Individual box plot for each feature\n",
        "def Box(df):\n",
        "    plt.title(\"Box Plot\")\n",
        "    sns.boxplot(df)\n",
        "    plt.show()\n",
        "Box(df['age'])"
      ],
      "execution_count": 17,
      "outputs": [
        {
          "output_type": "display_data",
          "data": {
            "image/png": "[encoded data removed]",
            "text/plain": [
              "<Figure size 432x288 with 1 Axes>"
            ]
          },
          "metadata": {
            "needs_background": "light"
          }
        }
      ]
    },
    {
      "cell_type": "code",
      "metadata": {
        "execution": {
          "iopub.status.busy": "2021-07-21T18:49:39.161737Z",
          "iopub.execute_input": "2021-07-21T18:49:39.162298Z",
          "iopub.status.idle": "2021-07-21T18:49:39.364555Z",
          "shell.execute_reply.started": "2021-07-21T18:49:39.162247Z",
          "shell.execute_reply": "2021-07-21T18:49:39.363449Z"
        },
        "trusted": true,
        "colab": {
          "base_uri": "https://localhost:8080/",
          "height": 296
        },
        "id": "CQG2svZuIbdT",
        "outputId": "a576b111-c5cf-4386-f346-a7e7765e6091"
      },
      "source": [
        "sns.histplot(x = \"age\", data=df)"
      ],
      "execution_count": 18,
      "outputs": [
        {
          "output_type": "execute_result",
          "data": {
            "text/plain": [
              "<matplotlib.axes._subplots.AxesSubplot at 0x7f6f690c0250>"
            ]
          },
          "metadata": {},
          "execution_count": 18
        },
        {
          "output_type": "display_data",
          "data": {
            "image/png": "[encoded data removed]",
            "text/plain": [
              "<Figure size 432x288 with 1 Axes>"
            ]
          },
          "metadata": {
            "needs_background": "light"
          }
        }
      ]
    },
    {
      "cell_type": "code",
      "metadata": {
        "execution": {
          "iopub.status.busy": "2021-07-21T18:49:39.366115Z",
          "iopub.execute_input": "2021-07-21T18:49:39.366438Z",
          "iopub.status.idle": "2021-07-21T18:49:39.377131Z",
          "shell.execute_reply.started": "2021-07-21T18:49:39.366406Z",
          "shell.execute_reply": "2021-07-21T18:49:39.37621Z"
        },
        "trusted": true,
        "id": "3mQ0zdDrIbdT"
      },
      "source": [
        "# Min-Max normalization\n",
        "# Here we are taking only 4 column for normalization because in this the value are too high as compare to others\n",
        "\n",
        "cols = ['trestbps', 'chol', 'thalach', 'oldpeak', 'age']\n",
        "for col in cols:\n",
        "    minimum = min(df[col])\n",
        "    maximum = max(df[col])\n",
        "    df[col] = (df[col] - minimum)/ (maximum - minimum)"
      ],
      "execution_count": 22,
      "outputs": []
    },
    {
      "cell_type": "code",
      "metadata": {
        "execution": {
          "iopub.status.busy": "2021-07-21T18:49:39.3805Z",
          "iopub.execute_input": "2021-07-21T18:49:39.380838Z",
          "iopub.status.idle": "2021-07-21T18:49:39.411484Z",
          "shell.execute_reply.started": "2021-07-21T18:49:39.38081Z",
          "shell.execute_reply": "2021-07-21T18:49:39.410356Z"
        },
        "trusted": true,
        "colab": {
          "base_uri": "https://localhost:8080/",
          "height": 204
        },
        "id": "RQP9jKTiIbdT",
        "outputId": "88e6a368-4183-4118-e135-e750471b5407"
      },
      "source": [
        "df.head()"
      ],
      "execution_count": 23,
      "outputs": [
        {
          "output_type": "execute_result",
          "data": {
            "text/html": [
              "<div>\n",
              "<style scoped>\n",
              "    .dataframe tbody tr th:only-of-type {\n",
              "        vertical-align: middle;\n",
              "    }\n",
              "\n",
              "    .dataframe tbody tr th {\n",
              "        vertical-align: top;\n",
              "    }\n",
              "\n",
              "    .dataframe thead th {\n",
              "        text-align: right;\n",
              "    }\n",
              "</style>\n",
              "<table border=\"1\" class=\"dataframe\">\n",
              "  <thead>\n",
              "    <tr style=\"text-align: right;\">\n",
              "      <th></th>\n",
              "      <th>age</th>\n",
              "      <th>sex</th>\n",
              "      <th>cp</th>\n",
              "      <th>trestbps</th>\n",
              "      <th>chol</th>\n",
              "      <th>fbs</th>\n",
              "      <th>restecg</th>\n",
              "      <th>thalach</th>\n",
              "      <th>exang</th>\n",
              "      <th>oldpeak</th>\n",
              "      <th>slope</th>\n",
              "      <th>ca</th>\n",
              "      <th>thal</th>\n",
              "      <th>target</th>\n",
              "    </tr>\n",
              "  </thead>\n",
              "  <tbody>\n",
              "    <tr>\n",
              "      <th>0</th>\n",
              "      <td>0.708333</td>\n",
              "      <td>1</td>\n",
              "      <td>3</td>\n",
              "      <td>0.481132</td>\n",
              "      <td>0.244292</td>\n",
              "      <td>1</td>\n",
              "      <td>0</td>\n",
              "      <td>0.603053</td>\n",
              "      <td>0</td>\n",
              "      <td>0.370968</td>\n",
              "      <td>0</td>\n",
              "      <td>0</td>\n",
              "      <td>1</td>\n",
              "      <td>1</td>\n",
              "    </tr>\n",
              "    <tr>\n",
              "      <th>1</th>\n",
              "      <td>0.166667</td>\n",
              "      <td>1</td>\n",
              "      <td>2</td>\n",
              "      <td>0.339623</td>\n",
              "      <td>0.283105</td>\n",
              "      <td>0</td>\n",
              "      <td>1</td>\n",
              "      <td>0.885496</td>\n",
              "      <td>0</td>\n",
              "      <td>0.564516</td>\n",
              "      <td>0</td>\n",
              "      <td>0</td>\n",
              "      <td>2</td>\n",
              "      <td>1</td>\n",
              "    </tr>\n",
              "    <tr>\n",
              "      <th>2</th>\n",
              "      <td>0.250000</td>\n",
              "      <td>0</td>\n",
              "      <td>1</td>\n",
              "      <td>0.339623</td>\n",
              "      <td>0.178082</td>\n",
              "      <td>0</td>\n",
              "      <td>0</td>\n",
              "      <td>0.770992</td>\n",
              "      <td>0</td>\n",
              "      <td>0.225806</td>\n",
              "      <td>2</td>\n",
              "      <td>0</td>\n",
              "      <td>2</td>\n",
              "      <td>1</td>\n",
              "    </tr>\n",
              "    <tr>\n",
              "      <th>3</th>\n",
              "      <td>0.562500</td>\n",
              "      <td>1</td>\n",
              "      <td>1</td>\n",
              "      <td>0.245283</td>\n",
              "      <td>0.251142</td>\n",
              "      <td>0</td>\n",
              "      <td>1</td>\n",
              "      <td>0.816794</td>\n",
              "      <td>0</td>\n",
              "      <td>0.129032</td>\n",
              "      <td>2</td>\n",
              "      <td>0</td>\n",
              "      <td>2</td>\n",
              "      <td>1</td>\n",
              "    </tr>\n",
              "    <tr>\n",
              "      <th>4</th>\n",
              "      <td>0.583333</td>\n",
              "      <td>0</td>\n",
              "      <td>0</td>\n",
              "      <td>0.245283</td>\n",
              "      <td>0.520548</td>\n",
              "      <td>0</td>\n",
              "      <td>1</td>\n",
              "      <td>0.702290</td>\n",
              "      <td>1</td>\n",
              "      <td>0.096774</td>\n",
              "      <td>2</td>\n",
              "      <td>0</td>\n",
              "      <td>2</td>\n",
              "      <td>1</td>\n",
              "    </tr>\n",
              "  </tbody>\n",
              "</table>\n",
              "</div>"
            ],
            "text/plain": [
              "        age  sex  cp  trestbps      chol  ...   oldpeak  slope  ca  thal  target\n",
              "0  0.708333    1   3  0.481132  0.244292  ...  0.370968      0   0     1       1\n",
              "1  0.166667    1   2  0.339623  0.283105  ...  0.564516      0   0     2       1\n",
              "2  0.250000    0   1  0.339623  0.178082  ...  0.225806      2   0     2       1\n",
              "3  0.562500    1   1  0.245283  0.251142  ...  0.129032      2   0     2       1\n",
              "4  0.583333    0   0  0.245283  0.520548  ...  0.096774      2   0     2       1\n",
              "\n",
              "[5 rows x 14 columns]"
            ]
          },
          "metadata": {},
          "execution_count": 23
        }
      ]
    },
    {
      "cell_type": "code",
      "metadata": {
        "execution": {
          "iopub.status.busy": "2021-07-21T18:49:39.413812Z",
          "iopub.execute_input": "2021-07-21T18:49:39.414155Z",
          "iopub.status.idle": "2021-07-21T18:49:39.427467Z",
          "shell.execute_reply.started": "2021-07-21T18:49:39.414125Z",
          "shell.execute_reply": "2021-07-21T18:49:39.426091Z"
        },
        "trusted": true,
        "colab": {
          "base_uri": "https://localhost:8080/"
        },
        "id": "vQhFScdyIbdU",
        "outputId": "825f0b12-5cec-4e9e-b2a6-ecb819147cab"
      },
      "source": [
        "print(df[[\"sex\", \"target\"]].groupby(['sex']).mean())"
      ],
      "execution_count": 26,
      "outputs": [
        {
          "output_type": "stream",
          "name": "stdout",
          "text": [
            "       target\n",
            "sex          \n",
            "0    0.750000\n",
            "1    0.449275\n"
          ]
        }
      ]
    },
    {
      "cell_type": "code",
      "metadata": {
        "execution": {
          "iopub.status.busy": "2021-07-21T18:49:39.428862Z",
          "iopub.execute_input": "2021-07-21T18:49:39.429194Z",
          "iopub.status.idle": "2021-07-21T18:49:39.442635Z",
          "shell.execute_reply.started": "2021-07-21T18:49:39.429165Z",
          "shell.execute_reply": "2021-07-21T18:49:39.441394Z"
        },
        "trusted": true,
        "colab": {
          "base_uri": "https://localhost:8080/"
        },
        "id": "PP2dTdI_IbdU",
        "outputId": "19b96bbe-b223-4f5b-becf-86d45d077be2"
      },
      "source": [
        "print(df[[\"cp\", \"target\"]].groupby(['cp']).mean())"
      ],
      "execution_count": 27,
      "outputs": [
        {
          "output_type": "stream",
          "name": "stdout",
          "text": [
            "      target\n",
            "cp          \n",
            "0   0.272727\n",
            "1   0.820000\n",
            "2   0.793103\n",
            "3   0.695652\n"
          ]
        }
      ]
    },
    {
      "cell_type": "code",
      "metadata": {
        "execution": {
          "iopub.status.busy": "2021-07-21T18:49:39.443768Z",
          "iopub.execute_input": "2021-07-21T18:49:39.444112Z",
          "iopub.status.idle": "2021-07-21T18:49:39.457306Z",
          "shell.execute_reply.started": "2021-07-21T18:49:39.44408Z",
          "shell.execute_reply": "2021-07-21T18:49:39.456004Z"
        },
        "trusted": true,
        "colab": {
          "base_uri": "https://localhost:8080/"
        },
        "id": "iCJL-1dIIbdV",
        "outputId": "168ab487-5605-4f96-e790-9263604796f2"
      },
      "source": [
        "print(df[[\"fbs\", \"target\"]].groupby(['fbs']).mean())\n"
      ],
      "execution_count": 28,
      "outputs": [
        {
          "output_type": "stream",
          "name": "stdout",
          "text": [
            "       target\n",
            "fbs          \n",
            "0    0.550388\n",
            "1    0.511111\n"
          ]
        }
      ]
    },
    {
      "cell_type": "code",
      "metadata": {
        "execution": {
          "iopub.status.busy": "2021-07-21T18:49:39.459129Z",
          "iopub.execute_input": "2021-07-21T18:49:39.459541Z",
          "iopub.status.idle": "2021-07-21T18:49:39.479292Z",
          "shell.execute_reply.started": "2021-07-21T18:49:39.459494Z",
          "shell.execute_reply": "2021-07-21T18:49:39.478116Z"
        },
        "trusted": true,
        "colab": {
          "base_uri": "https://localhost:8080/"
        },
        "id": "AJ7AZklrIbdV",
        "outputId": "559fd65b-fb6c-4ceb-f827-8ccfba96a24a"
      },
      "source": [
        "print (df[[\"exang\", \"target\"]].groupby(['exang']).mean())"
      ],
      "execution_count": 32,
      "outputs": [
        {
          "output_type": "stream",
          "name": "stdout",
          "text": [
            "         target\n",
            "exang          \n",
            "0      0.696078\n",
            "1      0.232323\n"
          ]
        }
      ]
    },
    {
      "cell_type": "code",
      "metadata": {
        "execution": {
          "iopub.status.busy": "2021-07-21T18:49:39.480782Z",
          "iopub.execute_input": "2021-07-21T18:49:39.481181Z",
          "iopub.status.idle": "2021-07-21T18:49:39.501011Z",
          "shell.execute_reply.started": "2021-07-21T18:49:39.481146Z",
          "shell.execute_reply": "2021-07-21T18:49:39.499224Z"
        },
        "trusted": true,
        "colab": {
          "base_uri": "https://localhost:8080/"
        },
        "id": "AORGbtfmIbdW",
        "outputId": "51153a2b-00c2-4cc8-b1ff-93f05fcce1cf"
      },
      "source": [
        "print (df[[\"exang\", \"target\"]].groupby(['exang']).mean())"
      ],
      "execution_count": 33,
      "outputs": [
        {
          "output_type": "stream",
          "name": "stdout",
          "text": [
            "         target\n",
            "exang          \n",
            "0      0.696078\n",
            "1      0.232323\n"
          ]
        }
      ]
    },
    {
      "cell_type": "markdown",
      "metadata": {
        "id": "zZgsoJQfIbdX"
      },
      "source": [
        "Here we are grouping the data based on different categories and therefore we can also check other features for more information."
      ]
    },
    {
      "cell_type": "code",
      "metadata": {
        "execution": {
          "iopub.status.busy": "2021-07-21T18:49:39.502235Z",
          "iopub.execute_input": "2021-07-21T18:49:39.502551Z",
          "iopub.status.idle": "2021-07-21T18:49:41.225347Z",
          "shell.execute_reply.started": "2021-07-21T18:49:39.502523Z",
          "shell.execute_reply": "2021-07-21T18:49:41.224231Z"
        },
        "trusted": true,
        "colab": {
          "base_uri": "https://localhost:8080/",
          "height": 490
        },
        "id": "skhzLLsZIbdX",
        "outputId": "1a381ce2-d677-4edc-d516-fa5cac5cc11e"
      },
      "source": [
        "# Visualizing after min-max normalization \n",
        "fig, ax = plt.subplots(ncols = 7, nrows = 2, figsize = (20, 10))\n",
        "index = 0\n",
        "ax = ax.flatten()\n",
        "\n",
        "for col, value in df.items():\n",
        "    sns.boxplot(y=col, data=df, ax=ax[index])\n",
        "    index += 1\n",
        "plt.tight_layout(pad = 0.5, w_pad=0.7, h_pad=5.0)"
      ],
      "execution_count": 34,
      "outputs": [
        {
          "output_type": "display_data",
          "data": {
            "image/png": "[encoded data removed]",
            "text/plain": [
              "<Figure size 1440x720 with 14 Axes>"
            ]
          },
          "metadata": {
            "needs_background": "light"
          }
        }
      ]
    },
    {
      "cell_type": "code",
      "metadata": {
        "execution": {
          "iopub.status.busy": "2021-07-21T18:49:41.226698Z",
          "iopub.execute_input": "2021-07-21T18:49:41.227015Z",
          "iopub.status.idle": "2021-07-21T18:49:41.246994Z",
          "shell.execute_reply.started": "2021-07-21T18:49:41.226986Z",
          "shell.execute_reply": "2021-07-21T18:49:41.245898Z"
        },
        "trusted": true,
        "colab": {
          "base_uri": "https://localhost:8080/",
          "height": 204
        },
        "id": "JRY5QM-8IbdX",
        "outputId": "33fc3a6e-231a-4476-86fa-1321e0dc9f48"
      },
      "source": [
        "# Here we can see that after min-max normalization values now ranges from 0 to 1\n",
        "df.head()"
      ],
      "execution_count": 35,
      "outputs": [
        {
          "output_type": "execute_result",
          "data": {
            "text/html": [
              "<div>\n",
              "<style scoped>\n",
              "    .dataframe tbody tr th:only-of-type {\n",
              "        vertical-align: middle;\n",
              "    }\n",
              "\n",
              "    .dataframe tbody tr th {\n",
              "        vertical-align: top;\n",
              "    }\n",
              "\n",
              "    .dataframe thead th {\n",
              "        text-align: right;\n",
              "    }\n",
              "</style>\n",
              "<table border=\"1\" class=\"dataframe\">\n",
              "  <thead>\n",
              "    <tr style=\"text-align: right;\">\n",
              "      <th></th>\n",
              "      <th>age</th>\n",
              "      <th>sex</th>\n",
              "      <th>cp</th>\n",
              "      <th>trestbps</th>\n",
              "      <th>chol</th>\n",
              "      <th>fbs</th>\n",
              "      <th>restecg</th>\n",
              "      <th>thalach</th>\n",
              "      <th>exang</th>\n",
              "      <th>oldpeak</th>\n",
              "      <th>slope</th>\n",
              "      <th>ca</th>\n",
              "      <th>thal</th>\n",
              "      <th>target</th>\n",
              "    </tr>\n",
              "  </thead>\n",
              "  <tbody>\n",
              "    <tr>\n",
              "      <th>0</th>\n",
              "      <td>0.708333</td>\n",
              "      <td>1</td>\n",
              "      <td>3</td>\n",
              "      <td>0.481132</td>\n",
              "      <td>0.244292</td>\n",
              "      <td>1</td>\n",
              "      <td>0</td>\n",
              "      <td>0.603053</td>\n",
              "      <td>0</td>\n",
              "      <td>0.370968</td>\n",
              "      <td>0</td>\n",
              "      <td>0</td>\n",
              "      <td>1</td>\n",
              "      <td>1</td>\n",
              "    </tr>\n",
              "    <tr>\n",
              "      <th>1</th>\n",
              "      <td>0.166667</td>\n",
              "      <td>1</td>\n",
              "      <td>2</td>\n",
              "      <td>0.339623</td>\n",
              "      <td>0.283105</td>\n",
              "      <td>0</td>\n",
              "      <td>1</td>\n",
              "      <td>0.885496</td>\n",
              "      <td>0</td>\n",
              "      <td>0.564516</td>\n",
              "      <td>0</td>\n",
              "      <td>0</td>\n",
              "      <td>2</td>\n",
              "      <td>1</td>\n",
              "    </tr>\n",
              "    <tr>\n",
              "      <th>2</th>\n",
              "      <td>0.250000</td>\n",
              "      <td>0</td>\n",
              "      <td>1</td>\n",
              "      <td>0.339623</td>\n",
              "      <td>0.178082</td>\n",
              "      <td>0</td>\n",
              "      <td>0</td>\n",
              "      <td>0.770992</td>\n",
              "      <td>0</td>\n",
              "      <td>0.225806</td>\n",
              "      <td>2</td>\n",
              "      <td>0</td>\n",
              "      <td>2</td>\n",
              "      <td>1</td>\n",
              "    </tr>\n",
              "    <tr>\n",
              "      <th>3</th>\n",
              "      <td>0.562500</td>\n",
              "      <td>1</td>\n",
              "      <td>1</td>\n",
              "      <td>0.245283</td>\n",
              "      <td>0.251142</td>\n",
              "      <td>0</td>\n",
              "      <td>1</td>\n",
              "      <td>0.816794</td>\n",
              "      <td>0</td>\n",
              "      <td>0.129032</td>\n",
              "      <td>2</td>\n",
              "      <td>0</td>\n",
              "      <td>2</td>\n",
              "      <td>1</td>\n",
              "    </tr>\n",
              "    <tr>\n",
              "      <th>4</th>\n",
              "      <td>0.583333</td>\n",
              "      <td>0</td>\n",
              "      <td>0</td>\n",
              "      <td>0.245283</td>\n",
              "      <td>0.520548</td>\n",
              "      <td>0</td>\n",
              "      <td>1</td>\n",
              "      <td>0.702290</td>\n",
              "      <td>1</td>\n",
              "      <td>0.096774</td>\n",
              "      <td>2</td>\n",
              "      <td>0</td>\n",
              "      <td>2</td>\n",
              "      <td>1</td>\n",
              "    </tr>\n",
              "  </tbody>\n",
              "</table>\n",
              "</div>"
            ],
            "text/plain": [
              "        age  sex  cp  trestbps      chol  ...   oldpeak  slope  ca  thal  target\n",
              "0  0.708333    1   3  0.481132  0.244292  ...  0.370968      0   0     1       1\n",
              "1  0.166667    1   2  0.339623  0.283105  ...  0.564516      0   0     2       1\n",
              "2  0.250000    0   1  0.339623  0.178082  ...  0.225806      2   0     2       1\n",
              "3  0.562500    1   1  0.245283  0.251142  ...  0.129032      2   0     2       1\n",
              "4  0.583333    0   0  0.245283  0.520548  ...  0.096774      2   0     2       1\n",
              "\n",
              "[5 rows x 14 columns]"
            ]
          },
          "metadata": {},
          "execution_count": 35
        }
      ]
    },
    {
      "cell_type": "code",
      "metadata": {
        "execution": {
          "iopub.status.busy": "2021-07-21T18:49:41.248529Z",
          "iopub.execute_input": "2021-07-21T18:49:41.248906Z",
          "iopub.status.idle": "2021-07-21T18:49:41.479408Z",
          "shell.execute_reply.started": "2021-07-21T18:49:41.248874Z",
          "shell.execute_reply": "2021-07-21T18:49:41.478233Z"
        },
        "trusted": true,
        "colab": {
          "base_uri": "https://localhost:8080/",
          "height": 279
        },
        "id": "pEOZvQYlIbdY",
        "outputId": "e6e8f297-6400-412f-e8e0-76b43244d76d"
      },
      "source": [
        "# Exploring dataset through visualization\n",
        "df1=df[df[\"target\"] == 1]\n",
        "sns.histplot(df1[\"thalach\"],bins=25, color=\"lightgreen\");\n",
        "plt.xlabel(\"Heart rate when target is 1\")\n",
        "plt.show()"
      ],
      "execution_count": 39,
      "outputs": [
        {
          "output_type": "display_data",
          "data": {
            "image/png": "[encoded data removed]",
            "text/plain": [
              "<Figure size 432x288 with 1 Axes>"
            ]
          },
          "metadata": {
            "needs_background": "light"
          }
        }
      ]
    },
    {
      "cell_type": "code",
      "metadata": {
        "execution": {
          "iopub.status.busy": "2021-07-21T18:49:41.480873Z",
          "iopub.execute_input": "2021-07-21T18:49:41.481216Z",
          "iopub.status.idle": "2021-07-21T18:49:41.701929Z",
          "shell.execute_reply.started": "2021-07-21T18:49:41.481181Z",
          "shell.execute_reply": "2021-07-21T18:49:41.700555Z"
        },
        "trusted": true,
        "colab": {
          "base_uri": "https://localhost:8080/",
          "height": 279
        },
        "id": "FlkNDZOqIbdY",
        "outputId": "8b840ccc-eea2-4635-e332-b04ef6e69144"
      },
      "source": [
        "# Exploring dataset through visualization\n",
        "df2=df[df[\"target\"]==0]\n",
        "sns.histplot(df2[\"thalach\"],bins=25,  color=\"red\");\n",
        "plt.xlabel(\"Heart rate when target is 0\")\n",
        "plt.show()"
      ],
      "execution_count": 41,
      "outputs": [
        {
          "output_type": "display_data",
          "data": {
            "image/png": "[encoded data removed]",
            "text/plain": [
              "<Figure size 432x288 with 1 Axes>"
            ]
          },
          "metadata": {
            "needs_background": "light"
          }
        }
      ]
    },
    {
      "cell_type": "code",
      "metadata": {
        "execution": {
          "iopub.status.busy": "2021-07-21T18:49:41.703565Z",
          "iopub.execute_input": "2021-07-21T18:49:41.703893Z",
          "iopub.status.idle": "2021-07-21T18:49:41.716166Z",
          "shell.execute_reply.started": "2021-07-21T18:49:41.703863Z",
          "shell.execute_reply": "2021-07-21T18:49:41.714836Z"
        },
        "trusted": true,
        "colab": {
          "base_uri": "https://localhost:8080/"
        },
        "id": "cXvVoMcMIbdY",
        "outputId": "a9c3be17-bd35-4b0f-bb5d-578b351b054d"
      },
      "source": [
        "# dropping 'output' from dataframe and saving dataframe in X which is now acting as input column\n",
        "X = df.drop(\"target\", axis=1)\n",
        "X.shape"
      ],
      "execution_count": 43,
      "outputs": [
        {
          "output_type": "execute_result",
          "data": {
            "text/plain": [
              "(303, 13)"
            ]
          },
          "metadata": {},
          "execution_count": 43
        }
      ]
    },
    {
      "cell_type": "code",
      "metadata": {
        "execution": {
          "iopub.status.busy": "2021-07-21T18:49:41.717737Z",
          "iopub.execute_input": "2021-07-21T18:49:41.718127Z",
          "iopub.status.idle": "2021-07-21T18:49:41.740852Z",
          "shell.execute_reply.started": "2021-07-21T18:49:41.718093Z",
          "shell.execute_reply": "2021-07-21T18:49:41.739546Z"
        },
        "trusted": true,
        "colab": {
          "base_uri": "https://localhost:8080/",
          "height": 204
        },
        "id": "dZeWR9c9IbdZ",
        "outputId": "6b6a1110-b86b-4115-ec86-55a133524991"
      },
      "source": [
        "X.head()"
      ],
      "execution_count": 44,
      "outputs": [
        {
          "output_type": "execute_result",
          "data": {
            "text/html": [
              "<div>\n",
              "<style scoped>\n",
              "    .dataframe tbody tr th:only-of-type {\n",
              "        vertical-align: middle;\n",
              "    }\n",
              "\n",
              "    .dataframe tbody tr th {\n",
              "        vertical-align: top;\n",
              "    }\n",
              "\n",
              "    .dataframe thead th {\n",
              "        text-align: right;\n",
              "    }\n",
              "</style>\n",
              "<table border=\"1\" class=\"dataframe\">\n",
              "  <thead>\n",
              "    <tr style=\"text-align: right;\">\n",
              "      <th></th>\n",
              "      <th>age</th>\n",
              "      <th>sex</th>\n",
              "      <th>cp</th>\n",
              "      <th>trestbps</th>\n",
              "      <th>chol</th>\n",
              "      <th>fbs</th>\n",
              "      <th>restecg</th>\n",
              "      <th>thalach</th>\n",
              "      <th>exang</th>\n",
              "      <th>oldpeak</th>\n",
              "      <th>slope</th>\n",
              "      <th>ca</th>\n",
              "      <th>thal</th>\n",
              "    </tr>\n",
              "  </thead>\n",
              "  <tbody>\n",
              "    <tr>\n",
              "      <th>0</th>\n",
              "      <td>0.708333</td>\n",
              "      <td>1</td>\n",
              "      <td>3</td>\n",
              "      <td>0.481132</td>\n",
              "      <td>0.244292</td>\n",
              "      <td>1</td>\n",
              "      <td>0</td>\n",
              "      <td>0.603053</td>\n",
              "      <td>0</td>\n",
              "      <td>0.370968</td>\n",
              "      <td>0</td>\n",
              "      <td>0</td>\n",
              "      <td>1</td>\n",
              "    </tr>\n",
              "    <tr>\n",
              "      <th>1</th>\n",
              "      <td>0.166667</td>\n",
              "      <td>1</td>\n",
              "      <td>2</td>\n",
              "      <td>0.339623</td>\n",
              "      <td>0.283105</td>\n",
              "      <td>0</td>\n",
              "      <td>1</td>\n",
              "      <td>0.885496</td>\n",
              "      <td>0</td>\n",
              "      <td>0.564516</td>\n",
              "      <td>0</td>\n",
              "      <td>0</td>\n",
              "      <td>2</td>\n",
              "    </tr>\n",
              "    <tr>\n",
              "      <th>2</th>\n",
              "      <td>0.250000</td>\n",
              "      <td>0</td>\n",
              "      <td>1</td>\n",
              "      <td>0.339623</td>\n",
              "      <td>0.178082</td>\n",
              "      <td>0</td>\n",
              "      <td>0</td>\n",
              "      <td>0.770992</td>\n",
              "      <td>0</td>\n",
              "      <td>0.225806</td>\n",
              "      <td>2</td>\n",
              "      <td>0</td>\n",
              "      <td>2</td>\n",
              "    </tr>\n",
              "    <tr>\n",
              "      <th>3</th>\n",
              "      <td>0.562500</td>\n",
              "      <td>1</td>\n",
              "      <td>1</td>\n",
              "      <td>0.245283</td>\n",
              "      <td>0.251142</td>\n",
              "      <td>0</td>\n",
              "      <td>1</td>\n",
              "      <td>0.816794</td>\n",
              "      <td>0</td>\n",
              "      <td>0.129032</td>\n",
              "      <td>2</td>\n",
              "      <td>0</td>\n",
              "      <td>2</td>\n",
              "    </tr>\n",
              "    <tr>\n",
              "      <th>4</th>\n",
              "      <td>0.583333</td>\n",
              "      <td>0</td>\n",
              "      <td>0</td>\n",
              "      <td>0.245283</td>\n",
              "      <td>0.520548</td>\n",
              "      <td>0</td>\n",
              "      <td>1</td>\n",
              "      <td>0.702290</td>\n",
              "      <td>1</td>\n",
              "      <td>0.096774</td>\n",
              "      <td>2</td>\n",
              "      <td>0</td>\n",
              "      <td>2</td>\n",
              "    </tr>\n",
              "  </tbody>\n",
              "</table>\n",
              "</div>"
            ],
            "text/plain": [
              "        age  sex  cp  trestbps      chol  ...  exang   oldpeak  slope  ca  thal\n",
              "0  0.708333    1   3  0.481132  0.244292  ...      0  0.370968      0   0     1\n",
              "1  0.166667    1   2  0.339623  0.283105  ...      0  0.564516      0   0     2\n",
              "2  0.250000    0   1  0.339623  0.178082  ...      0  0.225806      2   0     2\n",
              "3  0.562500    1   1  0.245283  0.251142  ...      0  0.129032      2   0     2\n",
              "4  0.583333    0   0  0.245283  0.520548  ...      1  0.096774      2   0     2\n",
              "\n",
              "[5 rows x 13 columns]"
            ]
          },
          "metadata": {},
          "execution_count": 44
        }
      ]
    },
    {
      "cell_type": "code",
      "metadata": {
        "execution": {
          "iopub.status.busy": "2021-07-21T18:49:41.742602Z",
          "iopub.execute_input": "2021-07-21T18:49:41.743015Z",
          "iopub.status.idle": "2021-07-21T18:49:41.756015Z",
          "shell.execute_reply.started": "2021-07-21T18:49:41.742955Z",
          "shell.execute_reply": "2021-07-21T18:49:41.755128Z"
        },
        "trusted": true,
        "colab": {
          "base_uri": "https://localhost:8080/"
        },
        "id": "NLCFJrM_IbdZ",
        "outputId": "5b4a5a81-e5db-47e7-a76c-a2944be98805"
      },
      "source": [
        "# y have only 'output' column \n",
        "y = df['target']\n",
        "y.shape"
      ],
      "execution_count": 45,
      "outputs": [
        {
          "output_type": "execute_result",
          "data": {
            "text/plain": [
              "(303,)"
            ]
          },
          "metadata": {},
          "execution_count": 45
        }
      ]
    },
    {
      "cell_type": "markdown",
      "metadata": {
        "id": "pO8H7AJWIbdZ"
      },
      "source": [
        "#### Performing train_test_split"
      ]
    },
    {
      "cell_type": "code",
      "metadata": {
        "execution": {
          "iopub.status.busy": "2021-07-21T18:49:41.757268Z",
          "iopub.execute_input": "2021-07-21T18:49:41.757575Z",
          "iopub.status.idle": "2021-07-21T18:49:41.772392Z",
          "shell.execute_reply.started": "2021-07-21T18:49:41.757546Z",
          "shell.execute_reply": "2021-07-21T18:49:41.771166Z"
        },
        "trusted": true,
        "id": "2q8Oq255Ibda"
      },
      "source": [
        "from sklearn.model_selection import  train_test_split\n",
        "X_train, X_test, y_train, y_test = train_test_split(X, y,train_size=0.8,random_state=42)"
      ],
      "execution_count": 46,
      "outputs": []
    },
    {
      "cell_type": "markdown",
      "metadata": {
        "id": "gbDhsg8oIbda"
      },
      "source": [
        "### Logistic Regression"
      ]
    },
    {
      "cell_type": "code",
      "metadata": {
        "execution": {
          "iopub.status.busy": "2021-07-21T18:49:41.774169Z",
          "iopub.execute_input": "2021-07-21T18:49:41.774632Z",
          "iopub.status.idle": "2021-07-21T18:49:41.787324Z",
          "shell.execute_reply.started": "2021-07-21T18:49:41.774595Z",
          "shell.execute_reply": "2021-07-21T18:49:41.786271Z"
        },
        "trusted": true,
        "id": "T_3a83LiIbda"
      },
      "source": [
        "from sklearn.linear_model import LogisticRegression\n",
        "from sklearn.metrics import confusion_matrix, accuracy_score"
      ],
      "execution_count": 47,
      "outputs": []
    },
    {
      "cell_type": "code",
      "metadata": {
        "execution": {
          "iopub.status.busy": "2021-07-21T18:53:03.231986Z",
          "iopub.execute_input": "2021-07-21T18:53:03.232425Z",
          "iopub.status.idle": "2021-07-21T18:53:03.237391Z",
          "shell.execute_reply.started": "2021-07-21T18:53:03.23239Z",
          "shell.execute_reply": "2021-07-21T18:53:03.236394Z"
        },
        "trusted": true,
        "id": "Uv-1kerJIbdb"
      },
      "source": [
        "# Creating model object\n",
        "model_lg = LogisticRegression(max_iter=120,random_state=0, n_jobs=20)"
      ],
      "execution_count": 48,
      "outputs": []
    },
    {
      "cell_type": "code",
      "metadata": {
        "execution": {
          "iopub.status.busy": "2021-07-21T18:53:03.477792Z",
          "iopub.execute_input": "2021-07-21T18:53:03.478337Z",
          "iopub.status.idle": "2021-07-21T18:53:04.362731Z",
          "shell.execute_reply.started": "2021-07-21T18:53:03.478304Z",
          "shell.execute_reply": "2021-07-21T18:53:04.361764Z"
        },
        "trusted": true,
        "colab": {
          "base_uri": "https://localhost:8080/"
        },
        "id": "jwTfJsTfIbdb",
        "outputId": "beb5430b-3d34-454b-d1c0-34633a67fc62"
      },
      "source": [
        "# Training Model\n",
        "model_lg.fit(X_train, y_train)"
      ],
      "execution_count": 49,
      "outputs": [
        {
          "output_type": "execute_result",
          "data": {
            "text/plain": [
              "LogisticRegression(C=1.0, class_weight=None, dual=False, fit_intercept=True,\n",
              "                   intercept_scaling=1, l1_ratio=None, max_iter=120,\n",
              "                   multi_class='auto', n_jobs=20, penalty='l2', random_state=0,\n",
              "                   solver='lbfgs', tol=0.0001, verbose=0, warm_start=False)"
            ]
          },
          "metadata": {},
          "execution_count": 49
        }
      ]
    },
    {
      "cell_type": "code",
      "metadata": {
        "execution": {
          "iopub.status.busy": "2021-07-21T18:53:04.364278Z",
          "iopub.execute_input": "2021-07-21T18:53:04.364786Z",
          "iopub.status.idle": "2021-07-21T18:53:04.372566Z",
          "shell.execute_reply.started": "2021-07-21T18:53:04.364747Z",
          "shell.execute_reply": "2021-07-21T18:53:04.371453Z"
        },
        "trusted": true,
        "id": "7repRtEVIbdb"
      },
      "source": [
        "# Making Prediction\n",
        "pred_lg = model_lg.predict(X_test)"
      ],
      "execution_count": 50,
      "outputs": []
    },
    {
      "cell_type": "code",
      "metadata": {
        "execution": {
          "iopub.status.busy": "2021-07-21T18:53:04.374495Z",
          "iopub.execute_input": "2021-07-21T18:53:04.375209Z",
          "iopub.status.idle": "2021-07-21T18:53:04.388274Z",
          "shell.execute_reply.started": "2021-07-21T18:53:04.375167Z",
          "shell.execute_reply": "2021-07-21T18:53:04.38718Z"
        },
        "trusted": true,
        "colab": {
          "base_uri": "https://localhost:8080/"
        },
        "id": "ZWYoCjkAIbdc",
        "outputId": "16c8e489-9783-4b03-ea50-70fe63751e97"
      },
      "source": [
        "# Calculating Accuracy Score\n",
        "lg = accuracy_score(y_test, pred_lg)\n",
        "print(lg)"
      ],
      "execution_count": 51,
      "outputs": [
        {
          "output_type": "stream",
          "name": "stdout",
          "text": [
            "0.8360655737704918\n"
          ]
        }
      ]
    },
    {
      "cell_type": "code",
      "metadata": {
        "execution": {
          "iopub.status.busy": "2021-07-21T18:52:53.796184Z",
          "iopub.execute_input": "2021-07-21T18:52:53.796683Z",
          "iopub.status.idle": "2021-07-21T18:52:54.073542Z",
          "shell.execute_reply.started": "2021-07-21T18:52:53.796639Z",
          "shell.execute_reply": "2021-07-21T18:52:54.072209Z"
        },
        "trusted": true,
        "colab": {
          "base_uri": "https://localhost:8080/",
          "height": 282
        },
        "id": "x1gMy5s4Ibdc",
        "outputId": "b164ee4a-5370-4358-fb68-f474dd97c862"
      },
      "source": [
        "# confusion Maxtrix\n",
        "cm1 = confusion_matrix(y_test, pred_lg)\n",
        "sns.heatmap(cm1/np.sum(cm1), annot = True, fmt=  '0.2%', cmap = 'Reds')"
      ],
      "execution_count": 53,
      "outputs": [
        {
          "output_type": "execute_result",
          "data": {
            "text/plain": [
              "<matplotlib.axes._subplots.AxesSubplot at 0x7f6f63892f10>"
            ]
          },
          "metadata": {},
          "execution_count": 53
        },
        {
          "output_type": "display_data",
          "data": {
            "image/png": "[encoded data removed]",
            "text/plain": [
              "<Figure size 432x288 with 2 Axes>"
            ]
          },
          "metadata": {
            "needs_background": "light"
          }
        }
      ]
    },
    {
      "cell_type": "markdown",
      "metadata": {
        "id": "e__AI-g-Ibdc"
      },
      "source": [
        "* Here,  Type-1 Error is 6.56% which is also known as False Positive.\n",
        "* Type-2 Error is 9.84% which is also known as False Negative.\n",
        "* while other % value in the confusion matrix represents that they are correctly  predicted in their specific categories."
      ]
    },
    {
      "cell_type": "markdown",
      "metadata": {
        "id": "X1i-kpzsIbdc"
      },
      "source": [
        "## Decision Tree Classifier"
      ]
    },
    {
      "cell_type": "code",
      "metadata": {
        "execution": {
          "iopub.status.busy": "2021-07-21T18:49:42.159503Z",
          "iopub.execute_input": "2021-07-21T18:49:42.159882Z",
          "iopub.status.idle": "2021-07-21T18:49:42.165529Z",
          "shell.execute_reply.started": "2021-07-21T18:49:42.159846Z",
          "shell.execute_reply": "2021-07-21T18:49:42.164234Z"
        },
        "trusted": true,
        "id": "4p_r1GkaIbdd"
      },
      "source": [
        "from sklearn.tree import DecisionTreeClassifier"
      ],
      "execution_count": 54,
      "outputs": []
    },
    {
      "cell_type": "code",
      "metadata": {
        "execution": {
          "iopub.status.busy": "2021-07-21T18:49:42.167375Z",
          "iopub.execute_input": "2021-07-21T18:49:42.167742Z",
          "iopub.status.idle": "2021-07-21T18:49:42.182408Z",
          "shell.execute_reply.started": "2021-07-21T18:49:42.167709Z",
          "shell.execute_reply": "2021-07-21T18:49:42.181304Z"
        },
        "trusted": true,
        "id": "mcMDrl0qIbdd"
      },
      "source": [
        "# Creating model object\n",
        "model_dt = DecisionTreeClassifier( max_depth=4, random_state=42)"
      ],
      "execution_count": 55,
      "outputs": []
    },
    {
      "cell_type": "code",
      "metadata": {
        "execution": {
          "iopub.status.busy": "2021-07-21T18:49:42.183918Z",
          "iopub.execute_input": "2021-07-21T18:49:42.189311Z",
          "iopub.status.idle": "2021-07-21T18:49:42.20529Z",
          "shell.execute_reply.started": "2021-07-21T18:49:42.189238Z",
          "shell.execute_reply": "2021-07-21T18:49:42.203782Z"
        },
        "trusted": true,
        "colab": {
          "base_uri": "https://localhost:8080/"
        },
        "id": "X76QnJzxIbdd",
        "outputId": "13c257a5-0e52-49ab-8d91-0644d8a33bcf"
      },
      "source": [
        "# Training Model\n",
        "model_dt.fit(X_train,y_train)"
      ],
      "execution_count": 56,
      "outputs": [
        {
          "output_type": "execute_result",
          "data": {
            "text/plain": [
              "DecisionTreeClassifier(ccp_alpha=0.0, class_weight=None, criterion='gini',\n",
              "                       max_depth=4, max_features=None, max_leaf_nodes=None,\n",
              "                       min_impurity_decrease=0.0, min_impurity_split=None,\n",
              "                       min_samples_leaf=1, min_samples_split=2,\n",
              "                       min_weight_fraction_leaf=0.0, presort='deprecated',\n",
              "                       random_state=42, splitter='best')"
            ]
          },
          "metadata": {},
          "execution_count": 56
        }
      ]
    },
    {
      "cell_type": "code",
      "metadata": {
        "execution": {
          "iopub.status.busy": "2021-07-21T18:49:42.212457Z",
          "iopub.execute_input": "2021-07-21T18:49:42.212869Z",
          "iopub.status.idle": "2021-07-21T18:49:42.225064Z",
          "shell.execute_reply.started": "2021-07-21T18:49:42.212834Z",
          "shell.execute_reply": "2021-07-21T18:49:42.223118Z"
        },
        "trusted": true,
        "id": "o5LNMgGKIbde"
      },
      "source": [
        "# Making Prediction\n",
        "pred_dt = model_dt.predict(X_test)"
      ],
      "execution_count": 57,
      "outputs": []
    },
    {
      "cell_type": "code",
      "metadata": {
        "execution": {
          "iopub.status.busy": "2021-07-21T18:49:42.228455Z",
          "iopub.execute_input": "2021-07-21T18:49:42.228925Z",
          "iopub.status.idle": "2021-07-21T18:49:42.24482Z",
          "shell.execute_reply.started": "2021-07-21T18:49:42.228882Z",
          "shell.execute_reply": "2021-07-21T18:49:42.243498Z"
        },
        "trusted": true,
        "colab": {
          "base_uri": "https://localhost:8080/"
        },
        "id": "koqparbZIbde",
        "outputId": "51717300-37c2-40c5-8c37-77db809cc2bb"
      },
      "source": [
        "# Calculating Accuracy Score\n",
        "dt = accuracy_score(y_test, pred_dt)\n",
        "print(dt)"
      ],
      "execution_count": 58,
      "outputs": [
        {
          "output_type": "stream",
          "name": "stdout",
          "text": [
            "0.8524590163934426\n"
          ]
        }
      ]
    },
    {
      "cell_type": "code",
      "metadata": {
        "execution": {
          "iopub.status.busy": "2021-07-21T18:49:42.246543Z",
          "iopub.execute_input": "2021-07-21T18:49:42.246892Z",
          "iopub.status.idle": "2021-07-21T18:49:42.557871Z",
          "shell.execute_reply.started": "2021-07-21T18:49:42.246858Z",
          "shell.execute_reply": "2021-07-21T18:49:42.556545Z"
        },
        "trusted": true,
        "colab": {
          "base_uri": "https://localhost:8080/",
          "height": 282
        },
        "id": "BVuu8ECcIbde",
        "outputId": "3ce835ee-259c-4807-b645-fa1bdc19ec98"
      },
      "source": [
        "# confusion Maxtrix\n",
        "cm2 = confusion_matrix(y_test, pred_dt)\n",
        "sns.heatmap(cm2/np.sum(cm2), annot = True, fmt=  '0.2%', cmap = 'Reds')"
      ],
      "execution_count": 59,
      "outputs": [
        {
          "output_type": "execute_result",
          "data": {
            "text/plain": [
              "<matplotlib.axes._subplots.AxesSubplot at 0x7f6f6749a3d0>"
            ]
          },
          "metadata": {},
          "execution_count": 59
        },
        {
          "output_type": "display_data",
          "data": {
            "image/png": "[encoded data removed]",
            "text/plain": [
              "<Figure size 432x288 with 2 Axes>"
            ]
          },
          "metadata": {
            "needs_background": "light"
          }
        }
      ]
    },
    {
      "cell_type": "markdown",
      "metadata": {
        "id": "7U4YCr7yIbdf"
      },
      "source": [
        "* Here,  Type-1 Error is 4.92% which is also known as False Positive.\n",
        "* Type-2 Error is 9.84% which is also known as False Negative.\n",
        "* while other % value in the confusion matrix represents that they are correctly  predicted in their specific categories."
      ]
    },
    {
      "cell_type": "markdown",
      "metadata": {
        "id": "rrXwYVx3Ibdf"
      },
      "source": [
        "## Random Forest"
      ]
    },
    {
      "cell_type": "code",
      "metadata": {
        "execution": {
          "iopub.status.busy": "2021-07-21T18:49:42.559686Z",
          "iopub.execute_input": "2021-07-21T18:49:42.560154Z",
          "iopub.status.idle": "2021-07-21T18:49:42.566504Z",
          "shell.execute_reply.started": "2021-07-21T18:49:42.560106Z",
          "shell.execute_reply": "2021-07-21T18:49:42.564651Z"
        },
        "trusted": true,
        "id": "bIaBRPRHIbdf"
      },
      "source": [
        "from sklearn.ensemble import RandomForestClassifier"
      ],
      "execution_count": 60,
      "outputs": []
    },
    {
      "cell_type": "code",
      "metadata": {
        "execution": {
          "iopub.status.busy": "2021-07-21T18:49:42.568829Z",
          "iopub.execute_input": "2021-07-21T18:49:42.569348Z",
          "iopub.status.idle": "2021-07-21T18:49:42.582948Z",
          "shell.execute_reply.started": "2021-07-21T18:49:42.569299Z",
          "shell.execute_reply": "2021-07-21T18:49:42.581731Z"
        },
        "trusted": true,
        "id": "W_yk_GBXIbdg"
      },
      "source": [
        "# Creating model object\n",
        "model_rf = RandomForestClassifier(n_estimators=300,min_samples_leaf=0.16, random_state=42)"
      ],
      "execution_count": 61,
      "outputs": []
    },
    {
      "cell_type": "code",
      "metadata": {
        "execution": {
          "iopub.status.busy": "2021-07-21T18:49:42.584657Z",
          "iopub.execute_input": "2021-07-21T18:49:42.585378Z",
          "iopub.status.idle": "2021-07-21T18:49:43.176003Z",
          "shell.execute_reply.started": "2021-07-21T18:49:42.585323Z",
          "shell.execute_reply": "2021-07-21T18:49:43.174867Z"
        },
        "trusted": true,
        "colab": {
          "base_uri": "https://localhost:8080/"
        },
        "id": "ACyuMXBIIbdg",
        "outputId": "0bcf9408-7741-41bf-9573-76c32d7fac38"
      },
      "source": [
        "# Training Model\n",
        "model_rf.fit(X_train, y_train)"
      ],
      "execution_count": 62,
      "outputs": [
        {
          "output_type": "execute_result",
          "data": {
            "text/plain": [
              "RandomForestClassifier(bootstrap=True, ccp_alpha=0.0, class_weight=None,\n",
              "                       criterion='gini', max_depth=None, max_features='auto',\n",
              "                       max_leaf_nodes=None, max_samples=None,\n",
              "                       min_impurity_decrease=0.0, min_impurity_split=None,\n",
              "                       min_samples_leaf=0.16, min_samples_split=2,\n",
              "                       min_weight_fraction_leaf=0.0, n_estimators=300,\n",
              "                       n_jobs=None, oob_score=False, random_state=42, verbose=0,\n",
              "                       warm_start=False)"
            ]
          },
          "metadata": {},
          "execution_count": 62
        }
      ]
    },
    {
      "cell_type": "code",
      "metadata": {
        "execution": {
          "iopub.status.busy": "2021-07-21T18:49:43.177867Z",
          "iopub.execute_input": "2021-07-21T18:49:43.17835Z",
          "iopub.status.idle": "2021-07-21T18:49:43.218561Z",
          "shell.execute_reply.started": "2021-07-21T18:49:43.178305Z",
          "shell.execute_reply": "2021-07-21T18:49:43.217329Z"
        },
        "trusted": true,
        "id": "9jmPcQyGIbdg"
      },
      "source": [
        "# Making Prediction\n",
        "pred_rf = model_rf.predict(X_test)"
      ],
      "execution_count": 63,
      "outputs": []
    },
    {
      "cell_type": "code",
      "metadata": {
        "execution": {
          "iopub.status.busy": "2021-07-21T18:49:43.220028Z",
          "iopub.execute_input": "2021-07-21T18:49:43.220492Z",
          "iopub.status.idle": "2021-07-21T18:49:43.228157Z",
          "shell.execute_reply.started": "2021-07-21T18:49:43.220444Z",
          "shell.execute_reply": "2021-07-21T18:49:43.22664Z"
        },
        "trusted": true,
        "colab": {
          "base_uri": "https://localhost:8080/"
        },
        "id": "28t5ovF7Ibdh",
        "outputId": "20048090-6617-4d7c-ce80-337a000b8f52"
      },
      "source": [
        "# Calculating Accuracy Score\n",
        "rf = accuracy_score(y_test, pred_rf)\n",
        "print(rf)"
      ],
      "execution_count": 64,
      "outputs": [
        {
          "output_type": "stream",
          "name": "stdout",
          "text": [
            "0.9016393442622951\n"
          ]
        }
      ]
    },
    {
      "cell_type": "code",
      "metadata": {
        "execution": {
          "iopub.status.busy": "2021-07-21T18:49:43.230416Z",
          "iopub.execute_input": "2021-07-21T18:49:43.230946Z",
          "iopub.status.idle": "2021-07-21T18:49:43.52429Z",
          "shell.execute_reply.started": "2021-07-21T18:49:43.230893Z",
          "shell.execute_reply": "2021-07-21T18:49:43.523183Z"
        },
        "trusted": true,
        "colab": {
          "base_uri": "https://localhost:8080/",
          "height": 282
        },
        "id": "Z6pD3kdmIbdh",
        "outputId": "0fb7abbe-8513-43ec-a098-b21f36f0ebb2"
      },
      "source": [
        "# confusion Maxtrix\n",
        "cm3 = confusion_matrix(y_test, pred_rf)\n",
        "sns.heatmap(cm3/np.sum(cm3), annot = True, fmt=  '0.2%', cmap = 'Reds')"
      ],
      "execution_count": 65,
      "outputs": [
        {
          "output_type": "execute_result",
          "data": {
            "text/plain": [
              "<matplotlib.axes._subplots.AxesSubplot at 0x7f6f69186d50>"
            ]
          },
          "metadata": {},
          "execution_count": 65
        },
        {
          "output_type": "display_data",
          "data": {
            "image/png": "[encoded data removed]",
            "text/plain": [
              "<Figure size 432x288 with 2 Axes>"
            ]
          },
          "metadata": {
            "needs_background": "light"
          }
        }
      ]
    },
    {
      "cell_type": "markdown",
      "metadata": {
        "id": "JHanrkW9Ibdh"
      },
      "source": [
        "* Here,  Type-1 Error is 4.92% which is also known as False Positive.\n",
        "* Type-2 Error is 4.92% which is also known as False Negative.\n",
        "* while other % value in the confusion matrix represents that they are correctly  predicted in their specific categories."
      ]
    },
    {
      "cell_type": "markdown",
      "metadata": {
        "id": "CeYR3s0SIbdi"
      },
      "source": [
        "### XGBoost"
      ]
    },
    {
      "cell_type": "code",
      "metadata": {
        "execution": {
          "iopub.status.busy": "2021-07-21T18:49:43.525724Z",
          "iopub.execute_input": "2021-07-21T18:49:43.526066Z",
          "iopub.status.idle": "2021-07-21T18:49:43.532154Z",
          "shell.execute_reply.started": "2021-07-21T18:49:43.526034Z",
          "shell.execute_reply": "2021-07-21T18:49:43.531089Z"
        },
        "trusted": true,
        "id": "t9uhInomIbdi"
      },
      "source": [
        "from xgboost import XGBClassifier"
      ],
      "execution_count": 66,
      "outputs": []
    },
    {
      "cell_type": "code",
      "metadata": {
        "execution": {
          "iopub.status.busy": "2021-07-21T18:49:43.533326Z",
          "iopub.execute_input": "2021-07-21T18:49:43.53374Z",
          "iopub.status.idle": "2021-07-21T18:49:43.549599Z",
          "shell.execute_reply.started": "2021-07-21T18:49:43.533697Z",
          "shell.execute_reply": "2021-07-21T18:49:43.548153Z"
        },
        "trusted": true,
        "id": "h3hHU3X4Ibdi"
      },
      "source": [
        "# Creating model object\n",
        "model_xgb = XGBClassifier(max_depth= 8, n_estimators= 12, random_state= 42)"
      ],
      "execution_count": 67,
      "outputs": []
    },
    {
      "cell_type": "code",
      "metadata": {
        "execution": {
          "iopub.status.busy": "2021-07-21T18:49:43.551727Z",
          "iopub.execute_input": "2021-07-21T18:49:43.552293Z",
          "iopub.status.idle": "2021-07-21T18:49:43.591022Z",
          "shell.execute_reply.started": "2021-07-21T18:49:43.552247Z",
          "shell.execute_reply": "2021-07-21T18:49:43.589824Z"
        },
        "trusted": true,
        "colab": {
          "base_uri": "https://localhost:8080/"
        },
        "id": "pB0Be_VnIbdi",
        "outputId": "bbcf6ab5-c2b6-4e1e-cfd7-2aa9ecaa9662"
      },
      "source": [
        "# Training Model\n",
        "model_xgb.fit(X_train, y_train)"
      ],
      "execution_count": 68,
      "outputs": [
        {
          "output_type": "execute_result",
          "data": {
            "text/plain": [
              "XGBClassifier(base_score=0.5, booster='gbtree', colsample_bylevel=1,\n",
              "              colsample_bynode=1, colsample_bytree=1, gamma=0,\n",
              "              learning_rate=0.1, max_delta_step=0, max_depth=8,\n",
              "              min_child_weight=1, missing=None, n_estimators=12, n_jobs=1,\n",
              "              nthread=None, objective='binary:logistic', random_state=42,\n",
              "              reg_alpha=0, reg_lambda=1, scale_pos_weight=1, seed=None,\n",
              "              silent=None, subsample=1, verbosity=1)"
            ]
          },
          "metadata": {},
          "execution_count": 68
        }
      ]
    },
    {
      "cell_type": "code",
      "metadata": {
        "execution": {
          "iopub.status.busy": "2021-07-21T18:49:43.593686Z",
          "iopub.execute_input": "2021-07-21T18:49:43.594116Z",
          "iopub.status.idle": "2021-07-21T18:49:43.605228Z",
          "shell.execute_reply.started": "2021-07-21T18:49:43.594078Z",
          "shell.execute_reply": "2021-07-21T18:49:43.604067Z"
        },
        "trusted": true,
        "id": "Mqj0BWNrIbdj"
      },
      "source": [
        "# Making Prediction\n",
        "pred_xgb = model_xgb.predict(X_test)"
      ],
      "execution_count": 69,
      "outputs": []
    },
    {
      "cell_type": "code",
      "metadata": {
        "execution": {
          "iopub.status.busy": "2021-07-21T18:49:43.60971Z",
          "iopub.execute_input": "2021-07-21T18:49:43.610381Z",
          "iopub.status.idle": "2021-07-21T18:49:43.61704Z",
          "shell.execute_reply.started": "2021-07-21T18:49:43.610335Z",
          "shell.execute_reply": "2021-07-21T18:49:43.616261Z"
        },
        "trusted": true,
        "colab": {
          "base_uri": "https://localhost:8080/"
        },
        "id": "C67hqs1RIbdj",
        "outputId": "dc3d1f12-0aa8-4e49-9897-ebd88a133a96"
      },
      "source": [
        "# Calculating Accuracy Score\n",
        "xgb = accuracy_score(y_test, pred_xgb)\n",
        "print(xgb)"
      ],
      "execution_count": 70,
      "outputs": [
        {
          "output_type": "stream",
          "name": "stdout",
          "text": [
            "0.8360655737704918\n"
          ]
        }
      ]
    },
    {
      "cell_type": "code",
      "metadata": {
        "execution": {
          "iopub.status.busy": "2021-07-21T18:49:43.618163Z",
          "iopub.execute_input": "2021-07-21T18:49:43.618648Z",
          "iopub.status.idle": "2021-07-21T18:49:43.897304Z",
          "shell.execute_reply.started": "2021-07-21T18:49:43.618613Z",
          "shell.execute_reply": "2021-07-21T18:49:43.896037Z"
        },
        "trusted": true,
        "colab": {
          "base_uri": "https://localhost:8080/",
          "height": 282
        },
        "id": "UiYgqCS8Ibdj",
        "outputId": "eb58550a-cbc3-4931-fd2b-a20d2764f9bc"
      },
      "source": [
        "# confusion Maxtrix\n",
        "cm4 = confusion_matrix(y_test, pred_xgb)\n",
        "sns.heatmap(cm4/np.sum(cm4), annot = True, fmt=  '0.2%', cmap = 'Reds')"
      ],
      "execution_count": 71,
      "outputs": [
        {
          "output_type": "execute_result",
          "data": {
            "text/plain": [
              "<matplotlib.axes._subplots.AxesSubplot at 0x7f6f69518610>"
            ]
          },
          "metadata": {},
          "execution_count": 71
        },
        {
          "output_type": "display_data",
          "data": {
            "image/png": "[encoded data removed]",
            "text/plain": [
              "<Figure size 432x288 with 2 Axes>"
            ]
          },
          "metadata": {
            "needs_background": "light"
          }
        }
      ]
    },
    {
      "cell_type": "markdown",
      "metadata": {
        "id": "P_VG3fi_Ibdk"
      },
      "source": [
        "* Here,  Type-1 Error is 4.92% which is also known as False Positive.\n",
        "* Type-2 Error is 9.84% which is also known as False Negative.\n",
        "* while other % value in the confusion matrix represents that they are correctly  predicted in their specific categories."
      ]
    },
    {
      "cell_type": "markdown",
      "metadata": {
        "id": "n9wdDnawIbdk"
      },
      "source": [
        "### KNeighbours"
      ]
    },
    {
      "cell_type": "code",
      "metadata": {
        "execution": {
          "iopub.status.busy": "2021-07-21T18:49:43.89873Z",
          "iopub.execute_input": "2021-07-21T18:49:43.899072Z",
          "iopub.status.idle": "2021-07-21T18:49:43.903266Z",
          "shell.execute_reply.started": "2021-07-21T18:49:43.899042Z",
          "shell.execute_reply": "2021-07-21T18:49:43.902394Z"
        },
        "trusted": true,
        "id": "AvrFvKXKIbdk"
      },
      "source": [
        "from sklearn.neighbors import KNeighborsClassifier"
      ],
      "execution_count": 72,
      "outputs": []
    },
    {
      "cell_type": "code",
      "metadata": {
        "execution": {
          "iopub.status.busy": "2021-07-21T18:49:43.904401Z",
          "iopub.execute_input": "2021-07-21T18:49:43.90494Z",
          "iopub.status.idle": "2021-07-21T18:49:43.920783Z",
          "shell.execute_reply.started": "2021-07-21T18:49:43.904909Z",
          "shell.execute_reply": "2021-07-21T18:49:43.91941Z"
        },
        "trusted": true,
        "id": "t_7D7SJZIbdk"
      },
      "source": [
        "# Creating model object\n",
        "model_kn = KNeighborsClassifier(n_neighbors=9, leaf_size=20)"
      ],
      "execution_count": 73,
      "outputs": []
    },
    {
      "cell_type": "code",
      "metadata": {
        "execution": {
          "iopub.status.busy": "2021-07-21T18:49:43.922412Z",
          "iopub.execute_input": "2021-07-21T18:49:43.922734Z",
          "iopub.status.idle": "2021-07-21T18:49:43.944502Z",
          "shell.execute_reply.started": "2021-07-21T18:49:43.922707Z",
          "shell.execute_reply": "2021-07-21T18:49:43.943413Z"
        },
        "trusted": true,
        "colab": {
          "base_uri": "https://localhost:8080/"
        },
        "id": "OKLmd6WNIbdl",
        "outputId": "ade97a07-f2b7-4504-d752-d459b9a70a26"
      },
      "source": [
        "# Training Model\n",
        "model_kn.fit(X_train, y_train)"
      ],
      "execution_count": 74,
      "outputs": [
        {
          "output_type": "execute_result",
          "data": {
            "text/plain": [
              "KNeighborsClassifier(algorithm='auto', leaf_size=20, metric='minkowski',\n",
              "                     metric_params=None, n_jobs=None, n_neighbors=9, p=2,\n",
              "                     weights='uniform')"
            ]
          },
          "metadata": {},
          "execution_count": 74
        }
      ]
    },
    {
      "cell_type": "code",
      "metadata": {
        "execution": {
          "iopub.status.busy": "2021-07-21T18:49:43.945811Z",
          "iopub.execute_input": "2021-07-21T18:49:43.946239Z",
          "iopub.status.idle": "2021-07-21T18:49:43.968826Z",
          "shell.execute_reply.started": "2021-07-21T18:49:43.946207Z",
          "shell.execute_reply": "2021-07-21T18:49:43.967347Z"
        },
        "trusted": true,
        "id": "MaVmO4V_Ibdl"
      },
      "source": [
        "# Making Prediction\n",
        "pred_kn = model_kn.predict(X_test)\n"
      ],
      "execution_count": 75,
      "outputs": []
    },
    {
      "cell_type": "code",
      "metadata": {
        "execution": {
          "iopub.status.busy": "2021-07-21T18:49:43.971203Z",
          "iopub.execute_input": "2021-07-21T18:49:43.971646Z",
          "iopub.status.idle": "2021-07-21T18:49:43.981123Z",
          "shell.execute_reply.started": "2021-07-21T18:49:43.9716Z",
          "shell.execute_reply": "2021-07-21T18:49:43.98006Z"
        },
        "trusted": true,
        "colab": {
          "base_uri": "https://localhost:8080/"
        },
        "id": "T2Tiy9LlIbdl",
        "outputId": "d6a809a2-b649-4284-cb8e-9613157a701e"
      },
      "source": [
        "# Calculating Accuracy Score\n",
        "kn = accuracy_score(y_test, pred_kn)\n",
        "print(kn)"
      ],
      "execution_count": 76,
      "outputs": [
        {
          "output_type": "stream",
          "name": "stdout",
          "text": [
            "0.9016393442622951\n"
          ]
        }
      ]
    },
    {
      "cell_type": "code",
      "metadata": {
        "execution": {
          "iopub.status.busy": "2021-07-21T18:49:43.982636Z",
          "iopub.execute_input": "2021-07-21T18:49:43.983302Z",
          "iopub.status.idle": "2021-07-21T18:49:44.241787Z",
          "shell.execute_reply.started": "2021-07-21T18:49:43.983257Z",
          "shell.execute_reply": "2021-07-21T18:49:44.240443Z"
        },
        "trusted": true,
        "colab": {
          "base_uri": "https://localhost:8080/",
          "height": 282
        },
        "id": "u1KiAV-cIbdm",
        "outputId": "60451497-e042-4f73-acf7-45db9b507101"
      },
      "source": [
        "# confusion Maxtrix\n",
        "cm5 = confusion_matrix(y_test, pred_kn)\n",
        "sns.heatmap(cm5/np.sum(cm5), annot = True, fmt=  '0.2%', cmap = 'Reds')"
      ],
      "execution_count": 77,
      "outputs": [
        {
          "output_type": "execute_result",
          "data": {
            "text/plain": [
              "<matplotlib.axes._subplots.AxesSubplot at 0x7f6f69312c10>"
            ]
          },
          "metadata": {},
          "execution_count": 77
        },
        {
          "output_type": "display_data",
          "data": {
            "image/png": "[encoded data removed]",
            "text/plain": [
              "<Figure size 432x288 with 2 Axes>"
            ]
          },
          "metadata": {
            "needs_background": "light"
          }
        }
      ]
    },
    {
      "cell_type": "markdown",
      "metadata": {
        "id": "jPqHooF9Ibdm"
      },
      "source": [
        "* Here,  Type-1 Error is 6.56% which is also known as False Positive.\n",
        "* Type-2 Error is 3.28% which is also known as False Negative.\n",
        "* while other % value in the confusion matrix represents that they are correctly  predicted in their specific categories."
      ]
    },
    {
      "cell_type": "markdown",
      "metadata": {
        "id": "lHqRCsefIbdn"
      },
      "source": [
        "##  SVM"
      ]
    },
    {
      "cell_type": "code",
      "metadata": {
        "execution": {
          "iopub.status.busy": "2021-07-21T18:49:44.243993Z",
          "iopub.execute_input": "2021-07-21T18:49:44.244453Z",
          "iopub.status.idle": "2021-07-21T18:49:44.250161Z",
          "shell.execute_reply.started": "2021-07-21T18:49:44.244407Z",
          "shell.execute_reply": "2021-07-21T18:49:44.248836Z"
        },
        "trusted": true,
        "id": "FmI19E84Ibdn"
      },
      "source": [
        "from sklearn.svm import SVC, LinearSVC"
      ],
      "execution_count": 78,
      "outputs": []
    },
    {
      "cell_type": "code",
      "metadata": {
        "execution": {
          "iopub.status.busy": "2021-07-21T18:49:44.25172Z",
          "iopub.execute_input": "2021-07-21T18:49:44.252187Z",
          "iopub.status.idle": "2021-07-21T18:49:44.265071Z",
          "shell.execute_reply.started": "2021-07-21T18:49:44.252139Z",
          "shell.execute_reply": "2021-07-21T18:49:44.263439Z"
        },
        "trusted": true,
        "id": "Ij1BCbDMIbdo"
      },
      "source": [
        "model_svm = SVC(kernel='rbf', random_state = 42)"
      ],
      "execution_count": 79,
      "outputs": []
    },
    {
      "cell_type": "code",
      "metadata": {
        "execution": {
          "iopub.status.busy": "2021-07-21T18:49:44.266784Z",
          "iopub.execute_input": "2021-07-21T18:49:44.267324Z",
          "iopub.status.idle": "2021-07-21T18:49:44.290449Z",
          "shell.execute_reply.started": "2021-07-21T18:49:44.267279Z",
          "shell.execute_reply": "2021-07-21T18:49:44.289258Z"
        },
        "trusted": true,
        "colab": {
          "base_uri": "https://localhost:8080/"
        },
        "id": "gcHYhu5-Ibdo",
        "outputId": "27a2b806-2a3a-42a2-f6eb-84af00407baf"
      },
      "source": [
        "model_svm.fit(X_train, y_train)"
      ],
      "execution_count": 80,
      "outputs": [
        {
          "output_type": "execute_result",
          "data": {
            "text/plain": [
              "SVC(C=1.0, break_ties=False, cache_size=200, class_weight=None, coef0=0.0,\n",
              "    decision_function_shape='ovr', degree=3, gamma='scale', kernel='rbf',\n",
              "    max_iter=-1, probability=False, random_state=42, shrinking=True, tol=0.001,\n",
              "    verbose=False)"
            ]
          },
          "metadata": {},
          "execution_count": 80
        }
      ]
    },
    {
      "cell_type": "code",
      "metadata": {
        "execution": {
          "iopub.status.busy": "2021-07-21T18:49:44.294021Z",
          "iopub.execute_input": "2021-07-21T18:49:44.294419Z",
          "iopub.status.idle": "2021-07-21T18:49:44.302283Z",
          "shell.execute_reply.started": "2021-07-21T18:49:44.294386Z",
          "shell.execute_reply": "2021-07-21T18:49:44.30104Z"
        },
        "trusted": true,
        "id": "T_q_xijCIbdo"
      },
      "source": [
        "# Making Prediction\n",
        "pred_svm = model_svm.predict(X_test)"
      ],
      "execution_count": 81,
      "outputs": []
    },
    {
      "cell_type": "code",
      "metadata": {
        "execution": {
          "iopub.status.busy": "2021-07-21T18:49:44.303831Z",
          "iopub.execute_input": "2021-07-21T18:49:44.304292Z",
          "iopub.status.idle": "2021-07-21T18:49:44.321354Z",
          "shell.execute_reply.started": "2021-07-21T18:49:44.304256Z",
          "shell.execute_reply": "2021-07-21T18:49:44.319866Z"
        },
        "trusted": true,
        "colab": {
          "base_uri": "https://localhost:8080/"
        },
        "id": "Zz-koN0uIbdp",
        "outputId": "bce92676-2d21-46c8-edf6-e4c550b06c1c"
      },
      "source": [
        "# Calculating Accuracy Score\n",
        "sv = accuracy_score(y_test, pred_svm)\n",
        "print(sv)"
      ],
      "execution_count": 82,
      "outputs": [
        {
          "output_type": "stream",
          "name": "stdout",
          "text": [
            "0.8688524590163934\n"
          ]
        }
      ]
    },
    {
      "cell_type": "code",
      "metadata": {
        "execution": {
          "iopub.status.busy": "2021-07-21T18:49:44.322729Z",
          "iopub.execute_input": "2021-07-21T18:49:44.323072Z",
          "iopub.status.idle": "2021-07-21T18:49:44.60131Z",
          "shell.execute_reply.started": "2021-07-21T18:49:44.323039Z",
          "shell.execute_reply": "2021-07-21T18:49:44.599898Z"
        },
        "trusted": true,
        "colab": {
          "base_uri": "https://localhost:8080/",
          "height": 282
        },
        "id": "VdWWxfeGIbdp",
        "outputId": "fd1f38f5-b559-48e1-b0d0-1c8e4783164b"
      },
      "source": [
        "# confusion Maxtrix\n",
        "cm6 = confusion_matrix(y_test, pred_svm)\n",
        "sns.heatmap(cm6/np.sum(cm6), annot = True, fmt=  '0.2%', cmap = 'Reds')"
      ],
      "execution_count": 83,
      "outputs": [
        {
          "output_type": "execute_result",
          "data": {
            "text/plain": [
              "<matplotlib.axes._subplots.AxesSubplot at 0x7f6f69356890>"
            ]
          },
          "metadata": {},
          "execution_count": 83
        },
        {
          "output_type": "display_data",
          "data": {
            "image/png": "[encoded data removed]",
            "text/plain": [
              "<Figure size 432x288 with 2 Axes>"
            ]
          },
          "metadata": {
            "needs_background": "light"
          }
        }
      ]
    },
    {
      "cell_type": "markdown",
      "metadata": {
        "id": "AbTb--mHIbdp"
      },
      "source": [
        "* Here,  Type-1 Error is 6.56% which is also known as False Positive.\n",
        "* Type-2 Error is 6.56% which is also known as False Negative.\n",
        "* while other % value in the confusion matrix represents that they are correctly  predicted in their specific categories."
      ]
    },
    {
      "cell_type": "markdown",
      "metadata": {
        "id": "9pxBVbCGIbdq"
      },
      "source": [
        "### Accuracy score dataframe"
      ]
    },
    {
      "cell_type": "code",
      "metadata": {
        "execution": {
          "iopub.status.busy": "2021-07-21T18:49:44.60295Z",
          "iopub.execute_input": "2021-07-21T18:49:44.603306Z",
          "iopub.status.idle": "2021-07-21T18:49:44.799849Z",
          "shell.execute_reply.started": "2021-07-21T18:49:44.603274Z",
          "shell.execute_reply": "2021-07-21T18:49:44.798582Z"
        },
        "trusted": true,
        "colab": {
          "base_uri": "https://localhost:8080/",
          "height": 498
        },
        "id": "k7aDYeXrIbdq",
        "outputId": "3b575c4f-347b-46e4-e92c-987c3295bc16"
      },
      "source": [
        "models = pd.DataFrame({\n",
        "    'Model':['Logistic Regression', 'Decision Tree', 'Random Forest', 'XGBoost', 'KNeighbours', 'SVM'],\n",
        "    'Accuracy_score' :[lg, dt, rf, xgb, kn, sv]\n",
        "})\n",
        "models\n",
        "sns.barplot(x='Accuracy_score', y='Model', data=models)\n",
        "\n",
        "models.sort_values(by='Accuracy_score', ascending=False)"
      ],
      "execution_count": 84,
      "outputs": [
        {
          "output_type": "execute_result",
          "data": {
            "text/html": [
              "<div>\n",
              "<style scoped>\n",
              "    .dataframe tbody tr th:only-of-type {\n",
              "        vertical-align: middle;\n",
              "    }\n",
              "\n",
              "    .dataframe tbody tr th {\n",
              "        vertical-align: top;\n",
              "    }\n",
              "\n",
              "    .dataframe thead th {\n",
              "        text-align: right;\n",
              "    }\n",
              "</style>\n",
              "<table border=\"1\" class=\"dataframe\">\n",
              "  <thead>\n",
              "    <tr style=\"text-align: right;\">\n",
              "      <th></th>\n",
              "      <th>Model</th>\n",
              "      <th>Accuracy_score</th>\n",
              "    </tr>\n",
              "  </thead>\n",
              "  <tbody>\n",
              "    <tr>\n",
              "      <th>2</th>\n",
              "      <td>Random Forest</td>\n",
              "      <td>0.901639</td>\n",
              "    </tr>\n",
              "    <tr>\n",
              "      <th>4</th>\n",
              "      <td>KNeighbours</td>\n",
              "      <td>0.901639</td>\n",
              "    </tr>\n",
              "    <tr>\n",
              "      <th>5</th>\n",
              "      <td>SVM</td>\n",
              "      <td>0.868852</td>\n",
              "    </tr>\n",
              "    <tr>\n",
              "      <th>1</th>\n",
              "      <td>Decision Tree</td>\n",
              "      <td>0.852459</td>\n",
              "    </tr>\n",
              "    <tr>\n",
              "      <th>0</th>\n",
              "      <td>Logistic Regression</td>\n",
              "      <td>0.836066</td>\n",
              "    </tr>\n",
              "    <tr>\n",
              "      <th>3</th>\n",
              "      <td>XGBoost</td>\n",
              "      <td>0.836066</td>\n",
              "    </tr>\n",
              "  </tbody>\n",
              "</table>\n",
              "</div>"
            ],
            "text/plain": [
              "                 Model  Accuracy_score\n",
              "2        Random Forest        0.901639\n",
              "4          KNeighbours        0.901639\n",
              "5                  SVM        0.868852\n",
              "1        Decision Tree        0.852459\n",
              "0  Logistic Regression        0.836066\n",
              "3              XGBoost        0.836066"
            ]
          },
          "metadata": {},
          "execution_count": 84
        },
        {
          "output_type": "display_data",
          "data": {
            "image/png": "[encoded data removed]",
            "text/plain": [
              "<Figure size 432x288 with 1 Axes>"
            ]
          },
          "metadata": {
            "needs_background": "light"
          }
        }
      ]
    },
    {
      "cell_type": "markdown",
      "metadata": {
        "id": "ThGxVsltIbdq"
      },
      "source": [
        "### Conclusion :- After few hyperparameter tuning Random Forest and  Kneighbour Achieved the highest accuracy here "
      ]
    }
  ]
}